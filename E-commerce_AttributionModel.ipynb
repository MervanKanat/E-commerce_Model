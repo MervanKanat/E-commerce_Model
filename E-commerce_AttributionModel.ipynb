{
  "cells": [
    {
      "cell_type": "markdown",
      "metadata": {
        "id": "4YXuPDSTBXr0"
      },
      "source": [
        "# **Authenticate and set up BigQuery client:** ✔\n"
      ]
    },
    {
      "cell_type": "code",
      "execution_count": null,
      "metadata": {
        "colab": {
          "base_uri": "https://localhost:8080/",
          "height": 33,
          "referenced_widgets": [
            "39147a81b31742c092d19cc0d85b278c",
            "570a281a60f04683b129b4a1f4e04323"
          ]
        },
        "id": "rdyNGUy78tbd",
        "outputId": "121e4eae-c578-4a10-d312-0219a136a83a"
      },
      "outputs": [
        {
          "data": {
            "application/vnd.jupyter.widget-view+json": {
              "model_id": "39147a81b31742c092d19cc0d85b278c",
              "version_major": 2,
              "version_minor": 0
            },
            "text/plain": [
              "Output()"
            ]
          },
          "metadata": {},
          "output_type": "display_data"
        },
        {
          "data": {
            "text/html": [
              "<pre style=\"white-space:pre;overflow-x:auto;line-height:normal;font-family:Menlo,'DejaVu Sans Mono',consolas,'Courier New',monospace\"></pre>\n"
            ],
            "text/plain": []
          },
          "metadata": {},
          "output_type": "display_data"
        },
        {
          "data": {
            "text/html": [
              "<pre style=\"white-space:pre;overflow-x:auto;line-height:normal;font-family:Menlo,'DejaVu Sans Mono',consolas,'Courier New',monospace\">                                              <span style=\"color: #008000; text-decoration-color: #008000; font-weight: bold\">Configuration complete!</span>                                              \n",
              "</pre>\n"
            ],
            "text/plain": [
              "                                              \u001b[1;32mConfiguration complete!\u001b[0m                                              \n"
            ]
          },
          "metadata": {},
          "output_type": "display_data"
        }
      ],
      "source": [
        "# Configuration for Google Colab\n",
        "\n",
        "# !pip install google-cloud-bigquery\n",
        "# !pip install rich\n",
        "# !pip install pandas\n",
        "# !pip install seaborn\n",
        "# !pip install matplotlib\n",
        "\n",
        "from google.colab import auth\n",
        "from google.cloud import bigquery\n",
        "import pandas as pd\n",
        "import seaborn as sns\n",
        "import math\n",
        "import matplotlib.pyplot as plt\n",
        "from IPython.display import clear_output, display\n",
        "from google.colab import output\n",
        "import time\n",
        "\n",
        "from rich.console import Console\n",
        "from rich.table import Table\n",
        "from rich.panel import Panel\n",
        "from rich.text import Text\n",
        "from rich.align import Align\n",
        "from rich import box\n",
        "\n",
        "# Initialize Rich console\n",
        "console = Console()\n",
        "\n",
        "# Ignore warnings\n",
        "import warnings\n",
        "warnings.filterwarnings(\"ignore\")\n",
        "\n",
        "# Set up matplotlib for inline plotting in Colab\n",
        "%matplotlib inline\n",
        "\n",
        "# Configure pandas display options\n",
        "pd.set_option('display.max_columns', 100)\n",
        "pd.set_option('display.max_rows', 100)\n",
        "\n",
        "# Clear the output to remove installation messages\n",
        "clear_output()\n",
        "\n",
        "\n",
        "#Animation\n",
        "with console.status(\"[bold green]Configuring...\") as status:\n",
        "\n",
        "    time.sleep(2)\n",
        "    status.update(\"[bold green]Configuration complete!\")\n",
        "    time.sleep(1)\n",
        "\n",
        "console.print(Align(\"[bold green]Configuration complete![/bold green]\", align=\"center\"))\n"
      ]
    },
    {
      "cell_type": "code",
      "execution_count": null,
      "metadata": {
        "colab": {
          "base_uri": "https://localhost:8080/",
          "height": 225
        },
        "id": "pNxxElqh7jxM",
        "outputId": "e87c0a0c-5ee0-4867-fd22-ac33c5771257"
      },
      "outputs": [],
      "source": [
        "\n",
        "# Authenticate and create BigQuery client\n",
        "auth.authenticate_user()\n",
        "project_id = \"your_project_id\"  #------------------------------------------->Attention\n",
        "client = bigquery.Client(project=project_id)\n",
        "\n",
        "console.print(Panel(f\"[bold green]Current project ID:[/bold green] {project_id}\"))\n",
        "\n",
        "test_query = \"\"\"\n",
        "SELECT COUNT(*) as count\n",
        "FROM `bigquery-public-data.ga4_obfuscated_sample_ecommerce.events_20210131`\n",
        "\"\"\"\n",
        "\n",
        "try:\n",
        "    df = client.query(test_query).to_dataframe()\n",
        "\n",
        "    # Create a Rich table to display the result\n",
        "    table = Table(title=\"Test Query Result\")\n",
        "    table.add_column(\"Count\", style=\"cyan\")\n",
        "\n",
        "    for _, row in df.iterrows():\n",
        "        table.add_row(str(row['count']))\n",
        "\n",
        "    console.print(Panel(table, expand=False))\n",
        "\n",
        "except Exception as e:\n",
        "    console.print(Panel(f\"[bold red]An error occurred:[/bold red] {str(e)}\", expand=False))"
      ]
    },
    {
      "cell_type": "markdown",
      "metadata": {
        "id": "wrWMVYjHcHF6"
      },
      "source": [
        "#**Events and Users**"
      ]
    },
    {
      "cell_type": "code",
      "execution_count": null,
      "metadata": {
        "colab": {
          "base_uri": "https://localhost:8080/",
          "height": 145
        },
        "id": "e86IMizo_1N2",
        "outputId": "895f8878-cd3b-4f3f-c8b9-671a2863ba32"
      },
      "outputs": [
        {
          "data": {
            "text/html": [
              "<pre style=\"white-space:pre;overflow-x:auto;line-height:normal;font-family:Menlo,'DejaVu Sans Mono',consolas,'Courier New',monospace\">╭─────────────── Query Results ────────────────╮\n",
              "│ <span style=\"font-style: italic\">           Daily Events and Users           </span> │\n",
              "│ ┏━━━━━━━━━━━━┳━━━━━━━━━━━━━━┳━━━━━━━━━━━━━━┓ │\n",
              "│ ┃<span style=\"font-weight: bold\"> Date       </span>┃<span style=\"font-weight: bold\"> Total Events </span>┃<span style=\"font-weight: bold\"> Unique Users </span>┃ │\n",
              "│ ┡━━━━━━━━━━━━╇━━━━━━━━━━━━━━╇━━━━━━━━━━━━━━┩ │\n",
              "│ │<span style=\"color: #008080; text-decoration-color: #008080\"> 2021-01-31 </span>│<span style=\"color: #800080; text-decoration-color: #800080\"> 26489        </span>│<span style=\"color: #008000; text-decoration-color: #008000\"> 2546         </span>│ │\n",
              "│ └────────────┴──────────────┴──────────────┘ │\n",
              "╰──────────────────────────────────────────────╯\n",
              "</pre>\n"
            ],
            "text/plain": [
              "╭─────────────── Query Results ────────────────╮\n",
              "│ \u001b[3m           Daily Events and Users           \u001b[0m │\n",
              "│ ┏━━━━━━━━━━━━┳━━━━━━━━━━━━━━┳━━━━━━━━━━━━━━┓ │\n",
              "│ ┃\u001b[1m \u001b[0m\u001b[1mDate      \u001b[0m\u001b[1m \u001b[0m┃\u001b[1m \u001b[0m\u001b[1mTotal Events\u001b[0m\u001b[1m \u001b[0m┃\u001b[1m \u001b[0m\u001b[1mUnique Users\u001b[0m\u001b[1m \u001b[0m┃ │\n",
              "│ ┡━━━━━━━━━━━━╇━━━━━━━━━━━━━━╇━━━━━━━━━━━━━━┩ │\n",
              "│ │\u001b[36m \u001b[0m\u001b[36m2021-01-31\u001b[0m\u001b[36m \u001b[0m│\u001b[35m \u001b[0m\u001b[35m26489       \u001b[0m\u001b[35m \u001b[0m│\u001b[32m \u001b[0m\u001b[32m2546        \u001b[0m\u001b[32m \u001b[0m│ │\n",
              "│ └────────────┴──────────────┴──────────────┘ │\n",
              "╰──────────────────────────────────────────────╯\n"
            ]
          },
          "metadata": {},
          "output_type": "display_data"
        }
      ],
      "source": [
        "\n",
        "# Define the query\n",
        "query = \"\"\"\n",
        "SELECT\n",
        "  PARSE_DATE('%Y%m%d', event_date) AS date,\n",
        "  COUNT(*) AS total_events,\n",
        "  COUNT(DISTINCT user_pseudo_id) AS unique_users\n",
        "FROM\n",
        "  `bigquery-public-data.ga4_obfuscated_sample_ecommerce.events_20210131`\n",
        "GROUP BY\n",
        "  date\n",
        "ORDER BY\n",
        "  date\n",
        "\"\"\"\n",
        "\n",
        "# Execute the query and convert results to DataFrame\n",
        "df = client.query(query).to_dataframe()\n",
        "\n",
        "\n",
        "\n",
        "# Create a Rich table to display the data\n",
        "table = Table(title=\"Daily Events and Users\")\n",
        "table.add_column(\"Date\", style=\"cyan\")\n",
        "table.add_column(\"Total Events\", style=\"magenta\")\n",
        "table.add_column(\"Unique Users\", style=\"green\")\n",
        "\n",
        "for _, row in df.iterrows():\n",
        "    table.add_row(str(row['date']), str(row['total_events']), str(row['unique_users']))\n",
        "\n",
        "# Display the table\n",
        "console.print(Panel(table, title=\"Query Results\", expand=False))\n",
        "\n"
      ]
    },
    {
      "cell_type": "markdown",
      "metadata": {
        "id": "LpHbuCPsd0nK"
      },
      "source": [
        "#Nested Structures (Record)"
      ]
    },
    {
      "cell_type": "code",
      "execution_count": null,
      "metadata": {
        "colab": {
          "base_uri": "https://localhost:8080/",
          "height": 113
        },
        "id": "a3ZKjBhhe4md",
        "outputId": "8fd0ac7e-2618-42cc-fc7a-126285ef024a"
      },
      "outputs": [
        {
          "data": {
            "text/html": [
              "<pre style=\"white-space:pre;overflow-x:auto;line-height:normal;font-family:Menlo,'DejaVu Sans Mono',consolas,'Courier New',monospace\">╭────────────────────────────────────────────────── All Columns ──────────────────────────────────────────────────╮\n",
              "│ event_date, event_timestamp, event_name, event_params, event_previous_timestamp, event_value_in_usd,            │\n",
              "│ event_bundle_sequence_id, event_server_timestamp_offset, user_id, user_pseudo_id, privacy_info,                 │\n",
              "│ user_properties, user_first_touch_timestamp, user_ltv, device, geo, app_info, traffic_source, stream_id,        │\n",
              "│ platform, event_dimensions, ecommerce, items                                                                    │\n",
              "╰─────────────────────────────────────────────────────────────────────────────────────────────────────────────────╯\n",
              "</pre>\n"
            ],
            "text/plain": [
              "╭────────────────────────────────────────────────── All Columns ──────────────────────────────────────────────────╮\n",
              "│ event_date, event_timestamp, event_name, event_params, event_previous_timestamp, event_value_in_usd,            │\n",
              "│ event_bundle_sequence_id, event_server_timestamp_offset, user_id, user_pseudo_id, privacy_info,                 │\n",
              "│ user_properties, user_first_touch_timestamp, user_ltv, device, geo, app_info, traffic_source, stream_id,        │\n",
              "│ platform, event_dimensions, ecommerce, items                                                                    │\n",
              "╰─────────────────────────────────────────────────────────────────────────────────────────────────────────────────╯\n"
            ]
          },
          "metadata": {},
          "output_type": "display_data"
        }
      ],
      "source": [
        "query = \"\"\"\n",
        "SELECT *\n",
        "FROM `bigquery-public-data.ga4_obfuscated_sample_ecommerce.events_20210131`\n",
        "\"\"\"\n",
        "df = client.query(query).to_dataframe()\n",
        "\n",
        "console.print(Panel(\", \".join(df.columns), title=\"All Columns\", expand=False))"
      ]
    },
    {
      "cell_type": "code",
      "execution_count": null,
      "metadata": {
        "colab": {
          "base_uri": "https://localhost:8080/",
          "height": 758
        },
        "id": "37ykpoHkjU4h",
        "outputId": "5aceacdf-2a43-4ab1-c12c-94e761fc9ffa"
      },
      "outputs": [
        {
          "data": {
            "text/html": [
              "<pre style=\"white-space:pre;overflow-x:auto;line-height:normal;font-family:Menlo,'DejaVu Sans Mono',consolas,'Courier New',monospace\"><span style=\"color: #000080; text-decoration-color: #000080; font-weight: bold\">╭──────────────────────────────────────────────── DataFrame Info ─────────────────────────────────────────────────╮</span>\n",
              "<span style=\"color: #000080; text-decoration-color: #000080; font-weight: bold\">│</span> &lt;class 'pandas.core.frame.DataFrame'&gt;                                                                           <span style=\"color: #000080; text-decoration-color: #000080; font-weight: bold\">│</span>\n",
              "<span style=\"color: #000080; text-decoration-color: #000080; font-weight: bold\">│</span> RangeIndex: 26489 entries, 0 to 26488                                                                           <span style=\"color: #000080; text-decoration-color: #000080; font-weight: bold\">│</span>\n",
              "<span style=\"color: #000080; text-decoration-color: #000080; font-weight: bold\">│</span> Data columns (total 23 columns):                                                                                <span style=\"color: #000080; text-decoration-color: #000080; font-weight: bold\">│</span>\n",
              "<span style=\"color: #000080; text-decoration-color: #000080; font-weight: bold\">│</span>  #   Column                         Non-Null Count  Dtype                                                       <span style=\"color: #000080; text-decoration-color: #000080; font-weight: bold\">│</span>\n",
              "<span style=\"color: #000080; text-decoration-color: #000080; font-weight: bold\">│</span> ---  ------                         --------------  -----                                                       <span style=\"color: #000080; text-decoration-color: #000080; font-weight: bold\">│</span>\n",
              "<span style=\"color: #000080; text-decoration-color: #000080; font-weight: bold\">│</span>  0   event_date                     26489 non-null  object                                                      <span style=\"color: #000080; text-decoration-color: #000080; font-weight: bold\">│</span>\n",
              "<span style=\"color: #000080; text-decoration-color: #000080; font-weight: bold\">│</span>  1   event_timestamp                26489 non-null  Int64                                                       <span style=\"color: #000080; text-decoration-color: #000080; font-weight: bold\">│</span>\n",
              "<span style=\"color: #000080; text-decoration-color: #000080; font-weight: bold\">│</span>  2   event_name                     26489 non-null  object                                                      <span style=\"color: #000080; text-decoration-color: #000080; font-weight: bold\">│</span>\n",
              "<span style=\"color: #000080; text-decoration-color: #000080; font-weight: bold\">│</span>  3   event_params                   26489 non-null  object                                                      <span style=\"color: #000080; text-decoration-color: #000080; font-weight: bold\">│</span>\n",
              "<span style=\"color: #000080; text-decoration-color: #000080; font-weight: bold\">│</span>  4   event_previous_timestamp       0 non-null      Int64                                                       <span style=\"color: #000080; text-decoration-color: #000080; font-weight: bold\">│</span>\n",
              "<span style=\"color: #000080; text-decoration-color: #000080; font-weight: bold\">│</span>  5   event_value_in_usd             0 non-null      float64                                                     <span style=\"color: #000080; text-decoration-color: #000080; font-weight: bold\">│</span>\n",
              "<span style=\"color: #000080; text-decoration-color: #000080; font-weight: bold\">│</span>  6   event_bundle_sequence_id       26489 non-null  Int64                                                       <span style=\"color: #000080; text-decoration-color: #000080; font-weight: bold\">│</span>\n",
              "<span style=\"color: #000080; text-decoration-color: #000080; font-weight: bold\">│</span>  7   event_server_timestamp_offset  0 non-null      Int64                                                       <span style=\"color: #000080; text-decoration-color: #000080; font-weight: bold\">│</span>\n",
              "<span style=\"color: #000080; text-decoration-color: #000080; font-weight: bold\">│</span>  8   user_id                        0 non-null      object                                                      <span style=\"color: #000080; text-decoration-color: #000080; font-weight: bold\">│</span>\n",
              "<span style=\"color: #000080; text-decoration-color: #000080; font-weight: bold\">│</span>  9   user_pseudo_id                 26489 non-null  object                                                      <span style=\"color: #000080; text-decoration-color: #000080; font-weight: bold\">│</span>\n",
              "<span style=\"color: #000080; text-decoration-color: #000080; font-weight: bold\">│</span>  10  privacy_info                   26489 non-null  object                                                      <span style=\"color: #000080; text-decoration-color: #000080; font-weight: bold\">│</span>\n",
              "<span style=\"color: #000080; text-decoration-color: #000080; font-weight: bold\">│</span>  11  user_properties                26489 non-null  object                                                      <span style=\"color: #000080; text-decoration-color: #000080; font-weight: bold\">│</span>\n",
              "<span style=\"color: #000080; text-decoration-color: #000080; font-weight: bold\">│</span>  12  user_first_touch_timestamp     25531 non-null  Int64                                                       <span style=\"color: #000080; text-decoration-color: #000080; font-weight: bold\">│</span>\n",
              "<span style=\"color: #000080; text-decoration-color: #000080; font-weight: bold\">│</span>  13  user_ltv                       26489 non-null  object                                                      <span style=\"color: #000080; text-decoration-color: #000080; font-weight: bold\">│</span>\n",
              "<span style=\"color: #000080; text-decoration-color: #000080; font-weight: bold\">│</span>  14  device                         26489 non-null  object                                                      <span style=\"color: #000080; text-decoration-color: #000080; font-weight: bold\">│</span>\n",
              "<span style=\"color: #000080; text-decoration-color: #000080; font-weight: bold\">│</span>  15  geo                            26489 non-null  object                                                      <span style=\"color: #000080; text-decoration-color: #000080; font-weight: bold\">│</span>\n",
              "<span style=\"color: #000080; text-decoration-color: #000080; font-weight: bold\">│</span>  16  app_info                       0 non-null      object                                                      <span style=\"color: #000080; text-decoration-color: #000080; font-weight: bold\">│</span>\n",
              "<span style=\"color: #000080; text-decoration-color: #000080; font-weight: bold\">│</span>  17  traffic_source                 26489 non-null  object                                                      <span style=\"color: #000080; text-decoration-color: #000080; font-weight: bold\">│</span>\n",
              "<span style=\"color: #000080; text-decoration-color: #000080; font-weight: bold\">│</span>  18  stream_id                      26489 non-null  Int64                                                       <span style=\"color: #000080; text-decoration-color: #000080; font-weight: bold\">│</span>\n",
              "<span style=\"color: #000080; text-decoration-color: #000080; font-weight: bold\">│</span>  19  platform                       26489 non-null  object                                                      <span style=\"color: #000080; text-decoration-color: #000080; font-weight: bold\">│</span>\n",
              "<span style=\"color: #000080; text-decoration-color: #000080; font-weight: bold\">│</span>  20  event_dimensions               0 non-null      object                                                      <span style=\"color: #000080; text-decoration-color: #000080; font-weight: bold\">│</span>\n",
              "<span style=\"color: #000080; text-decoration-color: #000080; font-weight: bold\">│</span>  21  ecommerce                      26489 non-null  object                                                      <span style=\"color: #000080; text-decoration-color: #000080; font-weight: bold\">│</span>\n",
              "<span style=\"color: #000080; text-decoration-color: #000080; font-weight: bold\">│</span>  22  items                          26489 non-null  object                                                      <span style=\"color: #000080; text-decoration-color: #000080; font-weight: bold\">│</span>\n",
              "<span style=\"color: #000080; text-decoration-color: #000080; font-weight: bold\">│</span> dtypes: Int64(6), float64(1), object(16)                                                                        <span style=\"color: #000080; text-decoration-color: #000080; font-weight: bold\">│</span>\n",
              "<span style=\"color: #000080; text-decoration-color: #000080; font-weight: bold\">│</span> memory usage: 4.8+ MB                                                                                           <span style=\"color: #000080; text-decoration-color: #000080; font-weight: bold\">│</span>\n",
              "<span style=\"color: #000080; text-decoration-color: #000080; font-weight: bold\">│</span>                                                                                                                 <span style=\"color: #000080; text-decoration-color: #000080; font-weight: bold\">│</span>\n",
              "<span style=\"color: #000080; text-decoration-color: #000080; font-weight: bold\">╰─────────────────────────────────────────────────────────────────────────────────────────────────────────────────╯</span>\n",
              "</pre>\n"
            ],
            "text/plain": [
              "\u001b[1;34m╭─\u001b[0m\u001b[1;34m───────────────────────────────────────────────\u001b[0m\u001b[1;34m DataFrame Info \u001b[0m\u001b[1;34m────────────────────────────────────────────────\u001b[0m\u001b[1;34m─╮\u001b[0m\n",
              "\u001b[1;34m│\u001b[0m <class 'pandas.core.frame.DataFrame'>                                                                           \u001b[1;34m│\u001b[0m\n",
              "\u001b[1;34m│\u001b[0m RangeIndex: 26489 entries, 0 to 26488                                                                           \u001b[1;34m│\u001b[0m\n",
              "\u001b[1;34m│\u001b[0m Data columns (total 23 columns):                                                                                \u001b[1;34m│\u001b[0m\n",
              "\u001b[1;34m│\u001b[0m  #   Column                         Non-Null Count  Dtype                                                       \u001b[1;34m│\u001b[0m\n",
              "\u001b[1;34m│\u001b[0m ---  ------                         --------------  -----                                                       \u001b[1;34m│\u001b[0m\n",
              "\u001b[1;34m│\u001b[0m  0   event_date                     26489 non-null  object                                                      \u001b[1;34m│\u001b[0m\n",
              "\u001b[1;34m│\u001b[0m  1   event_timestamp                26489 non-null  Int64                                                       \u001b[1;34m│\u001b[0m\n",
              "\u001b[1;34m│\u001b[0m  2   event_name                     26489 non-null  object                                                      \u001b[1;34m│\u001b[0m\n",
              "\u001b[1;34m│\u001b[0m  3   event_params                   26489 non-null  object                                                      \u001b[1;34m│\u001b[0m\n",
              "\u001b[1;34m│\u001b[0m  4   event_previous_timestamp       0 non-null      Int64                                                       \u001b[1;34m│\u001b[0m\n",
              "\u001b[1;34m│\u001b[0m  5   event_value_in_usd             0 non-null      float64                                                     \u001b[1;34m│\u001b[0m\n",
              "\u001b[1;34m│\u001b[0m  6   event_bundle_sequence_id       26489 non-null  Int64                                                       \u001b[1;34m│\u001b[0m\n",
              "\u001b[1;34m│\u001b[0m  7   event_server_timestamp_offset  0 non-null      Int64                                                       \u001b[1;34m│\u001b[0m\n",
              "\u001b[1;34m│\u001b[0m  8   user_id                        0 non-null      object                                                      \u001b[1;34m│\u001b[0m\n",
              "\u001b[1;34m│\u001b[0m  9   user_pseudo_id                 26489 non-null  object                                                      \u001b[1;34m│\u001b[0m\n",
              "\u001b[1;34m│\u001b[0m  10  privacy_info                   26489 non-null  object                                                      \u001b[1;34m│\u001b[0m\n",
              "\u001b[1;34m│\u001b[0m  11  user_properties                26489 non-null  object                                                      \u001b[1;34m│\u001b[0m\n",
              "\u001b[1;34m│\u001b[0m  12  user_first_touch_timestamp     25531 non-null  Int64                                                       \u001b[1;34m│\u001b[0m\n",
              "\u001b[1;34m│\u001b[0m  13  user_ltv                       26489 non-null  object                                                      \u001b[1;34m│\u001b[0m\n",
              "\u001b[1;34m│\u001b[0m  14  device                         26489 non-null  object                                                      \u001b[1;34m│\u001b[0m\n",
              "\u001b[1;34m│\u001b[0m  15  geo                            26489 non-null  object                                                      \u001b[1;34m│\u001b[0m\n",
              "\u001b[1;34m│\u001b[0m  16  app_info                       0 non-null      object                                                      \u001b[1;34m│\u001b[0m\n",
              "\u001b[1;34m│\u001b[0m  17  traffic_source                 26489 non-null  object                                                      \u001b[1;34m│\u001b[0m\n",
              "\u001b[1;34m│\u001b[0m  18  stream_id                      26489 non-null  Int64                                                       \u001b[1;34m│\u001b[0m\n",
              "\u001b[1;34m│\u001b[0m  19  platform                       26489 non-null  object                                                      \u001b[1;34m│\u001b[0m\n",
              "\u001b[1;34m│\u001b[0m  20  event_dimensions               0 non-null      object                                                      \u001b[1;34m│\u001b[0m\n",
              "\u001b[1;34m│\u001b[0m  21  ecommerce                      26489 non-null  object                                                      \u001b[1;34m│\u001b[0m\n",
              "\u001b[1;34m│\u001b[0m  22  items                          26489 non-null  object                                                      \u001b[1;34m│\u001b[0m\n",
              "\u001b[1;34m│\u001b[0m dtypes: Int64(6), float64(1), object(16)                                                                        \u001b[1;34m│\u001b[0m\n",
              "\u001b[1;34m│\u001b[0m memory usage: 4.8+ MB                                                                                           \u001b[1;34m│\u001b[0m\n",
              "\u001b[1;34m│\u001b[0m                                                                                                                 \u001b[1;34m│\u001b[0m\n",
              "\u001b[1;34m╰─────────────────────────────────────────────────────────────────────────────────────────────────────────────────╯\u001b[0m\n"
            ]
          },
          "metadata": {},
          "output_type": "display_data"
        },
        {
          "data": {
            "text/html": [
              "<pre style=\"white-space:pre;overflow-x:auto;line-height:normal;font-family:Menlo,'DejaVu Sans Mono',consolas,'Courier New',monospace\"><span style=\"font-style: italic\">DataFrame Data Types </span>\n",
              "┏━━━━━━━━━━━┳━━━━━━━┓\n",
              "┃<span style=\"font-weight: bold\"> Data Type </span>┃<span style=\"font-weight: bold\"> Count </span>┃\n",
              "┡━━━━━━━━━━━╇━━━━━━━┩\n",
              "│<span style=\"color: #008080; text-decoration-color: #008080\"> object    </span>│<span style=\"color: #800080; text-decoration-color: #800080\"> 16    </span>│\n",
              "│<span style=\"color: #008080; text-decoration-color: #008080\"> Int64     </span>│<span style=\"color: #800080; text-decoration-color: #800080\"> 6     </span>│\n",
              "│<span style=\"color: #008080; text-decoration-color: #008080\"> float64   </span>│<span style=\"color: #800080; text-decoration-color: #800080\"> 1     </span>│\n",
              "└───────────┴───────┘\n",
              "</pre>\n"
            ],
            "text/plain": [
              "\u001b[3mDataFrame Data Types \u001b[0m\n",
              "┏━━━━━━━━━━━┳━━━━━━━┓\n",
              "┃\u001b[1m \u001b[0m\u001b[1mData Type\u001b[0m\u001b[1m \u001b[0m┃\u001b[1m \u001b[0m\u001b[1mCount\u001b[0m\u001b[1m \u001b[0m┃\n",
              "┡━━━━━━━━━━━╇━━━━━━━┩\n",
              "│\u001b[36m \u001b[0m\u001b[36mobject   \u001b[0m\u001b[36m \u001b[0m│\u001b[35m \u001b[0m\u001b[35m16   \u001b[0m\u001b[35m \u001b[0m│\n",
              "│\u001b[36m \u001b[0m\u001b[36mInt64    \u001b[0m\u001b[36m \u001b[0m│\u001b[35m \u001b[0m\u001b[35m6    \u001b[0m\u001b[35m \u001b[0m│\n",
              "│\u001b[36m \u001b[0m\u001b[36mfloat64  \u001b[0m\u001b[36m \u001b[0m│\u001b[35m \u001b[0m\u001b[35m1    \u001b[0m\u001b[35m \u001b[0m│\n",
              "└───────────┴───────┘\n"
            ]
          },
          "metadata": {},
          "output_type": "display_data"
        },
        {
          "data": {
            "text/html": [
              "<pre style=\"white-space:pre;overflow-x:auto;line-height:normal;font-family:Menlo,'DejaVu Sans Mono',consolas,'Courier New',monospace\"><span style=\"color: #000080; text-decoration-color: #000080; font-weight: bold\">╭──────────────────────────────────────────── Additional Information ─────────────────────────────────────────────╮</span>\n",
              "<span style=\"color: #000080; text-decoration-color: #000080; font-weight: bold\">│</span> Total number of columns: 23                                                                                     <span style=\"color: #000080; text-decoration-color: #000080; font-weight: bold\">│</span>\n",
              "<span style=\"color: #000080; text-decoration-color: #000080; font-weight: bold\">│</span> Total number of rows: 26489                                                                                     <span style=\"color: #000080; text-decoration-color: #000080; font-weight: bold\">│</span>\n",
              "<span style=\"color: #000080; text-decoration-color: #000080; font-weight: bold\">╰─────────────────────────────────────────────────────────────────────────────────────────────────────────────────╯</span>\n",
              "</pre>\n"
            ],
            "text/plain": [
              "\u001b[1;34m╭─\u001b[0m\u001b[1;34m───────────────────────────────────────────\u001b[0m\u001b[1;34m Additional Information \u001b[0m\u001b[1;34m────────────────────────────────────────────\u001b[0m\u001b[1;34m─╮\u001b[0m\n",
              "\u001b[1;34m│\u001b[0m Total number of columns: 23                                                                                     \u001b[1;34m│\u001b[0m\n",
              "\u001b[1;34m│\u001b[0m Total number of rows: 26489                                                                                     \u001b[1;34m│\u001b[0m\n",
              "\u001b[1;34m╰─────────────────────────────────────────────────────────────────────────────────────────────────────────────────╯\u001b[0m\n"
            ]
          },
          "metadata": {},
          "output_type": "display_data"
        }
      ],
      "source": [
        "from io import StringIO\n",
        "\n",
        "buffer = StringIO()\n",
        "df.info(buf=buffer)\n",
        "info_output = buffer.getvalue()\n",
        "\n",
        "info_panel = Panel(info_output, title=\"DataFrame Info\", border_style=\"bold blue\")\n",
        "console.print(info_panel)\n",
        "\n",
        "dtype_counts = pd.value_counts(df.dtypes)\n",
        "\n",
        "dtype_table = Table(title=\"DataFrame Data Types\")\n",
        "dtype_table.add_column(\"Data Type\", style=\"cyan\")\n",
        "dtype_table.add_column(\"Count\", style=\"magenta\")\n",
        "\n",
        "for dtype, count in dtype_counts.items():\n",
        "    dtype_table.add_row(str(dtype), str(count))\n",
        "\n",
        "console.print(dtype_table)\n",
        "\n",
        "console.print(Panel(\n",
        "    f\"Total number of columns: {len(df.columns)}\\nTotal number of rows: {len(df)}\",\n",
        "    title=\"Additional Information\",\n",
        "    border_style=\"bold blue\"\n",
        "))\n"
      ]
    },
    {
      "cell_type": "code",
      "execution_count": null,
      "metadata": {
        "colab": {
          "base_uri": "https://localhost:8080/",
          "height": 417
        },
        "id": "VYvF7v6KMR_j",
        "outputId": "67c748f3-de11-4001-e684-6b4fbfd4246d"
      },
      "outputs": [
        {
          "data": {
            "text/html": [
              "<pre style=\"white-space:pre;overflow-x:auto;line-height:normal;font-family:Menlo,'DejaVu Sans Mono',consolas,'Courier New',monospace\">DataFrame shape: <span style=\"font-weight: bold\">(</span><span style=\"color: #008080; text-decoration-color: #008080; font-weight: bold\">26489</span>, <span style=\"color: #008080; text-decoration-color: #008080; font-weight: bold\">23</span><span style=\"font-weight: bold\">)</span>\n",
              "</pre>\n"
            ],
            "text/plain": [
              "DataFrame shape: \u001b[1m(\u001b[0m\u001b[1;36m26489\u001b[0m, \u001b[1;36m23\u001b[0m\u001b[1m)\u001b[0m\n"
            ]
          },
          "metadata": {},
          "output_type": "display_data"
        },
        {
          "data": {
            "text/html": [
              "<pre style=\"white-space:pre;overflow-x:auto;line-height:normal;font-family:Menlo,'DejaVu Sans Mono',consolas,'Courier New',monospace\">DataFrame columns: <span style=\"font-weight: bold\">[</span><span style=\"color: #008000; text-decoration-color: #008000\">'event_date'</span>, <span style=\"color: #008000; text-decoration-color: #008000\">'event_timestamp'</span>, <span style=\"color: #008000; text-decoration-color: #008000\">'event_name'</span>, <span style=\"color: #008000; text-decoration-color: #008000\">'event_params'</span>, <span style=\"color: #008000; text-decoration-color: #008000\">'event_previous_timestamp'</span>, \n",
              "<span style=\"color: #008000; text-decoration-color: #008000\">'event_value_in_usd'</span>, <span style=\"color: #008000; text-decoration-color: #008000\">'event_bundle_sequence_id'</span>, <span style=\"color: #008000; text-decoration-color: #008000\">'event_server_timestamp_offset'</span>, <span style=\"color: #008000; text-decoration-color: #008000\">'user_id'</span>, <span style=\"color: #008000; text-decoration-color: #008000\">'user_pseudo_id'</span>, \n",
              "<span style=\"color: #008000; text-decoration-color: #008000\">'privacy_info'</span>, <span style=\"color: #008000; text-decoration-color: #008000\">'user_properties'</span>, <span style=\"color: #008000; text-decoration-color: #008000\">'user_first_touch_timestamp'</span>, <span style=\"color: #008000; text-decoration-color: #008000\">'user_ltv'</span>, <span style=\"color: #008000; text-decoration-color: #008000\">'device'</span>, <span style=\"color: #008000; text-decoration-color: #008000\">'geo'</span>, <span style=\"color: #008000; text-decoration-color: #008000\">'app_info'</span>, \n",
              "<span style=\"color: #008000; text-decoration-color: #008000\">'traffic_source'</span>, <span style=\"color: #008000; text-decoration-color: #008000\">'stream_id'</span>, <span style=\"color: #008000; text-decoration-color: #008000\">'platform'</span>, <span style=\"color: #008000; text-decoration-color: #008000\">'event_dimensions'</span>, <span style=\"color: #008000; text-decoration-color: #008000\">'ecommerce'</span>, <span style=\"color: #008000; text-decoration-color: #008000\">'items'</span><span style=\"font-weight: bold\">]</span>\n",
              "</pre>\n"
            ],
            "text/plain": [
              "DataFrame columns: \u001b[1m[\u001b[0m\u001b[32m'event_date'\u001b[0m, \u001b[32m'event_timestamp'\u001b[0m, \u001b[32m'event_name'\u001b[0m, \u001b[32m'event_params'\u001b[0m, \u001b[32m'event_previous_timestamp'\u001b[0m, \n",
              "\u001b[32m'event_value_in_usd'\u001b[0m, \u001b[32m'event_bundle_sequence_id'\u001b[0m, \u001b[32m'event_server_timestamp_offset'\u001b[0m, \u001b[32m'user_id'\u001b[0m, \u001b[32m'user_pseudo_id'\u001b[0m, \n",
              "\u001b[32m'privacy_info'\u001b[0m, \u001b[32m'user_properties'\u001b[0m, \u001b[32m'user_first_touch_timestamp'\u001b[0m, \u001b[32m'user_ltv'\u001b[0m, \u001b[32m'device'\u001b[0m, \u001b[32m'geo'\u001b[0m, \u001b[32m'app_info'\u001b[0m, \n",
              "\u001b[32m'traffic_source'\u001b[0m, \u001b[32m'stream_id'\u001b[0m, \u001b[32m'platform'\u001b[0m, \u001b[32m'event_dimensions'\u001b[0m, \u001b[32m'ecommerce'\u001b[0m, \u001b[32m'items'\u001b[0m\u001b[1m]\u001b[0m\n"
            ]
          },
          "metadata": {},
          "output_type": "display_data"
        },
        {
          "data": {
            "text/html": [
              "<pre style=\"white-space:pre;overflow-x:auto;line-height:normal;font-family:Menlo,'DejaVu Sans Mono',consolas,'Courier New',monospace\"><span style=\"font-style: italic\">                      Device                       </span>\n",
              "┏━━━━━━━━━━┳━━━━━━━━━━━━━━━━━━━┳━━━━━━━━━━━━━━━━━━┓\n",
              "┃<span style=\"color: #800080; text-decoration-color: #800080; font-weight: bold\"> category </span>┃<span style=\"color: #800080; text-decoration-color: #800080; font-weight: bold\"> mobile_brand_name </span>┃<span style=\"color: #800080; text-decoration-color: #800080; font-weight: bold\"> operating_system </span>┃\n",
              "┡━━━━━━━━━━╇━━━━━━━━━━━━━━━━━━━╇━━━━━━━━━━━━━━━━━━┩\n",
              "│<span style=\"color: #008080; text-decoration-color: #008080\"> mobile   </span>│<span style=\"color: #008080; text-decoration-color: #008080\"> Apple             </span>│<span style=\"color: #008080; text-decoration-color: #008080\"> Web              </span>│\n",
              "│<span style=\"color: #008080; text-decoration-color: #008080\"> mobile   </span>│<span style=\"color: #008080; text-decoration-color: #008080\"> Apple             </span>│<span style=\"color: #008080; text-decoration-color: #008080\"> Web              </span>│\n",
              "│<span style=\"color: #008080; text-decoration-color: #008080\"> mobile   </span>│<span style=\"color: #008080; text-decoration-color: #008080\"> Apple             </span>│<span style=\"color: #008080; text-decoration-color: #008080\"> Web              </span>│\n",
              "│<span style=\"color: #008080; text-decoration-color: #008080\"> mobile   </span>│<span style=\"color: #008080; text-decoration-color: #008080\"> Apple             </span>│<span style=\"color: #008080; text-decoration-color: #008080\"> Web              </span>│\n",
              "│<span style=\"color: #008080; text-decoration-color: #008080\"> mobile   </span>│<span style=\"color: #008080; text-decoration-color: #008080\"> Apple             </span>│<span style=\"color: #008080; text-decoration-color: #008080\"> Web              </span>│\n",
              "└──────────┴───────────────────┴──────────────────┘\n",
              "</pre>\n"
            ],
            "text/plain": [
              "\u001b[3m                      Device                       \u001b[0m\n",
              "┏━━━━━━━━━━┳━━━━━━━━━━━━━━━━━━━┳━━━━━━━━━━━━━━━━━━┓\n",
              "┃\u001b[1;35m \u001b[0m\u001b[1;35mcategory\u001b[0m\u001b[1;35m \u001b[0m┃\u001b[1;35m \u001b[0m\u001b[1;35mmobile_brand_name\u001b[0m\u001b[1;35m \u001b[0m┃\u001b[1;35m \u001b[0m\u001b[1;35moperating_system\u001b[0m\u001b[1;35m \u001b[0m┃\n",
              "┡━━━━━━━━━━╇━━━━━━━━━━━━━━━━━━━╇━━━━━━━━━━━━━━━━━━┩\n",
              "│\u001b[36m \u001b[0m\u001b[36mmobile  \u001b[0m\u001b[36m \u001b[0m│\u001b[36m \u001b[0m\u001b[36mApple            \u001b[0m\u001b[36m \u001b[0m│\u001b[36m \u001b[0m\u001b[36mWeb             \u001b[0m\u001b[36m \u001b[0m│\n",
              "│\u001b[36m \u001b[0m\u001b[36mmobile  \u001b[0m\u001b[36m \u001b[0m│\u001b[36m \u001b[0m\u001b[36mApple            \u001b[0m\u001b[36m \u001b[0m│\u001b[36m \u001b[0m\u001b[36mWeb             \u001b[0m\u001b[36m \u001b[0m│\n",
              "│\u001b[36m \u001b[0m\u001b[36mmobile  \u001b[0m\u001b[36m \u001b[0m│\u001b[36m \u001b[0m\u001b[36mApple            \u001b[0m\u001b[36m \u001b[0m│\u001b[36m \u001b[0m\u001b[36mWeb             \u001b[0m\u001b[36m \u001b[0m│\n",
              "│\u001b[36m \u001b[0m\u001b[36mmobile  \u001b[0m\u001b[36m \u001b[0m│\u001b[36m \u001b[0m\u001b[36mApple            \u001b[0m\u001b[36m \u001b[0m│\u001b[36m \u001b[0m\u001b[36mWeb             \u001b[0m\u001b[36m \u001b[0m│\n",
              "│\u001b[36m \u001b[0m\u001b[36mmobile  \u001b[0m\u001b[36m \u001b[0m│\u001b[36m \u001b[0m\u001b[36mApple            \u001b[0m\u001b[36m \u001b[0m│\u001b[36m \u001b[0m\u001b[36mWeb             \u001b[0m\u001b[36m \u001b[0m│\n",
              "└──────────┴───────────────────┴──────────────────┘\n"
            ]
          },
          "metadata": {},
          "output_type": "display_data"
        },
        {
          "data": {
            "text/html": [
              "<pre style=\"white-space:pre;overflow-x:auto;line-height:normal;font-family:Menlo,'DejaVu Sans Mono',consolas,'Courier New',monospace\"><span style=\"font-style: italic\">                                         Geo                                          </span>\n",
              "┏━━━━━━━━━━━┳━━━━━━━━━━━━━━━━━━┳━━━━━━━━━━━━━━━┳━━━━━━━━━━━━┳━━━━━━━━━━━━┳━━━━━━━━━━━┓\n",
              "┃<span style=\"color: #800080; text-decoration-color: #800080; font-weight: bold\"> continent </span>┃<span style=\"color: #800080; text-decoration-color: #800080; font-weight: bold\"> sub_continent    </span>┃<span style=\"color: #800080; text-decoration-color: #800080; font-weight: bold\"> country       </span>┃<span style=\"color: #800080; text-decoration-color: #800080; font-weight: bold\"> region     </span>┃<span style=\"color: #800080; text-decoration-color: #800080; font-weight: bold\"> city       </span>┃<span style=\"color: #800080; text-decoration-color: #800080; font-weight: bold\"> metro     </span>┃\n",
              "┡━━━━━━━━━━━╇━━━━━━━━━━━━━━━━━━╇━━━━━━━━━━━━━━━╇━━━━━━━━━━━━╇━━━━━━━━━━━━╇━━━━━━━━━━━┩\n",
              "│<span style=\"color: #008080; text-decoration-color: #008080\"> Americas  </span>│<span style=\"color: #008080; text-decoration-color: #008080\"> Northern America </span>│<span style=\"color: #008080; text-decoration-color: #008080\"> United States </span>│<span style=\"color: #008080; text-decoration-color: #008080\"> California </span>│<span style=\"color: #008080; text-decoration-color: #008080\"> San Carlos </span>│<span style=\"color: #008080; text-decoration-color: #008080\"> (not set) </span>│\n",
              "│<span style=\"color: #008080; text-decoration-color: #008080\"> Americas  </span>│<span style=\"color: #008080; text-decoration-color: #008080\"> Northern America </span>│<span style=\"color: #008080; text-decoration-color: #008080\"> United States </span>│<span style=\"color: #008080; text-decoration-color: #008080\"> California </span>│<span style=\"color: #008080; text-decoration-color: #008080\"> San Carlos </span>│<span style=\"color: #008080; text-decoration-color: #008080\"> (not set) </span>│\n",
              "│<span style=\"color: #008080; text-decoration-color: #008080\"> Americas  </span>│<span style=\"color: #008080; text-decoration-color: #008080\"> Northern America </span>│<span style=\"color: #008080; text-decoration-color: #008080\"> United States </span>│<span style=\"color: #008080; text-decoration-color: #008080\"> California </span>│<span style=\"color: #008080; text-decoration-color: #008080\"> San Carlos </span>│<span style=\"color: #008080; text-decoration-color: #008080\"> (not set) </span>│\n",
              "│<span style=\"color: #008080; text-decoration-color: #008080\"> Americas  </span>│<span style=\"color: #008080; text-decoration-color: #008080\"> Northern America </span>│<span style=\"color: #008080; text-decoration-color: #008080\"> United States </span>│<span style=\"color: #008080; text-decoration-color: #008080\"> California </span>│<span style=\"color: #008080; text-decoration-color: #008080\"> San Carlos </span>│<span style=\"color: #008080; text-decoration-color: #008080\"> (not set) </span>│\n",
              "│<span style=\"color: #008080; text-decoration-color: #008080\"> Americas  </span>│<span style=\"color: #008080; text-decoration-color: #008080\"> Northern America </span>│<span style=\"color: #008080; text-decoration-color: #008080\"> United States </span>│<span style=\"color: #008080; text-decoration-color: #008080\"> California </span>│<span style=\"color: #008080; text-decoration-color: #008080\"> San Carlos </span>│<span style=\"color: #008080; text-decoration-color: #008080\"> (not set) </span>│\n",
              "└───────────┴──────────────────┴───────────────┴────────────┴────────────┴───────────┘\n",
              "</pre>\n"
            ],
            "text/plain": [
              "\u001b[3m                                         Geo                                          \u001b[0m\n",
              "┏━━━━━━━━━━━┳━━━━━━━━━━━━━━━━━━┳━━━━━━━━━━━━━━━┳━━━━━━━━━━━━┳━━━━━━━━━━━━┳━━━━━━━━━━━┓\n",
              "┃\u001b[1;35m \u001b[0m\u001b[1;35mcontinent\u001b[0m\u001b[1;35m \u001b[0m┃\u001b[1;35m \u001b[0m\u001b[1;35msub_continent   \u001b[0m\u001b[1;35m \u001b[0m┃\u001b[1;35m \u001b[0m\u001b[1;35mcountry      \u001b[0m\u001b[1;35m \u001b[0m┃\u001b[1;35m \u001b[0m\u001b[1;35mregion    \u001b[0m\u001b[1;35m \u001b[0m┃\u001b[1;35m \u001b[0m\u001b[1;35mcity      \u001b[0m\u001b[1;35m \u001b[0m┃\u001b[1;35m \u001b[0m\u001b[1;35mmetro    \u001b[0m\u001b[1;35m \u001b[0m┃\n",
              "┡━━━━━━━━━━━╇━━━━━━━━━━━━━━━━━━╇━━━━━━━━━━━━━━━╇━━━━━━━━━━━━╇━━━━━━━━━━━━╇━━━━━━━━━━━┩\n",
              "│\u001b[36m \u001b[0m\u001b[36mAmericas \u001b[0m\u001b[36m \u001b[0m│\u001b[36m \u001b[0m\u001b[36mNorthern America\u001b[0m\u001b[36m \u001b[0m│\u001b[36m \u001b[0m\u001b[36mUnited States\u001b[0m\u001b[36m \u001b[0m│\u001b[36m \u001b[0m\u001b[36mCalifornia\u001b[0m\u001b[36m \u001b[0m│\u001b[36m \u001b[0m\u001b[36mSan Carlos\u001b[0m\u001b[36m \u001b[0m│\u001b[36m \u001b[0m\u001b[36m(not set)\u001b[0m\u001b[36m \u001b[0m│\n",
              "│\u001b[36m \u001b[0m\u001b[36mAmericas \u001b[0m\u001b[36m \u001b[0m│\u001b[36m \u001b[0m\u001b[36mNorthern America\u001b[0m\u001b[36m \u001b[0m│\u001b[36m \u001b[0m\u001b[36mUnited States\u001b[0m\u001b[36m \u001b[0m│\u001b[36m \u001b[0m\u001b[36mCalifornia\u001b[0m\u001b[36m \u001b[0m│\u001b[36m \u001b[0m\u001b[36mSan Carlos\u001b[0m\u001b[36m \u001b[0m│\u001b[36m \u001b[0m\u001b[36m(not set)\u001b[0m\u001b[36m \u001b[0m│\n",
              "│\u001b[36m \u001b[0m\u001b[36mAmericas \u001b[0m\u001b[36m \u001b[0m│\u001b[36m \u001b[0m\u001b[36mNorthern America\u001b[0m\u001b[36m \u001b[0m│\u001b[36m \u001b[0m\u001b[36mUnited States\u001b[0m\u001b[36m \u001b[0m│\u001b[36m \u001b[0m\u001b[36mCalifornia\u001b[0m\u001b[36m \u001b[0m│\u001b[36m \u001b[0m\u001b[36mSan Carlos\u001b[0m\u001b[36m \u001b[0m│\u001b[36m \u001b[0m\u001b[36m(not set)\u001b[0m\u001b[36m \u001b[0m│\n",
              "│\u001b[36m \u001b[0m\u001b[36mAmericas \u001b[0m\u001b[36m \u001b[0m│\u001b[36m \u001b[0m\u001b[36mNorthern America\u001b[0m\u001b[36m \u001b[0m│\u001b[36m \u001b[0m\u001b[36mUnited States\u001b[0m\u001b[36m \u001b[0m│\u001b[36m \u001b[0m\u001b[36mCalifornia\u001b[0m\u001b[36m \u001b[0m│\u001b[36m \u001b[0m\u001b[36mSan Carlos\u001b[0m\u001b[36m \u001b[0m│\u001b[36m \u001b[0m\u001b[36m(not set)\u001b[0m\u001b[36m \u001b[0m│\n",
              "│\u001b[36m \u001b[0m\u001b[36mAmericas \u001b[0m\u001b[36m \u001b[0m│\u001b[36m \u001b[0m\u001b[36mNorthern America\u001b[0m\u001b[36m \u001b[0m│\u001b[36m \u001b[0m\u001b[36mUnited States\u001b[0m\u001b[36m \u001b[0m│\u001b[36m \u001b[0m\u001b[36mCalifornia\u001b[0m\u001b[36m \u001b[0m│\u001b[36m \u001b[0m\u001b[36mSan Carlos\u001b[0m\u001b[36m \u001b[0m│\u001b[36m \u001b[0m\u001b[36m(not set)\u001b[0m\u001b[36m \u001b[0m│\n",
              "└───────────┴──────────────────┴───────────────┴────────────┴────────────┴───────────┘\n"
            ]
          },
          "metadata": {},
          "output_type": "display_data"
        }
      ],
      "source": [
        "\n",
        "def create_table(data, title, columns_to_show=None):\n",
        "    table = Table(title=title, show_header=True, header_style=\"bold magenta\")\n",
        "\n",
        "    # Add only specified columns or all if not specified\n",
        "    columns = columns_to_show if columns_to_show else data[0].keys()\n",
        "    for key in columns:\n",
        "        table.add_column(key, style=\"cyan\")\n",
        "\n",
        "    # Add rows\n",
        "    for item in data:\n",
        "        table.add_row(*[str(item.get(key, '')) for key in columns])\n",
        "\n",
        "    return table\n",
        "\n",
        "# Assuming df is your DataFrame\n",
        "# Let's first check if the DataFrame is loaded correctly\n",
        "console.print(f\"DataFrame shape: {df.shape}\")\n",
        "console.print(f\"DataFrame columns: {df.columns.tolist()}\")\n",
        "\n",
        "# Now let's create and print the device table\n",
        "if 'device' in df.columns:\n",
        "    device_data = df['device'].head().tolist()\n",
        "    device_table = create_table(device_data, \"Device\",\n",
        "                                ['category', 'mobile_brand_name', 'operating_system'])\n",
        "    console.print(device_table)\n",
        "else:\n",
        "    console.print(\"'device' column not found in the DataFrame\")\n",
        "\n",
        "# Let's also create and print tables for other nested structures\n",
        "if 'geo' in df.columns:\n",
        "    geo_table = create_table(df['geo'].head().tolist(), \"Geo\")\n",
        "    console.print(geo_table)\n"
      ]
    },
    {
      "cell_type": "code",
      "execution_count": null,
      "metadata": {
        "colab": {
          "base_uri": "https://localhost:8080/",
          "height": 1000
        },
        "id": "asCBxXGd0H-x",
        "outputId": "ceef2ae1-5552-4277-f170-65c7fd0ac1dd"
      },
      "outputs": [
        {
          "data": {
            "text/html": [
              "<pre style=\"white-space:pre;overflow-x:auto;line-height:normal;font-family:Menlo,'DejaVu Sans Mono',consolas,'Courier New',monospace\"><span style=\"color: #008000; text-decoration-color: #008000; font-weight: bold\">╭─────────────────────────────────────────────────────────────────────────────────────────────────────────────────╮</span>\n",
              "<span style=\"color: #008000; text-decoration-color: #008000; font-weight: bold\">│ Analyzing 23 columns                                                                                            │</span>\n",
              "<span style=\"color: #008000; text-decoration-color: #008000; font-weight: bold\">╰─────────────────────────────────────────────────────────────────────────────────────────────────────────────────╯</span>\n",
              "</pre>\n"
            ],
            "text/plain": [
              "\u001b[1;32m╭─────────────────────────────────────────────────────────────────────────────────────────────────────────────────╮\u001b[0m\n",
              "\u001b[1;32m│\u001b[0m\u001b[1;32m \u001b[0m\u001b[1;32mAnalyzing 23 columns\u001b[0m\u001b[1;32m                                                                                           \u001b[0m\u001b[1;32m \u001b[0m\u001b[1;32m│\u001b[0m\n",
              "\u001b[1;32m╰─────────────────────────────────────────────────────────────────────────────────────────────────────────────────╯\u001b[0m\n"
            ]
          },
          "metadata": {},
          "output_type": "display_data"
        },
        {
          "data": {
            "text/html": [
              "<pre style=\"white-space:pre;overflow-x:auto;line-height:normal;font-family:Menlo,'DejaVu Sans Mono',consolas,'Courier New',monospace\">\n",
              "Nested structure for privacy_info <span style=\"font-weight: bold\">(</span>Depth: <span style=\"color: #008080; text-decoration-color: #008080; font-weight: bold\">1</span><span style=\"font-weight: bold\">)</span>:\n",
              "</pre>\n"
            ],
            "text/plain": [
              "\n",
              "Nested structure for privacy_info \u001b[1m(\u001b[0mDepth: \u001b[1;36m1\u001b[0m\u001b[1m)\u001b[0m:\n"
            ]
          },
          "metadata": {},
          "output_type": "display_data"
        },
        {
          "data": {
            "text/html": [
              "<pre style=\"white-space:pre;overflow-x:auto;line-height:normal;font-family:Menlo,'DejaVu Sans Mono',consolas,'Courier New',monospace\"><span style=\"font-style: italic\">                           Data Structure (Depth: 1)                           </span>\n",
              "┏━━━━━━━━━━━━━━━━━━━━━━━━━━━━━━━━━━━┳━━━━━━━━┳━━━━━━━━━━━━━━━━━━┳━━━━━━━━━━━━━┓\n",
              "┃<span style=\"font-weight: bold\"> Column                            </span>┃<span style=\"font-weight: bold\"> Type   </span>┃<span style=\"font-weight: bold\"> Nested Structure </span>┃<span style=\"font-weight: bold\"> Sample Data </span>┃\n",
              "┡━━━━━━━━━━━━━━━━━━━━━━━━━━━━━━━━━━━╇━━━━━━━━╇━━━━━━━━━━━━━━━━━━╇━━━━━━━━━━━━━┩\n",
              "│<span style=\"color: #008080; text-decoration-color: #008080\"> privacy_info.analytics_storage    </span>│<span style=\"color: #800080; text-decoration-color: #800080\"> object </span>│<span style=\"color: #008000; text-decoration-color: #008000\"> No               </span>│<span style=\"color: #808000; text-decoration-color: #808000\"> N/A         </span>│\n",
              "├───────────────────────────────────┼────────┼──────────────────┼─────────────┤\n",
              "│<span style=\"color: #008080; text-decoration-color: #008080\"> privacy_info.ads_storage          </span>│<span style=\"color: #800080; text-decoration-color: #800080\"> object </span>│<span style=\"color: #008000; text-decoration-color: #008000\"> No               </span>│<span style=\"color: #808000; text-decoration-color: #808000\"> N/A         </span>│\n",
              "├───────────────────────────────────┼────────┼──────────────────┼─────────────┤\n",
              "│<span style=\"color: #008080; text-decoration-color: #008080\"> privacy_info.uses_transient_token </span>│<span style=\"color: #800080; text-decoration-color: #800080\"> object </span>│<span style=\"color: #008000; text-decoration-color: #008000\"> No (string)      </span>│<span style=\"color: #808000; text-decoration-color: #808000\"> No          </span>│\n",
              "└───────────────────────────────────┴────────┴──────────────────┴─────────────┘\n",
              "</pre>\n"
            ],
            "text/plain": [
              "\u001b[3m                           Data Structure (Depth: 1)                           \u001b[0m\n",
              "┏━━━━━━━━━━━━━━━━━━━━━━━━━━━━━━━━━━━┳━━━━━━━━┳━━━━━━━━━━━━━━━━━━┳━━━━━━━━━━━━━┓\n",
              "┃\u001b[1m \u001b[0m\u001b[1mColumn                           \u001b[0m\u001b[1m \u001b[0m┃\u001b[1m \u001b[0m\u001b[1mType  \u001b[0m\u001b[1m \u001b[0m┃\u001b[1m \u001b[0m\u001b[1mNested Structure\u001b[0m\u001b[1m \u001b[0m┃\u001b[1m \u001b[0m\u001b[1mSample Data\u001b[0m\u001b[1m \u001b[0m┃\n",
              "┡━━━━━━━━━━━━━━━━━━━━━━━━━━━━━━━━━━━╇━━━━━━━━╇━━━━━━━━━━━━━━━━━━╇━━━━━━━━━━━━━┩\n",
              "│\u001b[36m \u001b[0m\u001b[36mprivacy_info.analytics_storage   \u001b[0m\u001b[36m \u001b[0m│\u001b[35m \u001b[0m\u001b[35mobject\u001b[0m\u001b[35m \u001b[0m│\u001b[32m \u001b[0m\u001b[32mNo              \u001b[0m\u001b[32m \u001b[0m│\u001b[33m \u001b[0m\u001b[33mN/A        \u001b[0m\u001b[33m \u001b[0m│\n",
              "├───────────────────────────────────┼────────┼──────────────────┼─────────────┤\n",
              "│\u001b[36m \u001b[0m\u001b[36mprivacy_info.ads_storage         \u001b[0m\u001b[36m \u001b[0m│\u001b[35m \u001b[0m\u001b[35mobject\u001b[0m\u001b[35m \u001b[0m│\u001b[32m \u001b[0m\u001b[32mNo              \u001b[0m\u001b[32m \u001b[0m│\u001b[33m \u001b[0m\u001b[33mN/A        \u001b[0m\u001b[33m \u001b[0m│\n",
              "├───────────────────────────────────┼────────┼──────────────────┼─────────────┤\n",
              "│\u001b[36m \u001b[0m\u001b[36mprivacy_info.uses_transient_token\u001b[0m\u001b[36m \u001b[0m│\u001b[35m \u001b[0m\u001b[35mobject\u001b[0m\u001b[35m \u001b[0m│\u001b[32m \u001b[0m\u001b[32mNo (string)     \u001b[0m\u001b[32m \u001b[0m│\u001b[33m \u001b[0m\u001b[33mNo         \u001b[0m\u001b[33m \u001b[0m│\n",
              "└───────────────────────────────────┴────────┴──────────────────┴─────────────┘\n"
            ]
          },
          "metadata": {},
          "output_type": "display_data"
        },
        {
          "data": {
            "text/html": [
              "<pre style=\"white-space:pre;overflow-x:auto;line-height:normal;font-family:Menlo,'DejaVu Sans Mono',consolas,'Courier New',monospace\">\n",
              "Nested structure for user_ltv <span style=\"font-weight: bold\">(</span>Depth: <span style=\"color: #008080; text-decoration-color: #008080; font-weight: bold\">1</span><span style=\"font-weight: bold\">)</span>:\n",
              "</pre>\n"
            ],
            "text/plain": [
              "\n",
              "Nested structure for user_ltv \u001b[1m(\u001b[0mDepth: \u001b[1;36m1\u001b[0m\u001b[1m)\u001b[0m:\n"
            ]
          },
          "metadata": {},
          "output_type": "display_data"
        },
        {
          "data": {
            "text/html": [
              "<pre style=\"white-space:pre;overflow-x:auto;line-height:normal;font-family:Menlo,'DejaVu Sans Mono',consolas,'Courier New',monospace\"><span style=\"font-style: italic\">                   Data Structure (Depth: 1)                    </span>\n",
              "┏━━━━━━━━━━━━━━━━━━━┳━━━━━━━━━┳━━━━━━━━━━━━━━━━━━┳━━━━━━━━━━━━━┓\n",
              "┃<span style=\"font-weight: bold\"> Column            </span>┃<span style=\"font-weight: bold\"> Type    </span>┃<span style=\"font-weight: bold\"> Nested Structure </span>┃<span style=\"font-weight: bold\"> Sample Data </span>┃\n",
              "┡━━━━━━━━━━━━━━━━━━━╇━━━━━━━━━╇━━━━━━━━━━━━━━━━━━╇━━━━━━━━━━━━━┩\n",
              "│<span style=\"color: #008080; text-decoration-color: #008080\"> user_ltv.revenue  </span>│<span style=\"color: #800080; text-decoration-color: #800080\"> float64 </span>│<span style=\"color: #008000; text-decoration-color: #008000\"> No (numeric)     </span>│<span style=\"color: #808000; text-decoration-color: #808000\"> 0.0         </span>│\n",
              "├───────────────────┼─────────┼──────────────────┼─────────────┤\n",
              "│<span style=\"color: #008080; text-decoration-color: #008080\"> user_ltv.currency </span>│<span style=\"color: #800080; text-decoration-color: #800080\"> object  </span>│<span style=\"color: #008000; text-decoration-color: #008000\"> No (string)      </span>│<span style=\"color: #808000; text-decoration-color: #808000\"> USD         </span>│\n",
              "└───────────────────┴─────────┴──────────────────┴─────────────┘\n",
              "</pre>\n"
            ],
            "text/plain": [
              "\u001b[3m                   Data Structure (Depth: 1)                    \u001b[0m\n",
              "┏━━━━━━━━━━━━━━━━━━━┳━━━━━━━━━┳━━━━━━━━━━━━━━━━━━┳━━━━━━━━━━━━━┓\n",
              "┃\u001b[1m \u001b[0m\u001b[1mColumn           \u001b[0m\u001b[1m \u001b[0m┃\u001b[1m \u001b[0m\u001b[1mType   \u001b[0m\u001b[1m \u001b[0m┃\u001b[1m \u001b[0m\u001b[1mNested Structure\u001b[0m\u001b[1m \u001b[0m┃\u001b[1m \u001b[0m\u001b[1mSample Data\u001b[0m\u001b[1m \u001b[0m┃\n",
              "┡━━━━━━━━━━━━━━━━━━━╇━━━━━━━━━╇━━━━━━━━━━━━━━━━━━╇━━━━━━━━━━━━━┩\n",
              "│\u001b[36m \u001b[0m\u001b[36muser_ltv.revenue \u001b[0m\u001b[36m \u001b[0m│\u001b[35m \u001b[0m\u001b[35mfloat64\u001b[0m\u001b[35m \u001b[0m│\u001b[32m \u001b[0m\u001b[32mNo (numeric)    \u001b[0m\u001b[32m \u001b[0m│\u001b[33m \u001b[0m\u001b[33m0.0        \u001b[0m\u001b[33m \u001b[0m│\n",
              "├───────────────────┼─────────┼──────────────────┼─────────────┤\n",
              "│\u001b[36m \u001b[0m\u001b[36muser_ltv.currency\u001b[0m\u001b[36m \u001b[0m│\u001b[35m \u001b[0m\u001b[35mobject \u001b[0m\u001b[35m \u001b[0m│\u001b[32m \u001b[0m\u001b[32mNo (string)     \u001b[0m\u001b[32m \u001b[0m│\u001b[33m \u001b[0m\u001b[33mUSD        \u001b[0m\u001b[33m \u001b[0m│\n",
              "└───────────────────┴─────────┴──────────────────┴─────────────┘\n"
            ]
          },
          "metadata": {},
          "output_type": "display_data"
        },
        {
          "data": {
            "text/html": [
              "<pre style=\"white-space:pre;overflow-x:auto;line-height:normal;font-family:Menlo,'DejaVu Sans Mono',consolas,'Courier New',monospace\">\n",
              "Nested structure for device <span style=\"font-weight: bold\">(</span>Depth: <span style=\"color: #008080; text-decoration-color: #008080; font-weight: bold\">1</span><span style=\"font-weight: bold\">)</span>:\n",
              "</pre>\n"
            ],
            "text/plain": [
              "\n",
              "Nested structure for device \u001b[1m(\u001b[0mDepth: \u001b[1;36m1\u001b[0m\u001b[1m)\u001b[0m:\n"
            ]
          },
          "metadata": {},
          "output_type": "display_data"
        },
        {
          "data": {
            "text/html": [
              "<pre style=\"white-space:pre;overflow-x:auto;line-height:normal;font-family:Menlo,'DejaVu Sans Mono',consolas,'Courier New',monospace\">\n",
              "Nested structure for web_info <span style=\"font-weight: bold\">(</span>Depth: <span style=\"color: #008080; text-decoration-color: #008080; font-weight: bold\">2</span><span style=\"font-weight: bold\">)</span>:\n",
              "</pre>\n"
            ],
            "text/plain": [
              "\n",
              "Nested structure for web_info \u001b[1m(\u001b[0mDepth: \u001b[1;36m2\u001b[0m\u001b[1m)\u001b[0m:\n"
            ]
          },
          "metadata": {},
          "output_type": "display_data"
        },
        {
          "data": {
            "text/html": [
              "<pre style=\"white-space:pre;overflow-x:auto;line-height:normal;font-family:Menlo,'DejaVu Sans Mono',consolas,'Courier New',monospace\"><span style=\"font-style: italic\">                          Data Structure (Depth: 2)                          </span>\n",
              "┏━━━━━━━━━━━━━━━━━━━━━━━━━━━━━━━━━┳━━━━━━━━┳━━━━━━━━━━━━━━━━━━┳━━━━━━━━━━━━━┓\n",
              "┃<span style=\"font-weight: bold\"> Column                          </span>┃<span style=\"font-weight: bold\"> Type   </span>┃<span style=\"font-weight: bold\"> Nested Structure </span>┃<span style=\"font-weight: bold\"> Sample Data </span>┃\n",
              "┡━━━━━━━━━━━━━━━━━━━━━━━━━━━━━━━━━╇━━━━━━━━╇━━━━━━━━━━━━━━━━━━╇━━━━━━━━━━━━━┩\n",
              "│<span style=\"color: #008080; text-decoration-color: #008080\"> device.web_info.browser         </span>│<span style=\"color: #800080; text-decoration-color: #800080\"> object </span>│<span style=\"color: #008000; text-decoration-color: #008000\"> No (string)      </span>│<span style=\"color: #808000; text-decoration-color: #808000\"> Safari      </span>│\n",
              "├─────────────────────────────────┼────────┼──────────────────┼─────────────┤\n",
              "│<span style=\"color: #008080; text-decoration-color: #008080\"> device.web_info.browser_version </span>│<span style=\"color: #800080; text-decoration-color: #800080\"> object </span>│<span style=\"color: #008000; text-decoration-color: #008000\"> No (string)      </span>│<span style=\"color: #808000; text-decoration-color: #808000\"> 13.1        </span>│\n",
              "└─────────────────────────────────┴────────┴──────────────────┴─────────────┘\n",
              "</pre>\n"
            ],
            "text/plain": [
              "\u001b[3m                          Data Structure (Depth: 2)                          \u001b[0m\n",
              "┏━━━━━━━━━━━━━━━━━━━━━━━━━━━━━━━━━┳━━━━━━━━┳━━━━━━━━━━━━━━━━━━┳━━━━━━━━━━━━━┓\n",
              "┃\u001b[1m \u001b[0m\u001b[1mColumn                         \u001b[0m\u001b[1m \u001b[0m┃\u001b[1m \u001b[0m\u001b[1mType  \u001b[0m\u001b[1m \u001b[0m┃\u001b[1m \u001b[0m\u001b[1mNested Structure\u001b[0m\u001b[1m \u001b[0m┃\u001b[1m \u001b[0m\u001b[1mSample Data\u001b[0m\u001b[1m \u001b[0m┃\n",
              "┡━━━━━━━━━━━━━━━━━━━━━━━━━━━━━━━━━╇━━━━━━━━╇━━━━━━━━━━━━━━━━━━╇━━━━━━━━━━━━━┩\n",
              "│\u001b[36m \u001b[0m\u001b[36mdevice.web_info.browser        \u001b[0m\u001b[36m \u001b[0m│\u001b[35m \u001b[0m\u001b[35mobject\u001b[0m\u001b[35m \u001b[0m│\u001b[32m \u001b[0m\u001b[32mNo (string)     \u001b[0m\u001b[32m \u001b[0m│\u001b[33m \u001b[0m\u001b[33mSafari     \u001b[0m\u001b[33m \u001b[0m│\n",
              "├─────────────────────────────────┼────────┼──────────────────┼─────────────┤\n",
              "│\u001b[36m \u001b[0m\u001b[36mdevice.web_info.browser_version\u001b[0m\u001b[36m \u001b[0m│\u001b[35m \u001b[0m\u001b[35mobject\u001b[0m\u001b[35m \u001b[0m│\u001b[32m \u001b[0m\u001b[32mNo (string)     \u001b[0m\u001b[32m \u001b[0m│\u001b[33m \u001b[0m\u001b[33m13.1       \u001b[0m\u001b[33m \u001b[0m│\n",
              "└─────────────────────────────────┴────────┴──────────────────┴─────────────┘\n"
            ]
          },
          "metadata": {},
          "output_type": "display_data"
        },
        {
          "data": {
            "text/html": [
              "<pre style=\"white-space:pre;overflow-x:auto;line-height:normal;font-family:Menlo,'DejaVu Sans Mono',consolas,'Courier New',monospace\"><span style=\"font-style: italic\">                          Data Structure (Depth: 1)                          </span>\n",
              "┏━━━━━━━━━━━━━━━━━━━━━━━━━━━━━━━━━┳━━━━━━━━┳━━━━━━━━━━━━━━━━━━┳━━━━━━━━━━━━━┓\n",
              "┃<span style=\"font-weight: bold\"> Column                          </span>┃<span style=\"font-weight: bold\"> Type   </span>┃<span style=\"font-weight: bold\"> Nested Structure </span>┃<span style=\"font-weight: bold\"> Sample Data </span>┃\n",
              "┡━━━━━━━━━━━━━━━━━━━━━━━━━━━━━━━━━╇━━━━━━━━╇━━━━━━━━━━━━━━━━━━╇━━━━━━━━━━━━━┩\n",
              "│<span style=\"color: #008080; text-decoration-color: #008080\"> device.category                 </span>│<span style=\"color: #800080; text-decoration-color: #800080\"> object </span>│<span style=\"color: #008000; text-decoration-color: #008000\"> No (string)      </span>│<span style=\"color: #808000; text-decoration-color: #808000\"> mobile      </span>│\n",
              "├─────────────────────────────────┼────────┼──────────────────┼─────────────┤\n",
              "│<span style=\"color: #008080; text-decoration-color: #008080\"> device.mobile_brand_name        </span>│<span style=\"color: #800080; text-decoration-color: #800080\"> object </span>│<span style=\"color: #008000; text-decoration-color: #008000\"> No (string)      </span>│<span style=\"color: #808000; text-decoration-color: #808000\"> Apple       </span>│\n",
              "├─────────────────────────────────┼────────┼──────────────────┼─────────────┤\n",
              "│<span style=\"color: #008080; text-decoration-color: #008080\"> device.mobile_model_name        </span>│<span style=\"color: #800080; text-decoration-color: #800080\"> object </span>│<span style=\"color: #008000; text-decoration-color: #008000\"> No (string)      </span>│<span style=\"color: #808000; text-decoration-color: #808000\"> iPhone      </span>│\n",
              "├─────────────────────────────────┼────────┼──────────────────┼─────────────┤\n",
              "│<span style=\"color: #008080; text-decoration-color: #008080\"> device.mobile_marketing_name    </span>│<span style=\"color: #800080; text-decoration-color: #800080\"> object </span>│<span style=\"color: #008000; text-decoration-color: #008000\"> No (string)      </span>│<span style=\"color: #808000; text-decoration-color: #808000\"> &lt;Other&gt;     </span>│\n",
              "├─────────────────────────────────┼────────┼──────────────────┼─────────────┤\n",
              "│<span style=\"color: #008080; text-decoration-color: #008080\"> device.mobile_os_hardware_model </span>│<span style=\"color: #800080; text-decoration-color: #800080\"> object </span>│<span style=\"color: #008000; text-decoration-color: #008000\"> No               </span>│<span style=\"color: #808000; text-decoration-color: #808000\"> N/A         </span>│\n",
              "├─────────────────────────────────┼────────┼──────────────────┼─────────────┤\n",
              "│<span style=\"color: #008080; text-decoration-color: #008080\"> device.operating_system         </span>│<span style=\"color: #800080; text-decoration-color: #800080\"> object </span>│<span style=\"color: #008000; text-decoration-color: #008000\"> No (string)      </span>│<span style=\"color: #808000; text-decoration-color: #808000\"> Web         </span>│\n",
              "├─────────────────────────────────┼────────┼──────────────────┼─────────────┤\n",
              "│<span style=\"color: #008080; text-decoration-color: #008080\"> device.operating_system_version </span>│<span style=\"color: #800080; text-decoration-color: #800080\"> object </span>│<span style=\"color: #008000; text-decoration-color: #008000\"> No (string)      </span>│<span style=\"color: #808000; text-decoration-color: #808000\"> &lt;Other&gt;     </span>│\n",
              "├─────────────────────────────────┼────────┼──────────────────┼─────────────┤\n",
              "│<span style=\"color: #008080; text-decoration-color: #008080\"> device.vendor_id                </span>│<span style=\"color: #800080; text-decoration-color: #800080\"> object </span>│<span style=\"color: #008000; text-decoration-color: #008000\"> No               </span>│<span style=\"color: #808000; text-decoration-color: #808000\"> N/A         </span>│\n",
              "├─────────────────────────────────┼────────┼──────────────────┼─────────────┤\n",
              "│<span style=\"color: #008080; text-decoration-color: #008080\"> device.advertising_id           </span>│<span style=\"color: #800080; text-decoration-color: #800080\"> object </span>│<span style=\"color: #008000; text-decoration-color: #008000\"> No               </span>│<span style=\"color: #808000; text-decoration-color: #808000\"> N/A         </span>│\n",
              "├─────────────────────────────────┼────────┼──────────────────┼─────────────┤\n",
              "│<span style=\"color: #008080; text-decoration-color: #008080\"> device.language                 </span>│<span style=\"color: #800080; text-decoration-color: #800080\"> object </span>│<span style=\"color: #008000; text-decoration-color: #008000\"> No (string)      </span>│<span style=\"color: #808000; text-decoration-color: #808000\"> en-us       </span>│\n",
              "├─────────────────────────────────┼────────┼──────────────────┼─────────────┤\n",
              "│<span style=\"color: #008080; text-decoration-color: #008080\"> device.is_limited_ad_tracking   </span>│<span style=\"color: #800080; text-decoration-color: #800080\"> object </span>│<span style=\"color: #008000; text-decoration-color: #008000\"> No (string)      </span>│<span style=\"color: #808000; text-decoration-color: #808000\"> No          </span>│\n",
              "├─────────────────────────────────┼────────┼──────────────────┼─────────────┤\n",
              "│<span style=\"color: #008080; text-decoration-color: #008080\"> device.time_zone_offset_seconds </span>│<span style=\"color: #800080; text-decoration-color: #800080\"> object </span>│<span style=\"color: #008000; text-decoration-color: #008000\"> No               </span>│<span style=\"color: #808000; text-decoration-color: #808000\"> N/A         </span>│\n",
              "├─────────────────────────────────┼────────┼──────────────────┼─────────────┤\n",
              "│<span style=\"color: #008080; text-decoration-color: #008080\"> device.web_info                 </span>│<span style=\"color: #800080; text-decoration-color: #800080\"> object </span>│<span style=\"color: #008000; text-decoration-color: #008000\"> Yes (dict)       </span>│<span style=\"color: #808000; text-decoration-color: #808000\"> dict:       </span>│\n",
              "└─────────────────────────────────┴────────┴──────────────────┴─────────────┘\n",
              "</pre>\n"
            ],
            "text/plain": [
              "\u001b[3m                          Data Structure (Depth: 1)                          \u001b[0m\n",
              "┏━━━━━━━━━━━━━━━━━━━━━━━━━━━━━━━━━┳━━━━━━━━┳━━━━━━━━━━━━━━━━━━┳━━━━━━━━━━━━━┓\n",
              "┃\u001b[1m \u001b[0m\u001b[1mColumn                         \u001b[0m\u001b[1m \u001b[0m┃\u001b[1m \u001b[0m\u001b[1mType  \u001b[0m\u001b[1m \u001b[0m┃\u001b[1m \u001b[0m\u001b[1mNested Structure\u001b[0m\u001b[1m \u001b[0m┃\u001b[1m \u001b[0m\u001b[1mSample Data\u001b[0m\u001b[1m \u001b[0m┃\n",
              "┡━━━━━━━━━━━━━━━━━━━━━━━━━━━━━━━━━╇━━━━━━━━╇━━━━━━━━━━━━━━━━━━╇━━━━━━━━━━━━━┩\n",
              "│\u001b[36m \u001b[0m\u001b[36mdevice.category                \u001b[0m\u001b[36m \u001b[0m│\u001b[35m \u001b[0m\u001b[35mobject\u001b[0m\u001b[35m \u001b[0m│\u001b[32m \u001b[0m\u001b[32mNo (string)     \u001b[0m\u001b[32m \u001b[0m│\u001b[33m \u001b[0m\u001b[33mmobile     \u001b[0m\u001b[33m \u001b[0m│\n",
              "├─────────────────────────────────┼────────┼──────────────────┼─────────────┤\n",
              "│\u001b[36m \u001b[0m\u001b[36mdevice.mobile_brand_name       \u001b[0m\u001b[36m \u001b[0m│\u001b[35m \u001b[0m\u001b[35mobject\u001b[0m\u001b[35m \u001b[0m│\u001b[32m \u001b[0m\u001b[32mNo (string)     \u001b[0m\u001b[32m \u001b[0m│\u001b[33m \u001b[0m\u001b[33mApple      \u001b[0m\u001b[33m \u001b[0m│\n",
              "├─────────────────────────────────┼────────┼──────────────────┼─────────────┤\n",
              "│\u001b[36m \u001b[0m\u001b[36mdevice.mobile_model_name       \u001b[0m\u001b[36m \u001b[0m│\u001b[35m \u001b[0m\u001b[35mobject\u001b[0m\u001b[35m \u001b[0m│\u001b[32m \u001b[0m\u001b[32mNo (string)     \u001b[0m\u001b[32m \u001b[0m│\u001b[33m \u001b[0m\u001b[33miPhone     \u001b[0m\u001b[33m \u001b[0m│\n",
              "├─────────────────────────────────┼────────┼──────────────────┼─────────────┤\n",
              "│\u001b[36m \u001b[0m\u001b[36mdevice.mobile_marketing_name   \u001b[0m\u001b[36m \u001b[0m│\u001b[35m \u001b[0m\u001b[35mobject\u001b[0m\u001b[35m \u001b[0m│\u001b[32m \u001b[0m\u001b[32mNo (string)     \u001b[0m\u001b[32m \u001b[0m│\u001b[33m \u001b[0m\u001b[33m<Other>    \u001b[0m\u001b[33m \u001b[0m│\n",
              "├─────────────────────────────────┼────────┼──────────────────┼─────────────┤\n",
              "│\u001b[36m \u001b[0m\u001b[36mdevice.mobile_os_hardware_model\u001b[0m\u001b[36m \u001b[0m│\u001b[35m \u001b[0m\u001b[35mobject\u001b[0m\u001b[35m \u001b[0m│\u001b[32m \u001b[0m\u001b[32mNo              \u001b[0m\u001b[32m \u001b[0m│\u001b[33m \u001b[0m\u001b[33mN/A        \u001b[0m\u001b[33m \u001b[0m│\n",
              "├─────────────────────────────────┼────────┼──────────────────┼─────────────┤\n",
              "│\u001b[36m \u001b[0m\u001b[36mdevice.operating_system        \u001b[0m\u001b[36m \u001b[0m│\u001b[35m \u001b[0m\u001b[35mobject\u001b[0m\u001b[35m \u001b[0m│\u001b[32m \u001b[0m\u001b[32mNo (string)     \u001b[0m\u001b[32m \u001b[0m│\u001b[33m \u001b[0m\u001b[33mWeb        \u001b[0m\u001b[33m \u001b[0m│\n",
              "├─────────────────────────────────┼────────┼──────────────────┼─────────────┤\n",
              "│\u001b[36m \u001b[0m\u001b[36mdevice.operating_system_version\u001b[0m\u001b[36m \u001b[0m│\u001b[35m \u001b[0m\u001b[35mobject\u001b[0m\u001b[35m \u001b[0m│\u001b[32m \u001b[0m\u001b[32mNo (string)     \u001b[0m\u001b[32m \u001b[0m│\u001b[33m \u001b[0m\u001b[33m<Other>    \u001b[0m\u001b[33m \u001b[0m│\n",
              "├─────────────────────────────────┼────────┼──────────────────┼─────────────┤\n",
              "│\u001b[36m \u001b[0m\u001b[36mdevice.vendor_id               \u001b[0m\u001b[36m \u001b[0m│\u001b[35m \u001b[0m\u001b[35mobject\u001b[0m\u001b[35m \u001b[0m│\u001b[32m \u001b[0m\u001b[32mNo              \u001b[0m\u001b[32m \u001b[0m│\u001b[33m \u001b[0m\u001b[33mN/A        \u001b[0m\u001b[33m \u001b[0m│\n",
              "├─────────────────────────────────┼────────┼──────────────────┼─────────────┤\n",
              "│\u001b[36m \u001b[0m\u001b[36mdevice.advertising_id          \u001b[0m\u001b[36m \u001b[0m│\u001b[35m \u001b[0m\u001b[35mobject\u001b[0m\u001b[35m \u001b[0m│\u001b[32m \u001b[0m\u001b[32mNo              \u001b[0m\u001b[32m \u001b[0m│\u001b[33m \u001b[0m\u001b[33mN/A        \u001b[0m\u001b[33m \u001b[0m│\n",
              "├─────────────────────────────────┼────────┼──────────────────┼─────────────┤\n",
              "│\u001b[36m \u001b[0m\u001b[36mdevice.language                \u001b[0m\u001b[36m \u001b[0m│\u001b[35m \u001b[0m\u001b[35mobject\u001b[0m\u001b[35m \u001b[0m│\u001b[32m \u001b[0m\u001b[32mNo (string)     \u001b[0m\u001b[32m \u001b[0m│\u001b[33m \u001b[0m\u001b[33men-us      \u001b[0m\u001b[33m \u001b[0m│\n",
              "├─────────────────────────────────┼────────┼──────────────────┼─────────────┤\n",
              "│\u001b[36m \u001b[0m\u001b[36mdevice.is_limited_ad_tracking  \u001b[0m\u001b[36m \u001b[0m│\u001b[35m \u001b[0m\u001b[35mobject\u001b[0m\u001b[35m \u001b[0m│\u001b[32m \u001b[0m\u001b[32mNo (string)     \u001b[0m\u001b[32m \u001b[0m│\u001b[33m \u001b[0m\u001b[33mNo         \u001b[0m\u001b[33m \u001b[0m│\n",
              "├─────────────────────────────────┼────────┼──────────────────┼─────────────┤\n",
              "│\u001b[36m \u001b[0m\u001b[36mdevice.time_zone_offset_seconds\u001b[0m\u001b[36m \u001b[0m│\u001b[35m \u001b[0m\u001b[35mobject\u001b[0m\u001b[35m \u001b[0m│\u001b[32m \u001b[0m\u001b[32mNo              \u001b[0m\u001b[32m \u001b[0m│\u001b[33m \u001b[0m\u001b[33mN/A        \u001b[0m\u001b[33m \u001b[0m│\n",
              "├─────────────────────────────────┼────────┼──────────────────┼─────────────┤\n",
              "│\u001b[36m \u001b[0m\u001b[36mdevice.web_info                \u001b[0m\u001b[36m \u001b[0m│\u001b[35m \u001b[0m\u001b[35mobject\u001b[0m\u001b[35m \u001b[0m│\u001b[32m \u001b[0m\u001b[32mYes (dict)      \u001b[0m\u001b[32m \u001b[0m│\u001b[33m \u001b[0m\u001b[33mdict:      \u001b[0m\u001b[33m \u001b[0m│\n",
              "└─────────────────────────────────┴────────┴──────────────────┴─────────────┘\n"
            ]
          },
          "metadata": {},
          "output_type": "display_data"
        },
        {
          "data": {
            "text/html": [
              "<pre style=\"white-space:pre;overflow-x:auto;line-height:normal;font-family:Menlo,'DejaVu Sans Mono',consolas,'Courier New',monospace\">\n",
              "Nested structure for geo <span style=\"font-weight: bold\">(</span>Depth: <span style=\"color: #008080; text-decoration-color: #008080; font-weight: bold\">1</span><span style=\"font-weight: bold\">)</span>:\n",
              "</pre>\n"
            ],
            "text/plain": [
              "\n",
              "Nested structure for geo \u001b[1m(\u001b[0mDepth: \u001b[1;36m1\u001b[0m\u001b[1m)\u001b[0m:\n"
            ]
          },
          "metadata": {},
          "output_type": "display_data"
        },
        {
          "data": {
            "text/html": [
              "<pre style=\"white-space:pre;overflow-x:auto;line-height:normal;font-family:Menlo,'DejaVu Sans Mono',consolas,'Courier New',monospace\"><span style=\"font-style: italic\">                     Data Structure (Depth: 1)                      </span>\n",
              "┏━━━━━━━━━━━━━━━━━━━┳━━━━━━━━┳━━━━━━━━━━━━━━━━━━┳━━━━━━━━━━━━━━━━━━┓\n",
              "┃<span style=\"font-weight: bold\"> Column            </span>┃<span style=\"font-weight: bold\"> Type   </span>┃<span style=\"font-weight: bold\"> Nested Structure </span>┃<span style=\"font-weight: bold\"> Sample Data      </span>┃\n",
              "┡━━━━━━━━━━━━━━━━━━━╇━━━━━━━━╇━━━━━━━━━━━━━━━━━━╇━━━━━━━━━━━━━━━━━━┩\n",
              "│<span style=\"color: #008080; text-decoration-color: #008080\"> geo.continent     </span>│<span style=\"color: #800080; text-decoration-color: #800080\"> object </span>│<span style=\"color: #008000; text-decoration-color: #008000\"> No (string)      </span>│<span style=\"color: #808000; text-decoration-color: #808000\"> Americas         </span>│\n",
              "├───────────────────┼────────┼──────────────────┼──────────────────┤\n",
              "│<span style=\"color: #008080; text-decoration-color: #008080\"> geo.sub_continent </span>│<span style=\"color: #800080; text-decoration-color: #800080\"> object </span>│<span style=\"color: #008000; text-decoration-color: #008000\"> No (string)      </span>│<span style=\"color: #808000; text-decoration-color: #808000\"> Northern America </span>│\n",
              "├───────────────────┼────────┼──────────────────┼──────────────────┤\n",
              "│<span style=\"color: #008080; text-decoration-color: #008080\"> geo.country       </span>│<span style=\"color: #800080; text-decoration-color: #800080\"> object </span>│<span style=\"color: #008000; text-decoration-color: #008000\"> No (string)      </span>│<span style=\"color: #808000; text-decoration-color: #808000\"> United States    </span>│\n",
              "├───────────────────┼────────┼──────────────────┼──────────────────┤\n",
              "│<span style=\"color: #008080; text-decoration-color: #008080\"> geo.region        </span>│<span style=\"color: #800080; text-decoration-color: #800080\"> object </span>│<span style=\"color: #008000; text-decoration-color: #008000\"> No (string)      </span>│<span style=\"color: #808000; text-decoration-color: #808000\"> California       </span>│\n",
              "├───────────────────┼────────┼──────────────────┼──────────────────┤\n",
              "│<span style=\"color: #008080; text-decoration-color: #008080\"> geo.city          </span>│<span style=\"color: #800080; text-decoration-color: #800080\"> object </span>│<span style=\"color: #008000; text-decoration-color: #008000\"> No (string)      </span>│<span style=\"color: #808000; text-decoration-color: #808000\"> San Carlos       </span>│\n",
              "├───────────────────┼────────┼──────────────────┼──────────────────┤\n",
              "│<span style=\"color: #008080; text-decoration-color: #008080\"> geo.metro         </span>│<span style=\"color: #800080; text-decoration-color: #800080\"> object </span>│<span style=\"color: #008000; text-decoration-color: #008000\"> No (string)      </span>│<span style=\"color: #808000; text-decoration-color: #808000\"> (not set)        </span>│\n",
              "└───────────────────┴────────┴──────────────────┴──────────────────┘\n",
              "</pre>\n"
            ],
            "text/plain": [
              "\u001b[3m                     Data Structure (Depth: 1)                      \u001b[0m\n",
              "┏━━━━━━━━━━━━━━━━━━━┳━━━━━━━━┳━━━━━━━━━━━━━━━━━━┳━━━━━━━━━━━━━━━━━━┓\n",
              "┃\u001b[1m \u001b[0m\u001b[1mColumn           \u001b[0m\u001b[1m \u001b[0m┃\u001b[1m \u001b[0m\u001b[1mType  \u001b[0m\u001b[1m \u001b[0m┃\u001b[1m \u001b[0m\u001b[1mNested Structure\u001b[0m\u001b[1m \u001b[0m┃\u001b[1m \u001b[0m\u001b[1mSample Data     \u001b[0m\u001b[1m \u001b[0m┃\n",
              "┡━━━━━━━━━━━━━━━━━━━╇━━━━━━━━╇━━━━━━━━━━━━━━━━━━╇━━━━━━━━━━━━━━━━━━┩\n",
              "│\u001b[36m \u001b[0m\u001b[36mgeo.continent    \u001b[0m\u001b[36m \u001b[0m│\u001b[35m \u001b[0m\u001b[35mobject\u001b[0m\u001b[35m \u001b[0m│\u001b[32m \u001b[0m\u001b[32mNo (string)     \u001b[0m\u001b[32m \u001b[0m│\u001b[33m \u001b[0m\u001b[33mAmericas        \u001b[0m\u001b[33m \u001b[0m│\n",
              "├───────────────────┼────────┼──────────────────┼──────────────────┤\n",
              "│\u001b[36m \u001b[0m\u001b[36mgeo.sub_continent\u001b[0m\u001b[36m \u001b[0m│\u001b[35m \u001b[0m\u001b[35mobject\u001b[0m\u001b[35m \u001b[0m│\u001b[32m \u001b[0m\u001b[32mNo (string)     \u001b[0m\u001b[32m \u001b[0m│\u001b[33m \u001b[0m\u001b[33mNorthern America\u001b[0m\u001b[33m \u001b[0m│\n",
              "├───────────────────┼────────┼──────────────────┼──────────────────┤\n",
              "│\u001b[36m \u001b[0m\u001b[36mgeo.country      \u001b[0m\u001b[36m \u001b[0m│\u001b[35m \u001b[0m\u001b[35mobject\u001b[0m\u001b[35m \u001b[0m│\u001b[32m \u001b[0m\u001b[32mNo (string)     \u001b[0m\u001b[32m \u001b[0m│\u001b[33m \u001b[0m\u001b[33mUnited States   \u001b[0m\u001b[33m \u001b[0m│\n",
              "├───────────────────┼────────┼──────────────────┼──────────────────┤\n",
              "│\u001b[36m \u001b[0m\u001b[36mgeo.region       \u001b[0m\u001b[36m \u001b[0m│\u001b[35m \u001b[0m\u001b[35mobject\u001b[0m\u001b[35m \u001b[0m│\u001b[32m \u001b[0m\u001b[32mNo (string)     \u001b[0m\u001b[32m \u001b[0m│\u001b[33m \u001b[0m\u001b[33mCalifornia      \u001b[0m\u001b[33m \u001b[0m│\n",
              "├───────────────────┼────────┼──────────────────┼──────────────────┤\n",
              "│\u001b[36m \u001b[0m\u001b[36mgeo.city         \u001b[0m\u001b[36m \u001b[0m│\u001b[35m \u001b[0m\u001b[35mobject\u001b[0m\u001b[35m \u001b[0m│\u001b[32m \u001b[0m\u001b[32mNo (string)     \u001b[0m\u001b[32m \u001b[0m│\u001b[33m \u001b[0m\u001b[33mSan Carlos      \u001b[0m\u001b[33m \u001b[0m│\n",
              "├───────────────────┼────────┼──────────────────┼──────────────────┤\n",
              "│\u001b[36m \u001b[0m\u001b[36mgeo.metro        \u001b[0m\u001b[36m \u001b[0m│\u001b[35m \u001b[0m\u001b[35mobject\u001b[0m\u001b[35m \u001b[0m│\u001b[32m \u001b[0m\u001b[32mNo (string)     \u001b[0m\u001b[32m \u001b[0m│\u001b[33m \u001b[0m\u001b[33m(not set)       \u001b[0m\u001b[33m \u001b[0m│\n",
              "└───────────────────┴────────┴──────────────────┴──────────────────┘\n"
            ]
          },
          "metadata": {},
          "output_type": "display_data"
        },
        {
          "data": {
            "text/html": [
              "<pre style=\"white-space:pre;overflow-x:auto;line-height:normal;font-family:Menlo,'DejaVu Sans Mono',consolas,'Courier New',monospace\">\n",
              "Nested structure for traffic_source <span style=\"font-weight: bold\">(</span>Depth: <span style=\"color: #008080; text-decoration-color: #008080; font-weight: bold\">1</span><span style=\"font-weight: bold\">)</span>:\n",
              "</pre>\n"
            ],
            "text/plain": [
              "\n",
              "Nested structure for traffic_source \u001b[1m(\u001b[0mDepth: \u001b[1;36m1\u001b[0m\u001b[1m)\u001b[0m:\n"
            ]
          },
          "metadata": {},
          "output_type": "display_data"
        },
        {
          "data": {
            "text/html": [
              "<pre style=\"white-space:pre;overflow-x:auto;line-height:normal;font-family:Menlo,'DejaVu Sans Mono',consolas,'Courier New',monospace\"><span style=\"font-style: italic\">                     Data Structure (Depth: 1)                     </span>\n",
              "┏━━━━━━━━━━━━━━━━━━━━━━━┳━━━━━━━━┳━━━━━━━━━━━━━━━━━━┳━━━━━━━━━━━━━┓\n",
              "┃<span style=\"font-weight: bold\"> Column                </span>┃<span style=\"font-weight: bold\"> Type   </span>┃<span style=\"font-weight: bold\"> Nested Structure </span>┃<span style=\"font-weight: bold\"> Sample Data </span>┃\n",
              "┡━━━━━━━━━━━━━━━━━━━━━━━╇━━━━━━━━╇━━━━━━━━━━━━━━━━━━╇━━━━━━━━━━━━━┩\n",
              "│<span style=\"color: #008080; text-decoration-color: #008080\"> traffic_source.medium </span>│<span style=\"color: #800080; text-decoration-color: #800080\"> object </span>│<span style=\"color: #008000; text-decoration-color: #008000\"> No (string)      </span>│<span style=\"color: #808000; text-decoration-color: #808000\"> organic     </span>│\n",
              "├───────────────────────┼────────┼──────────────────┼─────────────┤\n",
              "│<span style=\"color: #008080; text-decoration-color: #008080\"> traffic_source.name   </span>│<span style=\"color: #800080; text-decoration-color: #800080\"> object </span>│<span style=\"color: #008000; text-decoration-color: #008000\"> No (string)      </span>│<span style=\"color: #808000; text-decoration-color: #808000\"> (organic)   </span>│\n",
              "├───────────────────────┼────────┼──────────────────┼─────────────┤\n",
              "│<span style=\"color: #008080; text-decoration-color: #008080\"> traffic_source.source </span>│<span style=\"color: #800080; text-decoration-color: #800080\"> object </span>│<span style=\"color: #008000; text-decoration-color: #008000\"> No (string)      </span>│<span style=\"color: #808000; text-decoration-color: #808000\"> google      </span>│\n",
              "└───────────────────────┴────────┴──────────────────┴─────────────┘\n",
              "</pre>\n"
            ],
            "text/plain": [
              "\u001b[3m                     Data Structure (Depth: 1)                     \u001b[0m\n",
              "┏━━━━━━━━━━━━━━━━━━━━━━━┳━━━━━━━━┳━━━━━━━━━━━━━━━━━━┳━━━━━━━━━━━━━┓\n",
              "┃\u001b[1m \u001b[0m\u001b[1mColumn               \u001b[0m\u001b[1m \u001b[0m┃\u001b[1m \u001b[0m\u001b[1mType  \u001b[0m\u001b[1m \u001b[0m┃\u001b[1m \u001b[0m\u001b[1mNested Structure\u001b[0m\u001b[1m \u001b[0m┃\u001b[1m \u001b[0m\u001b[1mSample Data\u001b[0m\u001b[1m \u001b[0m┃\n",
              "┡━━━━━━━━━━━━━━━━━━━━━━━╇━━━━━━━━╇━━━━━━━━━━━━━━━━━━╇━━━━━━━━━━━━━┩\n",
              "│\u001b[36m \u001b[0m\u001b[36mtraffic_source.medium\u001b[0m\u001b[36m \u001b[0m│\u001b[35m \u001b[0m\u001b[35mobject\u001b[0m\u001b[35m \u001b[0m│\u001b[32m \u001b[0m\u001b[32mNo (string)     \u001b[0m\u001b[32m \u001b[0m│\u001b[33m \u001b[0m\u001b[33morganic    \u001b[0m\u001b[33m \u001b[0m│\n",
              "├───────────────────────┼────────┼──────────────────┼─────────────┤\n",
              "│\u001b[36m \u001b[0m\u001b[36mtraffic_source.name  \u001b[0m\u001b[36m \u001b[0m│\u001b[35m \u001b[0m\u001b[35mobject\u001b[0m\u001b[35m \u001b[0m│\u001b[32m \u001b[0m\u001b[32mNo (string)     \u001b[0m\u001b[32m \u001b[0m│\u001b[33m \u001b[0m\u001b[33m(organic)  \u001b[0m\u001b[33m \u001b[0m│\n",
              "├───────────────────────┼────────┼──────────────────┼─────────────┤\n",
              "│\u001b[36m \u001b[0m\u001b[36mtraffic_source.source\u001b[0m\u001b[36m \u001b[0m│\u001b[35m \u001b[0m\u001b[35mobject\u001b[0m\u001b[35m \u001b[0m│\u001b[32m \u001b[0m\u001b[32mNo (string)     \u001b[0m\u001b[32m \u001b[0m│\u001b[33m \u001b[0m\u001b[33mgoogle     \u001b[0m\u001b[33m \u001b[0m│\n",
              "└───────────────────────┴────────┴──────────────────┴─────────────┘\n"
            ]
          },
          "metadata": {},
          "output_type": "display_data"
        },
        {
          "data": {
            "text/html": [
              "<pre style=\"white-space:pre;overflow-x:auto;line-height:normal;font-family:Menlo,'DejaVu Sans Mono',consolas,'Courier New',monospace\">\n",
              "Nested structure for ecommerce <span style=\"font-weight: bold\">(</span>Depth: <span style=\"color: #008080; text-decoration-color: #008080; font-weight: bold\">1</span><span style=\"font-weight: bold\">)</span>:\n",
              "</pre>\n"
            ],
            "text/plain": [
              "\n",
              "Nested structure for ecommerce \u001b[1m(\u001b[0mDepth: \u001b[1;36m1\u001b[0m\u001b[1m)\u001b[0m:\n"
            ]
          },
          "metadata": {},
          "output_type": "display_data"
        },
        {
          "data": {
            "text/html": [
              "<pre style=\"white-space:pre;overflow-x:auto;line-height:normal;font-family:Menlo,'DejaVu Sans Mono',consolas,'Courier New',monospace\"><span style=\"font-style: italic\">                           Data Structure (Depth: 1)                           </span>\n",
              "┏━━━━━━━━━━━━━━━━━━━━━━━━━━━━━━━━━━━┳━━━━━━━━┳━━━━━━━━━━━━━━━━━━┳━━━━━━━━━━━━━┓\n",
              "┃<span style=\"font-weight: bold\"> Column                            </span>┃<span style=\"font-weight: bold\"> Type   </span>┃<span style=\"font-weight: bold\"> Nested Structure </span>┃<span style=\"font-weight: bold\"> Sample Data </span>┃\n",
              "┡━━━━━━━━━━━━━━━━━━━━━━━━━━━━━━━━━━━╇━━━━━━━━╇━━━━━━━━━━━━━━━━━━╇━━━━━━━━━━━━━┩\n",
              "│<span style=\"color: #008080; text-decoration-color: #008080\"> ecommerce.total_item_quantity     </span>│<span style=\"color: #800080; text-decoration-color: #800080\"> object </span>│<span style=\"color: #008000; text-decoration-color: #008000\"> No               </span>│<span style=\"color: #808000; text-decoration-color: #808000\"> N/A         </span>│\n",
              "├───────────────────────────────────┼────────┼──────────────────┼─────────────┤\n",
              "│<span style=\"color: #008080; text-decoration-color: #008080\"> ecommerce.purchase_revenue_in_usd </span>│<span style=\"color: #800080; text-decoration-color: #800080\"> object </span>│<span style=\"color: #008000; text-decoration-color: #008000\"> No               </span>│<span style=\"color: #808000; text-decoration-color: #808000\"> N/A         </span>│\n",
              "├───────────────────────────────────┼────────┼──────────────────┼─────────────┤\n",
              "│<span style=\"color: #008080; text-decoration-color: #008080\"> ecommerce.purchase_revenue        </span>│<span style=\"color: #800080; text-decoration-color: #800080\"> object </span>│<span style=\"color: #008000; text-decoration-color: #008000\"> No               </span>│<span style=\"color: #808000; text-decoration-color: #808000\"> N/A         </span>│\n",
              "├───────────────────────────────────┼────────┼──────────────────┼─────────────┤\n",
              "│<span style=\"color: #008080; text-decoration-color: #008080\"> ecommerce.refund_value_in_usd     </span>│<span style=\"color: #800080; text-decoration-color: #800080\"> object </span>│<span style=\"color: #008000; text-decoration-color: #008000\"> No               </span>│<span style=\"color: #808000; text-decoration-color: #808000\"> N/A         </span>│\n",
              "├───────────────────────────────────┼────────┼──────────────────┼─────────────┤\n",
              "│<span style=\"color: #008080; text-decoration-color: #008080\"> ecommerce.refund_value            </span>│<span style=\"color: #800080; text-decoration-color: #800080\"> object </span>│<span style=\"color: #008000; text-decoration-color: #008000\"> No               </span>│<span style=\"color: #808000; text-decoration-color: #808000\"> N/A         </span>│\n",
              "├───────────────────────────────────┼────────┼──────────────────┼─────────────┤\n",
              "│<span style=\"color: #008080; text-decoration-color: #008080\"> ecommerce.shipping_value_in_usd   </span>│<span style=\"color: #800080; text-decoration-color: #800080\"> object </span>│<span style=\"color: #008000; text-decoration-color: #008000\"> No               </span>│<span style=\"color: #808000; text-decoration-color: #808000\"> N/A         </span>│\n",
              "├───────────────────────────────────┼────────┼──────────────────┼─────────────┤\n",
              "│<span style=\"color: #008080; text-decoration-color: #008080\"> ecommerce.shipping_value          </span>│<span style=\"color: #800080; text-decoration-color: #800080\"> object </span>│<span style=\"color: #008000; text-decoration-color: #008000\"> No               </span>│<span style=\"color: #808000; text-decoration-color: #808000\"> N/A         </span>│\n",
              "├───────────────────────────────────┼────────┼──────────────────┼─────────────┤\n",
              "│<span style=\"color: #008080; text-decoration-color: #008080\"> ecommerce.tax_value_in_usd        </span>│<span style=\"color: #800080; text-decoration-color: #800080\"> object </span>│<span style=\"color: #008000; text-decoration-color: #008000\"> No               </span>│<span style=\"color: #808000; text-decoration-color: #808000\"> N/A         </span>│\n",
              "├───────────────────────────────────┼────────┼──────────────────┼─────────────┤\n",
              "│<span style=\"color: #008080; text-decoration-color: #008080\"> ecommerce.tax_value               </span>│<span style=\"color: #800080; text-decoration-color: #800080\"> object </span>│<span style=\"color: #008000; text-decoration-color: #008000\"> No               </span>│<span style=\"color: #808000; text-decoration-color: #808000\"> N/A         </span>│\n",
              "├───────────────────────────────────┼────────┼──────────────────┼─────────────┤\n",
              "│<span style=\"color: #008080; text-decoration-color: #008080\"> ecommerce.unique_items            </span>│<span style=\"color: #800080; text-decoration-color: #800080\"> object </span>│<span style=\"color: #008000; text-decoration-color: #008000\"> No               </span>│<span style=\"color: #808000; text-decoration-color: #808000\"> N/A         </span>│\n",
              "├───────────────────────────────────┼────────┼──────────────────┼─────────────┤\n",
              "│<span style=\"color: #008080; text-decoration-color: #008080\"> ecommerce.transaction_id          </span>│<span style=\"color: #800080; text-decoration-color: #800080\"> object </span>│<span style=\"color: #008000; text-decoration-color: #008000\"> No               </span>│<span style=\"color: #808000; text-decoration-color: #808000\"> N/A         </span>│\n",
              "└───────────────────────────────────┴────────┴──────────────────┴─────────────┘\n",
              "</pre>\n"
            ],
            "text/plain": [
              "\u001b[3m                           Data Structure (Depth: 1)                           \u001b[0m\n",
              "┏━━━━━━━━━━━━━━━━━━━━━━━━━━━━━━━━━━━┳━━━━━━━━┳━━━━━━━━━━━━━━━━━━┳━━━━━━━━━━━━━┓\n",
              "┃\u001b[1m \u001b[0m\u001b[1mColumn                           \u001b[0m\u001b[1m \u001b[0m┃\u001b[1m \u001b[0m\u001b[1mType  \u001b[0m\u001b[1m \u001b[0m┃\u001b[1m \u001b[0m\u001b[1mNested Structure\u001b[0m\u001b[1m \u001b[0m┃\u001b[1m \u001b[0m\u001b[1mSample Data\u001b[0m\u001b[1m \u001b[0m┃\n",
              "┡━━━━━━━━━━━━━━━━━━━━━━━━━━━━━━━━━━━╇━━━━━━━━╇━━━━━━━━━━━━━━━━━━╇━━━━━━━━━━━━━┩\n",
              "│\u001b[36m \u001b[0m\u001b[36mecommerce.total_item_quantity    \u001b[0m\u001b[36m \u001b[0m│\u001b[35m \u001b[0m\u001b[35mobject\u001b[0m\u001b[35m \u001b[0m│\u001b[32m \u001b[0m\u001b[32mNo              \u001b[0m\u001b[32m \u001b[0m│\u001b[33m \u001b[0m\u001b[33mN/A        \u001b[0m\u001b[33m \u001b[0m│\n",
              "├───────────────────────────────────┼────────┼──────────────────┼─────────────┤\n",
              "│\u001b[36m \u001b[0m\u001b[36mecommerce.purchase_revenue_in_usd\u001b[0m\u001b[36m \u001b[0m│\u001b[35m \u001b[0m\u001b[35mobject\u001b[0m\u001b[35m \u001b[0m│\u001b[32m \u001b[0m\u001b[32mNo              \u001b[0m\u001b[32m \u001b[0m│\u001b[33m \u001b[0m\u001b[33mN/A        \u001b[0m\u001b[33m \u001b[0m│\n",
              "├───────────────────────────────────┼────────┼──────────────────┼─────────────┤\n",
              "│\u001b[36m \u001b[0m\u001b[36mecommerce.purchase_revenue       \u001b[0m\u001b[36m \u001b[0m│\u001b[35m \u001b[0m\u001b[35mobject\u001b[0m\u001b[35m \u001b[0m│\u001b[32m \u001b[0m\u001b[32mNo              \u001b[0m\u001b[32m \u001b[0m│\u001b[33m \u001b[0m\u001b[33mN/A        \u001b[0m\u001b[33m \u001b[0m│\n",
              "├───────────────────────────────────┼────────┼──────────────────┼─────────────┤\n",
              "│\u001b[36m \u001b[0m\u001b[36mecommerce.refund_value_in_usd    \u001b[0m\u001b[36m \u001b[0m│\u001b[35m \u001b[0m\u001b[35mobject\u001b[0m\u001b[35m \u001b[0m│\u001b[32m \u001b[0m\u001b[32mNo              \u001b[0m\u001b[32m \u001b[0m│\u001b[33m \u001b[0m\u001b[33mN/A        \u001b[0m\u001b[33m \u001b[0m│\n",
              "├───────────────────────────────────┼────────┼──────────────────┼─────────────┤\n",
              "│\u001b[36m \u001b[0m\u001b[36mecommerce.refund_value           \u001b[0m\u001b[36m \u001b[0m│\u001b[35m \u001b[0m\u001b[35mobject\u001b[0m\u001b[35m \u001b[0m│\u001b[32m \u001b[0m\u001b[32mNo              \u001b[0m\u001b[32m \u001b[0m│\u001b[33m \u001b[0m\u001b[33mN/A        \u001b[0m\u001b[33m \u001b[0m│\n",
              "├───────────────────────────────────┼────────┼──────────────────┼─────────────┤\n",
              "│\u001b[36m \u001b[0m\u001b[36mecommerce.shipping_value_in_usd  \u001b[0m\u001b[36m \u001b[0m│\u001b[35m \u001b[0m\u001b[35mobject\u001b[0m\u001b[35m \u001b[0m│\u001b[32m \u001b[0m\u001b[32mNo              \u001b[0m\u001b[32m \u001b[0m│\u001b[33m \u001b[0m\u001b[33mN/A        \u001b[0m\u001b[33m \u001b[0m│\n",
              "├───────────────────────────────────┼────────┼──────────────────┼─────────────┤\n",
              "│\u001b[36m \u001b[0m\u001b[36mecommerce.shipping_value         \u001b[0m\u001b[36m \u001b[0m│\u001b[35m \u001b[0m\u001b[35mobject\u001b[0m\u001b[35m \u001b[0m│\u001b[32m \u001b[0m\u001b[32mNo              \u001b[0m\u001b[32m \u001b[0m│\u001b[33m \u001b[0m\u001b[33mN/A        \u001b[0m\u001b[33m \u001b[0m│\n",
              "├───────────────────────────────────┼────────┼──────────────────┼─────────────┤\n",
              "│\u001b[36m \u001b[0m\u001b[36mecommerce.tax_value_in_usd       \u001b[0m\u001b[36m \u001b[0m│\u001b[35m \u001b[0m\u001b[35mobject\u001b[0m\u001b[35m \u001b[0m│\u001b[32m \u001b[0m\u001b[32mNo              \u001b[0m\u001b[32m \u001b[0m│\u001b[33m \u001b[0m\u001b[33mN/A        \u001b[0m\u001b[33m \u001b[0m│\n",
              "├───────────────────────────────────┼────────┼──────────────────┼─────────────┤\n",
              "│\u001b[36m \u001b[0m\u001b[36mecommerce.tax_value              \u001b[0m\u001b[36m \u001b[0m│\u001b[35m \u001b[0m\u001b[35mobject\u001b[0m\u001b[35m \u001b[0m│\u001b[32m \u001b[0m\u001b[32mNo              \u001b[0m\u001b[32m \u001b[0m│\u001b[33m \u001b[0m\u001b[33mN/A        \u001b[0m\u001b[33m \u001b[0m│\n",
              "├───────────────────────────────────┼────────┼──────────────────┼─────────────┤\n",
              "│\u001b[36m \u001b[0m\u001b[36mecommerce.unique_items           \u001b[0m\u001b[36m \u001b[0m│\u001b[35m \u001b[0m\u001b[35mobject\u001b[0m\u001b[35m \u001b[0m│\u001b[32m \u001b[0m\u001b[32mNo              \u001b[0m\u001b[32m \u001b[0m│\u001b[33m \u001b[0m\u001b[33mN/A        \u001b[0m\u001b[33m \u001b[0m│\n",
              "├───────────────────────────────────┼────────┼──────────────────┼─────────────┤\n",
              "│\u001b[36m \u001b[0m\u001b[36mecommerce.transaction_id         \u001b[0m\u001b[36m \u001b[0m│\u001b[35m \u001b[0m\u001b[35mobject\u001b[0m\u001b[35m \u001b[0m│\u001b[32m \u001b[0m\u001b[32mNo              \u001b[0m\u001b[32m \u001b[0m│\u001b[33m \u001b[0m\u001b[33mN/A        \u001b[0m\u001b[33m \u001b[0m│\n",
              "└───────────────────────────────────┴────────┴──────────────────┴─────────────┘\n"
            ]
          },
          "metadata": {},
          "output_type": "display_data"
        },
        {
          "data": {
            "text/html": [
              "<pre style=\"white-space:pre;overflow-x:auto;line-height:normal;font-family:Menlo,'DejaVu Sans Mono',consolas,'Courier New',monospace\"><span style=\"font-style: italic\">                                             Data Structure (Depth: 0)                                             </span>\n",
              "┏━━━━━━━━━━━━━━━━━━━━━━━━━━━━━━━┳━━━━━━━━━┳━━━━━━━━━━━━━━━━━━┳━━━━━━━━━━━━━━━━━━━━━━━━━━━━━━━━━━━━━━━━━━━━━━━━━━━━┓\n",
              "┃<span style=\"font-weight: bold\"> Column                        </span>┃<span style=\"font-weight: bold\"> Type    </span>┃<span style=\"font-weight: bold\"> Nested Structure </span>┃<span style=\"font-weight: bold\"> Sample Data                                        </span>┃\n",
              "┡━━━━━━━━━━━━━━━━━━━━━━━━━━━━━━━╇━━━━━━━━━╇━━━━━━━━━━━━━━━━━━╇━━━━━━━━━━━━━━━━━━━━━━━━━━━━━━━━━━━━━━━━━━━━━━━━━━━━┩\n",
              "│<span style=\"color: #008080; text-decoration-color: #008080\"> event_date                    </span>│<span style=\"color: #800080; text-decoration-color: #800080\"> object  </span>│<span style=\"color: #008000; text-decoration-color: #008000\"> No (string)      </span>│<span style=\"color: #808000; text-decoration-color: #808000\"> 20210131                                           </span>│\n",
              "├───────────────────────────────┼─────────┼──────────────────┼────────────────────────────────────────────────────┤\n",
              "│<span style=\"color: #008080; text-decoration-color: #008080\"> event_timestamp               </span>│<span style=\"color: #800080; text-decoration-color: #800080\"> Int64   </span>│<span style=\"color: #008000; text-decoration-color: #008000\"> No (numeric)     </span>│<span style=\"color: #808000; text-decoration-color: #808000\"> 1612069510766593                                   </span>│\n",
              "├───────────────────────────────┼─────────┼──────────────────┼────────────────────────────────────────────────────┤\n",
              "│<span style=\"color: #008080; text-decoration-color: #008080\"> event_name                    </span>│<span style=\"color: #800080; text-decoration-color: #800080\"> object  </span>│<span style=\"color: #008000; text-decoration-color: #008000\"> No (string)      </span>│<span style=\"color: #808000; text-decoration-color: #808000\"> page_view                                          </span>│\n",
              "├───────────────────────────────┼─────────┼──────────────────┼────────────────────────────────────────────────────┤\n",
              "│<span style=\"color: #008080; text-decoration-color: #008080\"> event_params                  </span>│<span style=\"color: #800080; text-decoration-color: #800080\"> object  </span>│<span style=\"color: #008000; text-decoration-color: #008000\"> No               </span>│<span style=\"color: #808000; text-decoration-color: #808000\"> N/A                                                </span>│\n",
              "├───────────────────────────────┼─────────┼──────────────────┼────────────────────────────────────────────────────┤\n",
              "│<span style=\"color: #008080; text-decoration-color: #008080\"> event_previous_timestamp      </span>│<span style=\"color: #800080; text-decoration-color: #800080\"> Int64   </span>│<span style=\"color: #008000; text-decoration-color: #008000\"> No (numeric)     </span>│<span style=\"color: #808000; text-decoration-color: #808000\"> &lt;NA&gt;                                               </span>│\n",
              "├───────────────────────────────┼─────────┼──────────────────┼────────────────────────────────────────────────────┤\n",
              "│<span style=\"color: #008080; text-decoration-color: #008080\"> event_value_in_usd            </span>│<span style=\"color: #800080; text-decoration-color: #800080\"> float64 </span>│<span style=\"color: #008000; text-decoration-color: #008000\"> No (numeric)     </span>│<span style=\"color: #808000; text-decoration-color: #808000\"> nan                                                </span>│\n",
              "├───────────────────────────────┼─────────┼──────────────────┼────────────────────────────────────────────────────┤\n",
              "│<span style=\"color: #008080; text-decoration-color: #008080\"> event_bundle_sequence_id      </span>│<span style=\"color: #800080; text-decoration-color: #800080\"> Int64   </span>│<span style=\"color: #008000; text-decoration-color: #008000\"> No (numeric)     </span>│<span style=\"color: #808000; text-decoration-color: #808000\"> 6595101026                                         </span>│\n",
              "├───────────────────────────────┼─────────┼──────────────────┼────────────────────────────────────────────────────┤\n",
              "│<span style=\"color: #008080; text-decoration-color: #008080\"> event_server_timestamp_offset </span>│<span style=\"color: #800080; text-decoration-color: #800080\"> Int64   </span>│<span style=\"color: #008000; text-decoration-color: #008000\"> No (numeric)     </span>│<span style=\"color: #808000; text-decoration-color: #808000\"> &lt;NA&gt;                                               </span>│\n",
              "├───────────────────────────────┼─────────┼──────────────────┼────────────────────────────────────────────────────┤\n",
              "│<span style=\"color: #008080; text-decoration-color: #008080\"> user_id                       </span>│<span style=\"color: #800080; text-decoration-color: #800080\"> object  </span>│<span style=\"color: #008000; text-decoration-color: #008000\"> No               </span>│<span style=\"color: #808000; text-decoration-color: #808000\"> N/A                                                </span>│\n",
              "├───────────────────────────────┼─────────┼──────────────────┼────────────────────────────────────────────────────┤\n",
              "│<span style=\"color: #008080; text-decoration-color: #008080\"> user_pseudo_id                </span>│<span style=\"color: #800080; text-decoration-color: #800080\"> object  </span>│<span style=\"color: #008000; text-decoration-color: #008000\"> No (string)      </span>│<span style=\"color: #808000; text-decoration-color: #808000\"> 1026454.4271112504                                 </span>│\n",
              "├───────────────────────────────┼─────────┼──────────────────┼────────────────────────────────────────────────────┤\n",
              "│<span style=\"color: #008080; text-decoration-color: #008080\"> privacy_info                  </span>│<span style=\"color: #800080; text-decoration-color: #800080\"> object  </span>│<span style=\"color: #008000; text-decoration-color: #008000\"> Yes (dict)       </span>│<span style=\"color: #808000; text-decoration-color: #808000\"> dict:                                              </span>│\n",
              "├───────────────────────────────┼─────────┼──────────────────┼────────────────────────────────────────────────────┤\n",
              "│<span style=\"color: #008080; text-decoration-color: #008080\"> user_properties               </span>│<span style=\"color: #800080; text-decoration-color: #800080\"> object  </span>│<span style=\"color: #008000; text-decoration-color: #008000\"> No               </span>│<span style=\"color: #808000; text-decoration-color: #808000\"> N/A                                                </span>│\n",
              "├───────────────────────────────┼─────────┼──────────────────┼────────────────────────────────────────────────────┤\n",
              "│<span style=\"color: #008080; text-decoration-color: #008080\"> user_first_touch_timestamp    </span>│<span style=\"color: #800080; text-decoration-color: #800080\"> Int64   </span>│<span style=\"color: #008000; text-decoration-color: #008000\"> No (numeric)     </span>│<span style=\"color: #808000; text-decoration-color: #808000\"> 1612069510766593                                   </span>│\n",
              "├───────────────────────────────┼─────────┼──────────────────┼────────────────────────────────────────────────────┤\n",
              "│<span style=\"color: #008080; text-decoration-color: #008080\"> user_ltv                      </span>│<span style=\"color: #800080; text-decoration-color: #800080\"> object  </span>│<span style=\"color: #008000; text-decoration-color: #008000\"> Yes (dict)       </span>│<span style=\"color: #808000; text-decoration-color: #808000\"> dict:                                              </span>│\n",
              "├───────────────────────────────┼─────────┼──────────────────┼────────────────────────────────────────────────────┤\n",
              "│<span style=\"color: #008080; text-decoration-color: #008080\"> device                        </span>│<span style=\"color: #800080; text-decoration-color: #800080\"> object  </span>│<span style=\"color: #008000; text-decoration-color: #008000\"> Yes (dict)       </span>│<span style=\"color: #808000; text-decoration-color: #808000\"> dict: category: str, mobile_brand_name: str,       </span>│\n",
              "│<span style=\"color: #008080; text-decoration-color: #008080\">                               </span>│<span style=\"color: #800080; text-decoration-color: #800080\">         </span>│<span style=\"color: #008000; text-decoration-color: #008000\">                  </span>│<span style=\"color: #808000; text-decoration-color: #808000\"> mobile_model_name: str, mobile_marketing_name:     </span>│\n",
              "│<span style=\"color: #008080; text-decoration-color: #008080\">                               </span>│<span style=\"color: #800080; text-decoration-color: #800080\">         </span>│<span style=\"color: #008000; text-decoration-color: #008000\">                  </span>│<span style=\"color: #808000; text-decoration-color: #808000\"> str, mob...                                        </span>│\n",
              "├───────────────────────────────┼─────────┼──────────────────┼────────────────────────────────────────────────────┤\n",
              "│<span style=\"color: #008080; text-decoration-color: #008080\"> geo                           </span>│<span style=\"color: #800080; text-decoration-color: #800080\"> object  </span>│<span style=\"color: #008000; text-decoration-color: #008000\"> Yes (dict)       </span>│<span style=\"color: #808000; text-decoration-color: #808000\"> dict: continent: str, sub_continent: str, country: </span>│\n",
              "│<span style=\"color: #008080; text-decoration-color: #008080\">                               </span>│<span style=\"color: #800080; text-decoration-color: #800080\">         </span>│<span style=\"color: #008000; text-decoration-color: #008000\">                  </span>│<span style=\"color: #808000; text-decoration-color: #808000\"> str, region: str, city: str, ...                   </span>│\n",
              "├───────────────────────────────┼─────────┼──────────────────┼────────────────────────────────────────────────────┤\n",
              "│<span style=\"color: #008080; text-decoration-color: #008080\"> app_info                      </span>│<span style=\"color: #800080; text-decoration-color: #800080\"> object  </span>│<span style=\"color: #008000; text-decoration-color: #008000\"> No               </span>│<span style=\"color: #808000; text-decoration-color: #808000\"> N/A                                                </span>│\n",
              "├───────────────────────────────┼─────────┼──────────────────┼────────────────────────────────────────────────────┤\n",
              "│<span style=\"color: #008080; text-decoration-color: #008080\"> traffic_source                </span>│<span style=\"color: #800080; text-decoration-color: #800080\"> object  </span>│<span style=\"color: #008000; text-decoration-color: #008000\"> Yes (dict)       </span>│<span style=\"color: #808000; text-decoration-color: #808000\"> dict:                                              </span>│\n",
              "├───────────────────────────────┼─────────┼──────────────────┼────────────────────────────────────────────────────┤\n",
              "│<span style=\"color: #008080; text-decoration-color: #008080\"> stream_id                     </span>│<span style=\"color: #800080; text-decoration-color: #800080\"> Int64   </span>│<span style=\"color: #008000; text-decoration-color: #008000\"> No (numeric)     </span>│<span style=\"color: #808000; text-decoration-color: #808000\"> 2100450278                                         </span>│\n",
              "├───────────────────────────────┼─────────┼──────────────────┼────────────────────────────────────────────────────┤\n",
              "│<span style=\"color: #008080; text-decoration-color: #008080\"> platform                      </span>│<span style=\"color: #800080; text-decoration-color: #800080\"> object  </span>│<span style=\"color: #008000; text-decoration-color: #008000\"> No (string)      </span>│<span style=\"color: #808000; text-decoration-color: #808000\"> WEB                                                </span>│\n",
              "├───────────────────────────────┼─────────┼──────────────────┼────────────────────────────────────────────────────┤\n",
              "│<span style=\"color: #008080; text-decoration-color: #008080\"> event_dimensions              </span>│<span style=\"color: #800080; text-decoration-color: #800080\"> object  </span>│<span style=\"color: #008000; text-decoration-color: #008000\"> No               </span>│<span style=\"color: #808000; text-decoration-color: #808000\"> N/A                                                </span>│\n",
              "├───────────────────────────────┼─────────┼──────────────────┼────────────────────────────────────────────────────┤\n",
              "│<span style=\"color: #008080; text-decoration-color: #008080\"> ecommerce                     </span>│<span style=\"color: #800080; text-decoration-color: #800080\"> object  </span>│<span style=\"color: #008000; text-decoration-color: #008000\"> Yes (dict)       </span>│<span style=\"color: #808000; text-decoration-color: #808000\"> dict: total_item_quantity: NoneType,               </span>│\n",
              "│<span style=\"color: #008080; text-decoration-color: #008080\">                               </span>│<span style=\"color: #800080; text-decoration-color: #800080\">         </span>│<span style=\"color: #008000; text-decoration-color: #008000\">                  </span>│<span style=\"color: #808000; text-decoration-color: #808000\"> purchase_revenue_in_usd: NoneType,                 </span>│\n",
              "│<span style=\"color: #008080; text-decoration-color: #008080\">                               </span>│<span style=\"color: #800080; text-decoration-color: #800080\">         </span>│<span style=\"color: #008000; text-decoration-color: #008000\">                  </span>│<span style=\"color: #808000; text-decoration-color: #808000\"> purchase_revenue: NoneType, ...                    </span>│\n",
              "├───────────────────────────────┼─────────┼──────────────────┼────────────────────────────────────────────────────┤\n",
              "│<span style=\"color: #008080; text-decoration-color: #008080\"> items                         </span>│<span style=\"color: #800080; text-decoration-color: #800080\"> object  </span>│<span style=\"color: #008000; text-decoration-color: #008000\"> No               </span>│<span style=\"color: #808000; text-decoration-color: #808000\"> N/A                                                </span>│\n",
              "└───────────────────────────────┴─────────┴──────────────────┴────────────────────────────────────────────────────┘\n",
              "</pre>\n"
            ],
            "text/plain": [
              "\u001b[3m                                             Data Structure (Depth: 0)                                             \u001b[0m\n",
              "┏━━━━━━━━━━━━━━━━━━━━━━━━━━━━━━━┳━━━━━━━━━┳━━━━━━━━━━━━━━━━━━┳━━━━━━━━━━━━━━━━━━━━━━━━━━━━━━━━━━━━━━━━━━━━━━━━━━━━┓\n",
              "┃\u001b[1m \u001b[0m\u001b[1mColumn                       \u001b[0m\u001b[1m \u001b[0m┃\u001b[1m \u001b[0m\u001b[1mType   \u001b[0m\u001b[1m \u001b[0m┃\u001b[1m \u001b[0m\u001b[1mNested Structure\u001b[0m\u001b[1m \u001b[0m┃\u001b[1m \u001b[0m\u001b[1mSample Data                                       \u001b[0m\u001b[1m \u001b[0m┃\n",
              "┡━━━━━━━━━━━━━━━━━━━━━━━━━━━━━━━╇━━━━━━━━━╇━━━━━━━━━━━━━━━━━━╇━━━━━━━━━━━━━━━━━━━━━━━━━━━━━━━━━━━━━━━━━━━━━━━━━━━━┩\n",
              "│\u001b[36m \u001b[0m\u001b[36mevent_date                   \u001b[0m\u001b[36m \u001b[0m│\u001b[35m \u001b[0m\u001b[35mobject \u001b[0m\u001b[35m \u001b[0m│\u001b[32m \u001b[0m\u001b[32mNo (string)     \u001b[0m\u001b[32m \u001b[0m│\u001b[33m \u001b[0m\u001b[33m20210131                                          \u001b[0m\u001b[33m \u001b[0m│\n",
              "├───────────────────────────────┼─────────┼──────────────────┼────────────────────────────────────────────────────┤\n",
              "│\u001b[36m \u001b[0m\u001b[36mevent_timestamp              \u001b[0m\u001b[36m \u001b[0m│\u001b[35m \u001b[0m\u001b[35mInt64  \u001b[0m\u001b[35m \u001b[0m│\u001b[32m \u001b[0m\u001b[32mNo (numeric)    \u001b[0m\u001b[32m \u001b[0m│\u001b[33m \u001b[0m\u001b[33m1612069510766593                                  \u001b[0m\u001b[33m \u001b[0m│\n",
              "├───────────────────────────────┼─────────┼──────────────────┼────────────────────────────────────────────────────┤\n",
              "│\u001b[36m \u001b[0m\u001b[36mevent_name                   \u001b[0m\u001b[36m \u001b[0m│\u001b[35m \u001b[0m\u001b[35mobject \u001b[0m\u001b[35m \u001b[0m│\u001b[32m \u001b[0m\u001b[32mNo (string)     \u001b[0m\u001b[32m \u001b[0m│\u001b[33m \u001b[0m\u001b[33mpage_view                                         \u001b[0m\u001b[33m \u001b[0m│\n",
              "├───────────────────────────────┼─────────┼──────────────────┼────────────────────────────────────────────────────┤\n",
              "│\u001b[36m \u001b[0m\u001b[36mevent_params                 \u001b[0m\u001b[36m \u001b[0m│\u001b[35m \u001b[0m\u001b[35mobject \u001b[0m\u001b[35m \u001b[0m│\u001b[32m \u001b[0m\u001b[32mNo              \u001b[0m\u001b[32m \u001b[0m│\u001b[33m \u001b[0m\u001b[33mN/A                                               \u001b[0m\u001b[33m \u001b[0m│\n",
              "├───────────────────────────────┼─────────┼──────────────────┼────────────────────────────────────────────────────┤\n",
              "│\u001b[36m \u001b[0m\u001b[36mevent_previous_timestamp     \u001b[0m\u001b[36m \u001b[0m│\u001b[35m \u001b[0m\u001b[35mInt64  \u001b[0m\u001b[35m \u001b[0m│\u001b[32m \u001b[0m\u001b[32mNo (numeric)    \u001b[0m\u001b[32m \u001b[0m│\u001b[33m \u001b[0m\u001b[33m<NA>                                              \u001b[0m\u001b[33m \u001b[0m│\n",
              "├───────────────────────────────┼─────────┼──────────────────┼────────────────────────────────────────────────────┤\n",
              "│\u001b[36m \u001b[0m\u001b[36mevent_value_in_usd           \u001b[0m\u001b[36m \u001b[0m│\u001b[35m \u001b[0m\u001b[35mfloat64\u001b[0m\u001b[35m \u001b[0m│\u001b[32m \u001b[0m\u001b[32mNo (numeric)    \u001b[0m\u001b[32m \u001b[0m│\u001b[33m \u001b[0m\u001b[33mnan                                               \u001b[0m\u001b[33m \u001b[0m│\n",
              "├───────────────────────────────┼─────────┼──────────────────┼────────────────────────────────────────────────────┤\n",
              "│\u001b[36m \u001b[0m\u001b[36mevent_bundle_sequence_id     \u001b[0m\u001b[36m \u001b[0m│\u001b[35m \u001b[0m\u001b[35mInt64  \u001b[0m\u001b[35m \u001b[0m│\u001b[32m \u001b[0m\u001b[32mNo (numeric)    \u001b[0m\u001b[32m \u001b[0m│\u001b[33m \u001b[0m\u001b[33m6595101026                                        \u001b[0m\u001b[33m \u001b[0m│\n",
              "├───────────────────────────────┼─────────┼──────────────────┼────────────────────────────────────────────────────┤\n",
              "│\u001b[36m \u001b[0m\u001b[36mevent_server_timestamp_offset\u001b[0m\u001b[36m \u001b[0m│\u001b[35m \u001b[0m\u001b[35mInt64  \u001b[0m\u001b[35m \u001b[0m│\u001b[32m \u001b[0m\u001b[32mNo (numeric)    \u001b[0m\u001b[32m \u001b[0m│\u001b[33m \u001b[0m\u001b[33m<NA>                                              \u001b[0m\u001b[33m \u001b[0m│\n",
              "├───────────────────────────────┼─────────┼──────────────────┼────────────────────────────────────────────────────┤\n",
              "│\u001b[36m \u001b[0m\u001b[36muser_id                      \u001b[0m\u001b[36m \u001b[0m│\u001b[35m \u001b[0m\u001b[35mobject \u001b[0m\u001b[35m \u001b[0m│\u001b[32m \u001b[0m\u001b[32mNo              \u001b[0m\u001b[32m \u001b[0m│\u001b[33m \u001b[0m\u001b[33mN/A                                               \u001b[0m\u001b[33m \u001b[0m│\n",
              "├───────────────────────────────┼─────────┼──────────────────┼────────────────────────────────────────────────────┤\n",
              "│\u001b[36m \u001b[0m\u001b[36muser_pseudo_id               \u001b[0m\u001b[36m \u001b[0m│\u001b[35m \u001b[0m\u001b[35mobject \u001b[0m\u001b[35m \u001b[0m│\u001b[32m \u001b[0m\u001b[32mNo (string)     \u001b[0m\u001b[32m \u001b[0m│\u001b[33m \u001b[0m\u001b[33m1026454.4271112504                                \u001b[0m\u001b[33m \u001b[0m│\n",
              "├───────────────────────────────┼─────────┼──────────────────┼────────────────────────────────────────────────────┤\n",
              "│\u001b[36m \u001b[0m\u001b[36mprivacy_info                 \u001b[0m\u001b[36m \u001b[0m│\u001b[35m \u001b[0m\u001b[35mobject \u001b[0m\u001b[35m \u001b[0m│\u001b[32m \u001b[0m\u001b[32mYes (dict)      \u001b[0m\u001b[32m \u001b[0m│\u001b[33m \u001b[0m\u001b[33mdict:                                             \u001b[0m\u001b[33m \u001b[0m│\n",
              "├───────────────────────────────┼─────────┼──────────────────┼────────────────────────────────────────────────────┤\n",
              "│\u001b[36m \u001b[0m\u001b[36muser_properties              \u001b[0m\u001b[36m \u001b[0m│\u001b[35m \u001b[0m\u001b[35mobject \u001b[0m\u001b[35m \u001b[0m│\u001b[32m \u001b[0m\u001b[32mNo              \u001b[0m\u001b[32m \u001b[0m│\u001b[33m \u001b[0m\u001b[33mN/A                                               \u001b[0m\u001b[33m \u001b[0m│\n",
              "├───────────────────────────────┼─────────┼──────────────────┼────────────────────────────────────────────────────┤\n",
              "│\u001b[36m \u001b[0m\u001b[36muser_first_touch_timestamp   \u001b[0m\u001b[36m \u001b[0m│\u001b[35m \u001b[0m\u001b[35mInt64  \u001b[0m\u001b[35m \u001b[0m│\u001b[32m \u001b[0m\u001b[32mNo (numeric)    \u001b[0m\u001b[32m \u001b[0m│\u001b[33m \u001b[0m\u001b[33m1612069510766593                                  \u001b[0m\u001b[33m \u001b[0m│\n",
              "├───────────────────────────────┼─────────┼──────────────────┼────────────────────────────────────────────────────┤\n",
              "│\u001b[36m \u001b[0m\u001b[36muser_ltv                     \u001b[0m\u001b[36m \u001b[0m│\u001b[35m \u001b[0m\u001b[35mobject \u001b[0m\u001b[35m \u001b[0m│\u001b[32m \u001b[0m\u001b[32mYes (dict)      \u001b[0m\u001b[32m \u001b[0m│\u001b[33m \u001b[0m\u001b[33mdict:                                             \u001b[0m\u001b[33m \u001b[0m│\n",
              "├───────────────────────────────┼─────────┼──────────────────┼────────────────────────────────────────────────────┤\n",
              "│\u001b[36m \u001b[0m\u001b[36mdevice                       \u001b[0m\u001b[36m \u001b[0m│\u001b[35m \u001b[0m\u001b[35mobject \u001b[0m\u001b[35m \u001b[0m│\u001b[32m \u001b[0m\u001b[32mYes (dict)      \u001b[0m\u001b[32m \u001b[0m│\u001b[33m \u001b[0m\u001b[33mdict: category: str, mobile_brand_name: str,      \u001b[0m\u001b[33m \u001b[0m│\n",
              "│\u001b[36m                               \u001b[0m│\u001b[35m         \u001b[0m│\u001b[32m                  \u001b[0m│\u001b[33m \u001b[0m\u001b[33mmobile_model_name: str, mobile_marketing_name:    \u001b[0m\u001b[33m \u001b[0m│\n",
              "│\u001b[36m                               \u001b[0m│\u001b[35m         \u001b[0m│\u001b[32m                  \u001b[0m│\u001b[33m \u001b[0m\u001b[33mstr, mob...                                       \u001b[0m\u001b[33m \u001b[0m│\n",
              "├───────────────────────────────┼─────────┼──────────────────┼────────────────────────────────────────────────────┤\n",
              "│\u001b[36m \u001b[0m\u001b[36mgeo                          \u001b[0m\u001b[36m \u001b[0m│\u001b[35m \u001b[0m\u001b[35mobject \u001b[0m\u001b[35m \u001b[0m│\u001b[32m \u001b[0m\u001b[32mYes (dict)      \u001b[0m\u001b[32m \u001b[0m│\u001b[33m \u001b[0m\u001b[33mdict: continent: str, sub_continent: str, country:\u001b[0m\u001b[33m \u001b[0m│\n",
              "│\u001b[36m                               \u001b[0m│\u001b[35m         \u001b[0m│\u001b[32m                  \u001b[0m│\u001b[33m \u001b[0m\u001b[33mstr, region: str, city: str, ...                  \u001b[0m\u001b[33m \u001b[0m│\n",
              "├───────────────────────────────┼─────────┼──────────────────┼────────────────────────────────────────────────────┤\n",
              "│\u001b[36m \u001b[0m\u001b[36mapp_info                     \u001b[0m\u001b[36m \u001b[0m│\u001b[35m \u001b[0m\u001b[35mobject \u001b[0m\u001b[35m \u001b[0m│\u001b[32m \u001b[0m\u001b[32mNo              \u001b[0m\u001b[32m \u001b[0m│\u001b[33m \u001b[0m\u001b[33mN/A                                               \u001b[0m\u001b[33m \u001b[0m│\n",
              "├───────────────────────────────┼─────────┼──────────────────┼────────────────────────────────────────────────────┤\n",
              "│\u001b[36m \u001b[0m\u001b[36mtraffic_source               \u001b[0m\u001b[36m \u001b[0m│\u001b[35m \u001b[0m\u001b[35mobject \u001b[0m\u001b[35m \u001b[0m│\u001b[32m \u001b[0m\u001b[32mYes (dict)      \u001b[0m\u001b[32m \u001b[0m│\u001b[33m \u001b[0m\u001b[33mdict:                                             \u001b[0m\u001b[33m \u001b[0m│\n",
              "├───────────────────────────────┼─────────┼──────────────────┼────────────────────────────────────────────────────┤\n",
              "│\u001b[36m \u001b[0m\u001b[36mstream_id                    \u001b[0m\u001b[36m \u001b[0m│\u001b[35m \u001b[0m\u001b[35mInt64  \u001b[0m\u001b[35m \u001b[0m│\u001b[32m \u001b[0m\u001b[32mNo (numeric)    \u001b[0m\u001b[32m \u001b[0m│\u001b[33m \u001b[0m\u001b[33m2100450278                                        \u001b[0m\u001b[33m \u001b[0m│\n",
              "├───────────────────────────────┼─────────┼──────────────────┼────────────────────────────────────────────────────┤\n",
              "│\u001b[36m \u001b[0m\u001b[36mplatform                     \u001b[0m\u001b[36m \u001b[0m│\u001b[35m \u001b[0m\u001b[35mobject \u001b[0m\u001b[35m \u001b[0m│\u001b[32m \u001b[0m\u001b[32mNo (string)     \u001b[0m\u001b[32m \u001b[0m│\u001b[33m \u001b[0m\u001b[33mWEB                                               \u001b[0m\u001b[33m \u001b[0m│\n",
              "├───────────────────────────────┼─────────┼──────────────────┼────────────────────────────────────────────────────┤\n",
              "│\u001b[36m \u001b[0m\u001b[36mevent_dimensions             \u001b[0m\u001b[36m \u001b[0m│\u001b[35m \u001b[0m\u001b[35mobject \u001b[0m\u001b[35m \u001b[0m│\u001b[32m \u001b[0m\u001b[32mNo              \u001b[0m\u001b[32m \u001b[0m│\u001b[33m \u001b[0m\u001b[33mN/A                                               \u001b[0m\u001b[33m \u001b[0m│\n",
              "├───────────────────────────────┼─────────┼──────────────────┼────────────────────────────────────────────────────┤\n",
              "│\u001b[36m \u001b[0m\u001b[36mecommerce                    \u001b[0m\u001b[36m \u001b[0m│\u001b[35m \u001b[0m\u001b[35mobject \u001b[0m\u001b[35m \u001b[0m│\u001b[32m \u001b[0m\u001b[32mYes (dict)      \u001b[0m\u001b[32m \u001b[0m│\u001b[33m \u001b[0m\u001b[33mdict: total_item_quantity: NoneType,              \u001b[0m\u001b[33m \u001b[0m│\n",
              "│\u001b[36m                               \u001b[0m│\u001b[35m         \u001b[0m│\u001b[32m                  \u001b[0m│\u001b[33m \u001b[0m\u001b[33mpurchase_revenue_in_usd: NoneType,                \u001b[0m\u001b[33m \u001b[0m│\n",
              "│\u001b[36m                               \u001b[0m│\u001b[35m         \u001b[0m│\u001b[32m                  \u001b[0m│\u001b[33m \u001b[0m\u001b[33mpurchase_revenue: NoneType, ...                   \u001b[0m\u001b[33m \u001b[0m│\n",
              "├───────────────────────────────┼─────────┼──────────────────┼────────────────────────────────────────────────────┤\n",
              "│\u001b[36m \u001b[0m\u001b[36mitems                        \u001b[0m\u001b[36m \u001b[0m│\u001b[35m \u001b[0m\u001b[35mobject \u001b[0m\u001b[35m \u001b[0m│\u001b[32m \u001b[0m\u001b[32mNo              \u001b[0m\u001b[32m \u001b[0m│\u001b[33m \u001b[0m\u001b[33mN/A                                               \u001b[0m\u001b[33m \u001b[0m│\n",
              "└───────────────────────────────┴─────────┴──────────────────┴────────────────────────────────────────────────────┘\n"
            ]
          },
          "metadata": {},
          "output_type": "display_data"
        },
        {
          "data": {
            "text/html": [
              "<pre style=\"white-space:pre;overflow-x:auto;line-height:normal;font-family:Menlo,'DejaVu Sans Mono',consolas,'Courier New',monospace\">\n",
              "Detailed analysis of <span style=\"color: #008000; text-decoration-color: #008000\">'event_params'</span> column:\n",
              "</pre>\n"
            ],
            "text/plain": [
              "\n",
              "Detailed analysis of \u001b[32m'event_params'\u001b[0m column:\n"
            ]
          },
          "metadata": {},
          "output_type": "display_data"
        },
        {
          "data": {
            "text/html": [
              "<pre style=\"white-space:pre;overflow-x:auto;line-height:normal;font-family:Menlo,'DejaVu Sans Mono',consolas,'Courier New',monospace\">ndarray\n",
              "</pre>\n"
            ],
            "text/plain": [
              "ndarray\n"
            ]
          },
          "metadata": {},
          "output_type": "display_data"
        },
        {
          "data": {
            "text/html": [
              "<pre style=\"white-space:pre;overflow-x:auto;line-height:normal;font-family:Menlo,'DejaVu Sans Mono',consolas,'Courier New',monospace\">\n",
              "Detailed analysis of <span style=\"color: #008000; text-decoration-color: #008000\">'device'</span> column:\n",
              "</pre>\n"
            ],
            "text/plain": [
              "\n",
              "Detailed analysis of \u001b[32m'device'\u001b[0m column:\n"
            ]
          },
          "metadata": {},
          "output_type": "display_data"
        },
        {
          "data": {
            "text/html": [
              "<pre style=\"white-space:pre;overflow-x:auto;line-height:normal;font-family:Menlo,'DejaVu Sans Mono',consolas,'Courier New',monospace\">dict: category: str, mobile_brand_name: str, mobile_model_name: str, mobile_marketing_name: str, \n",
              "mobile_os_hardware_model: NoneType, <span style=\"color: #808000; text-decoration-color: #808000\">...</span>\n",
              "</pre>\n"
            ],
            "text/plain": [
              "dict: category: str, mobile_brand_name: str, mobile_model_name: str, mobile_marketing_name: str, \n",
              "mobile_os_hardware_model: NoneType, \u001b[33m...\u001b[0m\n"
            ]
          },
          "metadata": {},
          "output_type": "display_data"
        },
        {
          "data": {
            "text/html": [
              "<pre style=\"white-space:pre;overflow-x:auto;line-height:normal;font-family:Menlo,'DejaVu Sans Mono',consolas,'Courier New',monospace\">\n",
              "Detailed analysis of <span style=\"color: #008000; text-decoration-color: #008000\">'ecommerce'</span> column:\n",
              "</pre>\n"
            ],
            "text/plain": [
              "\n",
              "Detailed analysis of \u001b[32m'ecommerce'\u001b[0m column:\n"
            ]
          },
          "metadata": {},
          "output_type": "display_data"
        },
        {
          "data": {
            "text/html": [
              "<pre style=\"white-space:pre;overflow-x:auto;line-height:normal;font-family:Menlo,'DejaVu Sans Mono',consolas,'Courier New',monospace\">dict: total_item_quantity: NoneType, purchase_revenue_in_usd: NoneType, purchase_revenue: NoneType, \n",
              "refund_value_in_usd: NoneType, refund_value: NoneType, <span style=\"color: #808000; text-decoration-color: #808000\">...</span>\n",
              "</pre>\n"
            ],
            "text/plain": [
              "dict: total_item_quantity: NoneType, purchase_revenue_in_usd: NoneType, purchase_revenue: NoneType, \n",
              "refund_value_in_usd: NoneType, refund_value: NoneType, \u001b[33m...\u001b[0m\n"
            ]
          },
          "metadata": {},
          "output_type": "display_data"
        },
        {
          "data": {
            "text/html": [
              "<pre style=\"white-space:pre;overflow-x:auto;line-height:normal;font-family:Menlo,'DejaVu Sans Mono',consolas,'Courier New',monospace\">\n",
              "Detailed analysis of <span style=\"color: #008000; text-decoration-color: #008000\">'items'</span> column:\n",
              "</pre>\n"
            ],
            "text/plain": [
              "\n",
              "Detailed analysis of \u001b[32m'items'\u001b[0m column:\n"
            ]
          },
          "metadata": {},
          "output_type": "display_data"
        },
        {
          "data": {
            "text/html": [
              "<pre style=\"white-space:pre;overflow-x:auto;line-height:normal;font-family:Menlo,'DejaVu Sans Mono',consolas,'Courier New',monospace\">ndarray\n",
              "</pre>\n"
            ],
            "text/plain": [
              "ndarray\n"
            ]
          },
          "metadata": {},
          "output_type": "display_data"
        }
      ],
      "source": [
        "from rich.console import Console\n",
        "from rich.table import Table\n",
        "from rich.panel import Panel\n",
        "import pandas as pd\n",
        "import numpy as np\n",
        "\n",
        "console = Console()\n",
        "\n",
        "def analyze_nested_structure(data, depth=0, max_depth=5):\n",
        "    if depth >= max_depth:\n",
        "        return \"Max depth reached\"\n",
        "    if isinstance(data, dict):\n",
        "        return \"dict: \" + \", \".join([f\"{k}: {analyze_nested_structure(v, depth+1, max_depth)}\" for k, v in list(data.items())[:5]] + [\"...\"] if len(data) > 5 else [])\n",
        "    elif isinstance(data, list):\n",
        "        if len(data) > 0:\n",
        "            return f\"list of {len(data)} items, first item: {analyze_nested_structure(data[0], depth+1, max_depth)}\"\n",
        "        else:\n",
        "            return \"empty list\"\n",
        "    else:\n",
        "        return str(type(data).__name__)\n",
        "\n",
        "def is_numeric_dtype(dtype):\n",
        "    try:\n",
        "        return np.issubdtype(dtype, np.number)\n",
        "    except TypeError:\n",
        "        return pd.api.types.is_numeric_dtype(dtype)\n",
        "\n",
        "def analyze_structure(df, prefix='', depth=0, max_depth=5):\n",
        "    structure = Table(title=f\"Data Structure (Depth: {depth})\", show_lines=True)\n",
        "    structure.add_column(\"Column\", style=\"cyan\", no_wrap=True)\n",
        "    structure.add_column(\"Type\", style=\"magenta\")\n",
        "    structure.add_column(\"Nested Structure\", style=\"green\")\n",
        "    structure.add_column(\"Sample Data\", style=\"yellow\")\n",
        "\n",
        "    for col in df.columns:\n",
        "        col_type = str(df[col].dtype)\n",
        "        nested = \"No\"\n",
        "        sample_data = \"N/A\"\n",
        "\n",
        "        if df[col].dtype == 'object':\n",
        "            sample = df[col].dropna().iloc[0] if df[col].notna().any() else None\n",
        "            if isinstance(sample, dict):\n",
        "                nested = \"Yes (dict)\"\n",
        "                sample_data = analyze_nested_structure(sample, depth=depth, max_depth=max_depth)\n",
        "            elif isinstance(sample, list):\n",
        "                nested = \"Yes (list)\"\n",
        "                sample_data = analyze_nested_structure(sample, depth=depth, max_depth=max_depth)\n",
        "            elif isinstance(sample, str):\n",
        "                nested = \"No (string)\"\n",
        "                sample_data = sample[:30] + \"...\" if len(sample) > 30 else sample\n",
        "        elif is_numeric_dtype(df[col].dtype):\n",
        "            nested = \"No (numeric)\"\n",
        "            sample_data = str(df[col].iloc[0])\n",
        "\n",
        "        structure.add_row(f\"{prefix}{col}\", col_type, nested, str(sample_data)[:100] + \"...\" if len(str(sample_data)) > 100 else str(sample_data))\n",
        "\n",
        "        # Recursively analyze nested structures\n",
        "        if nested.startswith(\"Yes\") and depth < max_depth:\n",
        "            if isinstance(sample, dict):\n",
        "                nested_df = pd.DataFrame([sample])\n",
        "            elif isinstance(sample, list) and len(sample) > 0 and isinstance(sample[0], dict):\n",
        "                nested_df = pd.DataFrame(sample[:])\n",
        "            else:\n",
        "                continue\n",
        "\n",
        "            console.print(f\"\\nNested structure for {col} (Depth: {depth + 1}):\")\n",
        "            analyze_structure(nested_df, prefix=f\"{prefix}{col}.\", depth=depth + 1, max_depth=max_depth)\n",
        "\n",
        "    console.print(structure)\n",
        "\n",
        "# Analyze the main DataFrame\n",
        "console.print(Panel(f\"Analyzing {len(df.columns)} columns\", style=\"bold green\"))\n",
        "analyze_structure(df, max_depth=5)  # Increased max_depth to 5\n",
        "\n",
        "# Detailed analysis of specific columns\n",
        "for column in ['event_params', 'device', 'ecommerce', 'items']:\n",
        "    if column in df.columns:\n",
        "        console.print(f\"\\nDetailed analysis of '{column}' column:\")\n",
        "        sample = df[column].dropna().iloc[0]\n",
        "        console.print(analyze_nested_structure(sample, max_depth=6))\n",
        "\n"
      ]
    },
    {
      "cell_type": "code",
      "execution_count": null,
      "metadata": {
        "id": "VvgyZiQrhBN0"
      },
      "outputs": [],
      "source": [
        "\n",
        "query_audience_overview = \"\"\"\n",
        "WITH session_details AS (\n",
        "  SELECT\n",
        "    COUNT(DISTINCT CASE WHEN page_views = 1 THEN ga_session_id END)\n",
        "      / COUNT(DISTINCT CONCAT(user_pseudo_id, ga_session_id)) AS session_bounce_rate,\n",
        "    SUM(CAST(session_engaged AS INT))\n",
        "      / COUNT(DISTINCT CONCAT(user_pseudo_id, ga_session_id)) AS session_engagement_rate,\n",
        "    SUM(engagement_time_msec) / 1000  -- in milliseconds\n",
        "      / COUNT(DISTINCT CONCAT(user_pseudo_id, ga_session_id)) AS ga4_session_duration,\n",
        "    SUM(end_time - start_time) / 1000000  -- timestamp in microseconds\n",
        "      / COUNT(DISTINCT CONCAT(user_pseudo_id, ga_session_id)) AS ua_session_duration\n",
        "  FROM (\n",
        "    SELECT\n",
        "      user_pseudo_id,\n",
        "      (SELECT value.int_value FROM UNNEST(event_params) WHERE key = 'ga_session_id') AS ga_session_id,\n",
        "      COUNT(DISTINCT CASE WHEN event_name = \"page_view\" THEN CONCAT(user_pseudo_id, event_timestamp) END) AS page_views,\n",
        "      MAX((SELECT value.string_value FROM UNNEST(event_params) WHERE key = 'session_engaged')) AS session_engaged,\n",
        "      MAX((SELECT value.int_value FROM UNNEST(event_params) WHERE key = 'engagement_time_msec')) AS engagement_time_msec,\n",
        "      MIN(event_timestamp) AS start_time,\n",
        "      MAX(event_timestamp) AS end_time\n",
        "    FROM `bigquery-public-data.ga4_obfuscated_sample_ecommerce.events_20210131`\n",
        "    GROUP BY 1, 2\n",
        "  )\n",
        ")\n",
        "SELECT\n",
        "  COUNT(DISTINCT user_pseudo_id) AS user_count,\n",
        "  COUNT(DISTINCT CASE WHEN event_name = \"first_visit\" THEN user_pseudo_id END) AS new_users,\n",
        "  COUNT(DISTINCT CASE WHEN event_name = \"session_start\" THEN CONCAT(user_pseudo_id, event_timestamp) END) AS sessions,\n",
        "  COUNT(DISTINCT CASE WHEN event_name = \"page_view\" THEN CONCAT(user_pseudo_id, event_timestamp) END) AS page_views,\n",
        "  MAX(session_bounce_rate) AS session_bounce_rate,\n",
        "  MAX(session_engagement_rate) AS session_engagement_rate,\n",
        "  MAX(ga4_session_duration) AS ga4_session_duration,\n",
        "  MAX(ua_session_duration) AS ua_session_duration,\n",
        "  COUNT(DISTINCT CASE WHEN event_name = \"session_start\" THEN CONCAT(user_pseudo_id, event_timestamp) END)\n",
        "    / COUNT(DISTINCT user_pseudo_id) AS sessions_per_user,\n",
        "  COUNT(DISTINCT CASE WHEN event_name = \"page_view\" THEN CONCAT(user_pseudo_id, event_timestamp) END)\n",
        "    / COUNT(DISTINCT CASE WHEN event_name = \"session_start\" THEN CONCAT(user_pseudo_id, event_timestamp) END) AS page_per_session\n",
        "FROM `bigquery-public-data.ga4_obfuscated_sample_ecommerce.events_20210131`\n",
        "CROSS JOIN (SELECT * FROM session_details)\n",
        "\"\"\"\n",
        "\n",
        "\n",
        "df_ao = client.query(query_audience_overview).to_dataframe()"
      ]
    },
    {
      "cell_type": "code",
      "execution_count": null,
      "metadata": {
        "colab": {
          "base_uri": "https://localhost:8080/",
          "height": 1000
        },
        "id": "iViZe85Xh-Q3",
        "outputId": "68dc7bf1-952a-4097-cbfa-1c681d17b4d9"
      },
      "outputs": [
        {
          "data": {
            "text/html": [
              "<pre style=\"white-space:pre;overflow-x:auto;line-height:normal;font-family:Menlo,'DejaVu Sans Mono',consolas,'Courier New',monospace\"><span style=\"font-style: italic\">  GA4 E-commerce Metrics Overview   </span>\n",
              "<span style=\"font-style: italic\">         (January 31, 2021)         </span>\n",
              "╭─────────────────────────┬────────╮\n",
              "│<span style=\"font-weight: bold\"> Metric                  </span>│<span style=\"font-weight: bold\">  Value </span>│\n",
              "├─────────────────────────┼────────┤\n",
              "│<span style=\"color: #008080; text-decoration-color: #008080\"> user_count              </span>│<span style=\"color: #800080; text-decoration-color: #800080\">   2546 </span>│\n",
              "│<span style=\"color: #008080; text-decoration-color: #008080\"> new_users               </span>│<span style=\"color: #800080; text-decoration-color: #800080\">   2126 </span>│\n",
              "│<span style=\"color: #008080; text-decoration-color: #008080\"> sessions                </span>│<span style=\"color: #800080; text-decoration-color: #800080\">   2760 </span>│\n",
              "│<span style=\"color: #008080; text-decoration-color: #008080\"> page_views              </span>│<span style=\"color: #800080; text-decoration-color: #800080\">   9498 </span>│\n",
              "│<span style=\"color: #008080; text-decoration-color: #008080\"> session_bounce_rate     </span>│<span style=\"color: #800080; text-decoration-color: #800080\">  5.83% </span>│\n",
              "│<span style=\"color: #008080; text-decoration-color: #008080\"> session_engagement_rate </span>│<span style=\"color: #800080; text-decoration-color: #800080\"> 90.07% </span>│\n",
              "│<span style=\"color: #008080; text-decoration-color: #008080\"> ga4_session_duration    </span>│<span style=\"color: #800080; text-decoration-color: #800080\">  15.83 </span>│\n",
              "│<span style=\"color: #008080; text-decoration-color: #008080\"> ua_session_duration     </span>│<span style=\"color: #800080; text-decoration-color: #800080\"> 155.61 </span>│\n",
              "│<span style=\"color: #008080; text-decoration-color: #008080\"> sessions_per_user       </span>│<span style=\"color: #800080; text-decoration-color: #800080\">   1.08 </span>│\n",
              "│<span style=\"color: #008080; text-decoration-color: #008080\"> page_per_session        </span>│<span style=\"color: #800080; text-decoration-color: #800080\">   3.44 </span>│\n",
              "╰─────────────────────────┴────────╯\n",
              "</pre>\n"
            ],
            "text/plain": [
              "\u001b[3m  GA4 E-commerce Metrics Overview   \u001b[0m\n",
              "\u001b[3m         (January 31, 2021)         \u001b[0m\n",
              "╭─────────────────────────┬────────╮\n",
              "│\u001b[1m \u001b[0m\u001b[1mMetric                 \u001b[0m\u001b[1m \u001b[0m│\u001b[1m \u001b[0m\u001b[1m Value\u001b[0m\u001b[1m \u001b[0m│\n",
              "├─────────────────────────┼────────┤\n",
              "│\u001b[36m \u001b[0m\u001b[36muser_count             \u001b[0m\u001b[36m \u001b[0m│\u001b[35m \u001b[0m\u001b[35m  2546\u001b[0m\u001b[35m \u001b[0m│\n",
              "│\u001b[36m \u001b[0m\u001b[36mnew_users              \u001b[0m\u001b[36m \u001b[0m│\u001b[35m \u001b[0m\u001b[35m  2126\u001b[0m\u001b[35m \u001b[0m│\n",
              "│\u001b[36m \u001b[0m\u001b[36msessions               \u001b[0m\u001b[36m \u001b[0m│\u001b[35m \u001b[0m\u001b[35m  2760\u001b[0m\u001b[35m \u001b[0m│\n",
              "│\u001b[36m \u001b[0m\u001b[36mpage_views             \u001b[0m\u001b[36m \u001b[0m│\u001b[35m \u001b[0m\u001b[35m  9498\u001b[0m\u001b[35m \u001b[0m│\n",
              "│\u001b[36m \u001b[0m\u001b[36msession_bounce_rate    \u001b[0m\u001b[36m \u001b[0m│\u001b[35m \u001b[0m\u001b[35m 5.83%\u001b[0m\u001b[35m \u001b[0m│\n",
              "│\u001b[36m \u001b[0m\u001b[36msession_engagement_rate\u001b[0m\u001b[36m \u001b[0m│\u001b[35m \u001b[0m\u001b[35m90.07%\u001b[0m\u001b[35m \u001b[0m│\n",
              "│\u001b[36m \u001b[0m\u001b[36mga4_session_duration   \u001b[0m\u001b[36m \u001b[0m│\u001b[35m \u001b[0m\u001b[35m 15.83\u001b[0m\u001b[35m \u001b[0m│\n",
              "│\u001b[36m \u001b[0m\u001b[36mua_session_duration    \u001b[0m\u001b[36m \u001b[0m│\u001b[35m \u001b[0m\u001b[35m155.61\u001b[0m\u001b[35m \u001b[0m│\n",
              "│\u001b[36m \u001b[0m\u001b[36msessions_per_user      \u001b[0m\u001b[36m \u001b[0m│\u001b[35m \u001b[0m\u001b[35m  1.08\u001b[0m\u001b[35m \u001b[0m│\n",
              "│\u001b[36m \u001b[0m\u001b[36mpage_per_session       \u001b[0m\u001b[36m \u001b[0m│\u001b[35m \u001b[0m\u001b[35m  3.44\u001b[0m\u001b[35m \u001b[0m│\n",
              "╰─────────────────────────┴────────╯\n"
            ]
          },
          "metadata": {},
          "output_type": "display_data"
        },
        {
          "data": {
            "text/html": [
              "<pre style=\"white-space:pre;overflow-x:auto;line-height:normal;font-family:Menlo,'DejaVu Sans Mono',consolas,'Courier New',monospace\"><span style=\"color: #008080; text-decoration-color: #008080; font-weight: bold\">╭─────────────────────────────────────────────────────────────────────────────────────────────────────────────────╮</span>\n",
              "<span style=\"color: #008080; text-decoration-color: #008080; font-weight: bold\">│ Metric Explanations                                                                                             │</span>\n",
              "<span style=\"color: #008080; text-decoration-color: #008080; font-weight: bold\">╰─────────────────────────────────────────────────────────────────────────────────────────────────────────────────╯</span>\n",
              "</pre>\n"
            ],
            "text/plain": [
              "\u001b[1;36m╭─────────────────────────────────────────────────────────────────────────────────────────────────────────────────╮\u001b[0m\n",
              "\u001b[1;36m│\u001b[0m\u001b[1;36m \u001b[0m\u001b[1;36mMetric Explanations\u001b[0m\u001b[1;36m                                                                                            \u001b[0m\u001b[1;36m \u001b[0m\u001b[1;36m│\u001b[0m\n",
              "\u001b[1;36m╰─────────────────────────────────────────────────────────────────────────────────────────────────────────────────╯\u001b[0m\n"
            ]
          },
          "metadata": {},
          "output_type": "display_data"
        },
        {
          "data": {
            "text/html": [
              "<pre style=\"white-space:pre;overflow-x:auto;line-height:normal;font-family:Menlo,'DejaVu Sans Mono',consolas,'Courier New',monospace\">╭────────────────────────────────────────────────── User Count ───────────────────────────────────────────────────╮\n",
              "│ Total number of unique users who visited the site.                                                              │\n",
              "╰─────────────────────────────────────────────────────────────────────────────────────────────────────────────────╯\n",
              "</pre>\n"
            ],
            "text/plain": [
              "╭────────────────────────────────────────────────── User Count ───────────────────────────────────────────────────╮\n",
              "│ Total number of unique users who visited the site.                                                              │\n",
              "╰─────────────────────────────────────────────────────────────────────────────────────────────────────────────────╯\n"
            ]
          },
          "metadata": {},
          "output_type": "display_data"
        },
        {
          "data": {
            "text/html": [
              "<pre style=\"white-space:pre;overflow-x:auto;line-height:normal;font-family:Menlo,'DejaVu Sans Mono',consolas,'Courier New',monospace\">╭─────────────────────────────────────────────────── New Users ───────────────────────────────────────────────────╮\n",
              "│ Number of first-time visitors to the site.                                                                      │\n",
              "╰─────────────────────────────────────────────────────────────────────────────────────────────────────────────────╯\n",
              "</pre>\n"
            ],
            "text/plain": [
              "╭─────────────────────────────────────────────────── New Users ───────────────────────────────────────────────────╮\n",
              "│ Number of first-time visitors to the site.                                                                      │\n",
              "╰─────────────────────────────────────────────────────────────────────────────────────────────────────────────────╯\n"
            ]
          },
          "metadata": {},
          "output_type": "display_data"
        },
        {
          "data": {
            "text/html": [
              "<pre style=\"white-space:pre;overflow-x:auto;line-height:normal;font-family:Menlo,'DejaVu Sans Mono',consolas,'Courier New',monospace\">╭─────────────────────────────────────────────────── Sessions ────────────────────────────────────────────────────╮\n",
              "│ Total number of sessions initiated by all users.                                                                │\n",
              "╰─────────────────────────────────────────────────────────────────────────────────────────────────────────────────╯\n",
              "</pre>\n"
            ],
            "text/plain": [
              "╭─────────────────────────────────────────────────── Sessions ────────────────────────────────────────────────────╮\n",
              "│ Total number of sessions initiated by all users.                                                                │\n",
              "╰─────────────────────────────────────────────────────────────────────────────────────────────────────────────────╯\n"
            ]
          },
          "metadata": {},
          "output_type": "display_data"
        },
        {
          "data": {
            "text/html": [
              "<pre style=\"white-space:pre;overflow-x:auto;line-height:normal;font-family:Menlo,'DejaVu Sans Mono',consolas,'Courier New',monospace\">╭────────────────────────────────────────────────── Page Views ───────────────────────────────────────────────────╮\n",
              "│ Total number of pages viewed across all sessions.                                                               │\n",
              "╰─────────────────────────────────────────────────────────────────────────────────────────────────────────────────╯\n",
              "</pre>\n"
            ],
            "text/plain": [
              "╭────────────────────────────────────────────────── Page Views ───────────────────────────────────────────────────╮\n",
              "│ Total number of pages viewed across all sessions.                                                               │\n",
              "╰─────────────────────────────────────────────────────────────────────────────────────────────────────────────────╯\n"
            ]
          },
          "metadata": {},
          "output_type": "display_data"
        },
        {
          "data": {
            "text/html": [
              "<pre style=\"white-space:pre;overflow-x:auto;line-height:normal;font-family:Menlo,'DejaVu Sans Mono',consolas,'Courier New',monospace\">╭────────────────────────────────────────────── Session Bounce Rate ──────────────────────────────────────────────╮\n",
              "│ Percentage of single-page sessions (sessions in which the user left the site from the landing page).            │\n",
              "╰─────────────────────────────────────────────────────────────────────────────────────────────────────────────────╯\n",
              "</pre>\n"
            ],
            "text/plain": [
              "╭────────────────────────────────────────────── Session Bounce Rate ──────────────────────────────────────────────╮\n",
              "│ Percentage of single-page sessions (sessions in which the user left the site from the landing page).            │\n",
              "╰─────────────────────────────────────────────────────────────────────────────────────────────────────────────────╯\n"
            ]
          },
          "metadata": {},
          "output_type": "display_data"
        },
        {
          "data": {
            "text/html": [
              "<pre style=\"white-space:pre;overflow-x:auto;line-height:normal;font-family:Menlo,'DejaVu Sans Mono',consolas,'Courier New',monospace\">╭──────────────────────────────────────────── Session Engagement Rate ────────────────────────────────────────────╮\n",
              "│ Percentage of sessions that were engaged (involved significant interaction).                                    │\n",
              "╰─────────────────────────────────────────────────────────────────────────────────────────────────────────────────╯\n",
              "</pre>\n"
            ],
            "text/plain": [
              "╭──────────────────────────────────────────── Session Engagement Rate ────────────────────────────────────────────╮\n",
              "│ Percentage of sessions that were engaged (involved significant interaction).                                    │\n",
              "╰─────────────────────────────────────────────────────────────────────────────────────────────────────────────────╯\n"
            ]
          },
          "metadata": {},
          "output_type": "display_data"
        },
        {
          "data": {
            "text/html": [
              "<pre style=\"white-space:pre;overflow-x:auto;line-height:normal;font-family:Menlo,'DejaVu Sans Mono',consolas,'Courier New',monospace\">╭───────────────────────────────────────────── GA4 Session Duration ──────────────────────────────────────────────╮\n",
              "│ Average session duration calculated using Google Analytics 4 method (in seconds).                               │\n",
              "╰─────────────────────────────────────────────────────────────────────────────────────────────────────────────────╯\n",
              "</pre>\n"
            ],
            "text/plain": [
              "╭───────────────────────────────────────────── GA4 Session Duration ──────────────────────────────────────────────╮\n",
              "│ Average session duration calculated using Google Analytics 4 method (in seconds).                               │\n",
              "╰─────────────────────────────────────────────────────────────────────────────────────────────────────────────────╯\n"
            ]
          },
          "metadata": {},
          "output_type": "display_data"
        },
        {
          "data": {
            "text/html": [
              "<pre style=\"white-space:pre;overflow-x:auto;line-height:normal;font-family:Menlo,'DejaVu Sans Mono',consolas,'Courier New',monospace\">╭────────────────────────────────────────────── UA Session Duration ──────────────────────────────────────────────╮\n",
              "│ Average session duration calculated using Universal Analytics method (in seconds).                              │\n",
              "╰─────────────────────────────────────────────────────────────────────────────────────────────────────────────────╯\n",
              "</pre>\n"
            ],
            "text/plain": [
              "╭────────────────────────────────────────────── UA Session Duration ──────────────────────────────────────────────╮\n",
              "│ Average session duration calculated using Universal Analytics method (in seconds).                              │\n",
              "╰─────────────────────────────────────────────────────────────────────────────────────────────────────────────────╯\n"
            ]
          },
          "metadata": {},
          "output_type": "display_data"
        },
        {
          "data": {
            "text/html": [
              "<pre style=\"white-space:pre;overflow-x:auto;line-height:normal;font-family:Menlo,'DejaVu Sans Mono',consolas,'Courier New',monospace\">╭─────────────────────────────────────────────── Sessions per User ───────────────────────────────────────────────╮\n",
              "│ Average number of sessions per user.                                                                            │\n",
              "╰─────────────────────────────────────────────────────────────────────────────────────────────────────────────────╯\n",
              "</pre>\n"
            ],
            "text/plain": [
              "╭─────────────────────────────────────────────── Sessions per User ───────────────────────────────────────────────╮\n",
              "│ Average number of sessions per user.                                                                            │\n",
              "╰─────────────────────────────────────────────────────────────────────────────────────────────────────────────────╯\n"
            ]
          },
          "metadata": {},
          "output_type": "display_data"
        },
        {
          "data": {
            "text/html": [
              "<pre style=\"white-space:pre;overflow-x:auto;line-height:normal;font-family:Menlo,'DejaVu Sans Mono',consolas,'Courier New',monospace\">╭─────────────────────────────────────────────── Pages per Session ───────────────────────────────────────────────╮\n",
              "│ Average number of pages viewed per session.                                                                     │\n",
              "╰─────────────────────────────────────────────────────────────────────────────────────────────────────────────────╯\n",
              "</pre>\n"
            ],
            "text/plain": [
              "╭─────────────────────────────────────────────── Pages per Session ───────────────────────────────────────────────╮\n",
              "│ Average number of pages viewed per session.                                                                     │\n",
              "╰─────────────────────────────────────────────────────────────────────────────────────────────────────────────────╯\n"
            ]
          },
          "metadata": {},
          "output_type": "display_data"
        },
        {
          "data": {
            "text/html": [
              "<pre style=\"white-space:pre;overflow-x:auto;line-height:normal;font-family:Menlo,'DejaVu Sans Mono',consolas,'Courier New',monospace\"><span style=\"color: #008000; text-decoration-color: #008000\">╭─────────────────────────────────────────────── Overall Analysis ────────────────────────────────────────────────╮</span>\n",
              "<span style=\"color: #008000; text-decoration-color: #008000\">│                                                                                                                 │</span>\n",
              "<span style=\"color: #008000; text-decoration-color: #008000\">│ Key Insights:                                                                                                   │</span>\n",
              "<span style=\"color: #008000; text-decoration-color: #008000\">│ 1. User Acquisition: Out of 2546 total users, 2126 (83.5%) were new users, indicating strong acquisition.       │</span>\n",
              "<span style=\"color: #008000; text-decoration-color: #008000\">│                                                                                                                 │</span>\n",
              "<span style=\"color: #008000; text-decoration-color: #008000\">│ 2. Engagement:                                                                                                  │</span>\n",
              "<span style=\"color: #008000; text-decoration-color: #008000\">│    - Low Bounce Rate: Only 5.83% of sessions were bounces, suggesting engaging content or effective landing     │</span>\n",
              "<span style=\"color: #008000; text-decoration-color: #008000\">│ pages.                                                                                                          │</span>\n",
              "<span style=\"color: #008000; text-decoration-color: #008000\">│    - High Engagement Rate: 90.07% of sessions were engaged, indicating that users found the content relevant    │</span>\n",
              "<span style=\"color: #008000; text-decoration-color: #008000\">│ and interesting.                                                                                                │</span>\n",
              "<span style=\"color: #008000; text-decoration-color: #008000\">│                                                                                                                 │</span>\n",
              "<span style=\"color: #008000; text-decoration-color: #008000\">│ 3. Session Behavior:                                                                                            │</span>\n",
              "<span style=\"color: #008000; text-decoration-color: #008000\">│    - Users viewed an average of 3.44 pages per session, showing good content exploration.                       │</span>\n",
              "<span style=\"color: #008000; text-decoration-color: #008000\">│    - Each user had an average of 1.08 sessions, which might indicate repeat visits or multiple interactions per │</span>\n",
              "<span style=\"color: #008000; text-decoration-color: #008000\">│ user.                                                                                                           │</span>\n",
              "<span style=\"color: #008000; text-decoration-color: #008000\">│                                                                                                                 │</span>\n",
              "<span style=\"color: #008000; text-decoration-color: #008000\">│ 4. Session Duration:                                                                                            │</span>\n",
              "<span style=\"color: #008000; text-decoration-color: #008000\">│    - GA4 Session Duration: 15.83 seconds                                                                        │</span>\n",
              "<span style=\"color: #008000; text-decoration-color: #008000\">│    - UA Session Duration: 155.61 seconds                                                                        │</span>\n",
              "<span style=\"color: #008000; text-decoration-color: #008000\">│    The significant difference between GA4 and UA session duration calculations warrants investigation into      │</span>\n",
              "<span style=\"color: #008000; text-decoration-color: #008000\">│ measurement methodologies.                                                                                      │</span>\n",
              "<span style=\"color: #008000; text-decoration-color: #008000\">│                                                                                                                 │</span>\n",
              "<span style=\"color: #008000; text-decoration-color: #008000\">│ These metrics suggest a successful day in terms of attracting new users and engaging them effectively. The low  │</span>\n",
              "<span style=\"color: #008000; text-decoration-color: #008000\">│ bounce rate and high engagement rate are particularly positive indicators. However, the discrepancy in session  │</span>\n",
              "<span style=\"color: #008000; text-decoration-color: #008000\">│ duration measurements and the relatively short GA4 session duration might need further investigation.           │</span>\n",
              "<span style=\"color: #008000; text-decoration-color: #008000\">│                                                                                                                 │</span>\n",
              "<span style=\"color: #008000; text-decoration-color: #008000\">╰─────────────────────────────────────────────────────────────────────────────────────────────────────────────────╯</span>\n",
              "</pre>\n"
            ],
            "text/plain": [
              "\u001b[32m╭─\u001b[0m\u001b[32m──────────────────────────────────────────────\u001b[0m\u001b[32m Overall Analysis \u001b[0m\u001b[32m───────────────────────────────────────────────\u001b[0m\u001b[32m─╮\u001b[0m\n",
              "\u001b[32m│\u001b[0m\u001b[32m \u001b[0m\u001b[32m                                                                                                               \u001b[0m\u001b[32m \u001b[0m\u001b[32m│\u001b[0m\n",
              "\u001b[32m│\u001b[0m\u001b[32m \u001b[0m\u001b[32mKey Insights:\u001b[0m\u001b[32m                                                                                                  \u001b[0m\u001b[32m \u001b[0m\u001b[32m│\u001b[0m\n",
              "\u001b[32m│\u001b[0m\u001b[32m \u001b[0m\u001b[32m1. User Acquisition: Out of 2546 total users, 2126 (83.5%) were new users, indicating strong acquisition.\u001b[0m\u001b[32m      \u001b[0m\u001b[32m \u001b[0m\u001b[32m│\u001b[0m\n",
              "\u001b[32m│\u001b[0m\u001b[32m \u001b[0m\u001b[32m                                                                                                               \u001b[0m\u001b[32m \u001b[0m\u001b[32m│\u001b[0m\n",
              "\u001b[32m│\u001b[0m\u001b[32m \u001b[0m\u001b[32m2. Engagement:\u001b[0m\u001b[32m                                                                                                 \u001b[0m\u001b[32m \u001b[0m\u001b[32m│\u001b[0m\n",
              "\u001b[32m│\u001b[0m\u001b[32m \u001b[0m\u001b[32m   - Low Bounce Rate: Only 5.83% of sessions were bounces, suggesting engaging content or effective landing \u001b[0m\u001b[32m   \u001b[0m\u001b[32m \u001b[0m\u001b[32m│\u001b[0m\n",
              "\u001b[32m│\u001b[0m\u001b[32m \u001b[0m\u001b[32mpages.\u001b[0m\u001b[32m                                                                                                         \u001b[0m\u001b[32m \u001b[0m\u001b[32m│\u001b[0m\n",
              "\u001b[32m│\u001b[0m\u001b[32m \u001b[0m\u001b[32m   - High Engagement Rate: 90.07% of sessions were engaged, indicating that users found the content relevant \u001b[0m\u001b[32m  \u001b[0m\u001b[32m \u001b[0m\u001b[32m│\u001b[0m\n",
              "\u001b[32m│\u001b[0m\u001b[32m \u001b[0m\u001b[32mand interesting.\u001b[0m\u001b[32m                                                                                               \u001b[0m\u001b[32m \u001b[0m\u001b[32m│\u001b[0m\n",
              "\u001b[32m│\u001b[0m\u001b[32m \u001b[0m\u001b[32m                                                                                                               \u001b[0m\u001b[32m \u001b[0m\u001b[32m│\u001b[0m\n",
              "\u001b[32m│\u001b[0m\u001b[32m \u001b[0m\u001b[32m3. Session Behavior:\u001b[0m\u001b[32m                                                                                           \u001b[0m\u001b[32m \u001b[0m\u001b[32m│\u001b[0m\n",
              "\u001b[32m│\u001b[0m\u001b[32m \u001b[0m\u001b[32m   - Users viewed an average of 3.44 pages per session, showing good content exploration.\u001b[0m\u001b[32m                      \u001b[0m\u001b[32m \u001b[0m\u001b[32m│\u001b[0m\n",
              "\u001b[32m│\u001b[0m\u001b[32m \u001b[0m\u001b[32m   - Each user had an average of 1.08 sessions, which might indicate repeat visits or multiple interactions per\u001b[0m\u001b[32m \u001b[0m\u001b[32m│\u001b[0m\n",
              "\u001b[32m│\u001b[0m\u001b[32m \u001b[0m\u001b[32muser.\u001b[0m\u001b[32m                                                                                                          \u001b[0m\u001b[32m \u001b[0m\u001b[32m│\u001b[0m\n",
              "\u001b[32m│\u001b[0m\u001b[32m \u001b[0m\u001b[32m                                                                                                               \u001b[0m\u001b[32m \u001b[0m\u001b[32m│\u001b[0m\n",
              "\u001b[32m│\u001b[0m\u001b[32m \u001b[0m\u001b[32m4. Session Duration:\u001b[0m\u001b[32m                                                                                           \u001b[0m\u001b[32m \u001b[0m\u001b[32m│\u001b[0m\n",
              "\u001b[32m│\u001b[0m\u001b[32m \u001b[0m\u001b[32m   - GA4 Session Duration: 15.83 seconds\u001b[0m\u001b[32m                                                                       \u001b[0m\u001b[32m \u001b[0m\u001b[32m│\u001b[0m\n",
              "\u001b[32m│\u001b[0m\u001b[32m \u001b[0m\u001b[32m   - UA Session Duration: 155.61 seconds\u001b[0m\u001b[32m                                                                       \u001b[0m\u001b[32m \u001b[0m\u001b[32m│\u001b[0m\n",
              "\u001b[32m│\u001b[0m\u001b[32m \u001b[0m\u001b[32m   The significant difference between GA4 and UA session duration calculations warrants investigation into \u001b[0m\u001b[32m    \u001b[0m\u001b[32m \u001b[0m\u001b[32m│\u001b[0m\n",
              "\u001b[32m│\u001b[0m\u001b[32m \u001b[0m\u001b[32mmeasurement methodologies.\u001b[0m\u001b[32m                                                                                     \u001b[0m\u001b[32m \u001b[0m\u001b[32m│\u001b[0m\n",
              "\u001b[32m│\u001b[0m\u001b[32m \u001b[0m\u001b[32m                                                                                                               \u001b[0m\u001b[32m \u001b[0m\u001b[32m│\u001b[0m\n",
              "\u001b[32m│\u001b[0m\u001b[32m \u001b[0m\u001b[32mThese metrics suggest a successful day in terms of attracting new users and engaging them effectively. The low \u001b[0m\u001b[32m \u001b[0m\u001b[32m│\u001b[0m\n",
              "\u001b[32m│\u001b[0m\u001b[32m \u001b[0m\u001b[32mbounce rate and high engagement rate are particularly positive indicators. However, the discrepancy in session \u001b[0m\u001b[32m \u001b[0m\u001b[32m│\u001b[0m\n",
              "\u001b[32m│\u001b[0m\u001b[32m \u001b[0m\u001b[32mduration measurements and the relatively short GA4 session duration might need further investigation.\u001b[0m\u001b[32m          \u001b[0m\u001b[32m \u001b[0m\u001b[32m│\u001b[0m\n",
              "\u001b[32m│\u001b[0m\u001b[32m \u001b[0m\u001b[32m                                                                                                               \u001b[0m\u001b[32m \u001b[0m\u001b[32m│\u001b[0m\n",
              "\u001b[32m╰─────────────────────────────────────────────────────────────────────────────────────────────────────────────────╯\u001b[0m\n"
            ]
          },
          "metadata": {},
          "output_type": "display_data"
        }
      ],
      "source": [
        "from rich.console import Console\n",
        "from rich.table import Table\n",
        "from rich.panel import Panel\n",
        "from rich import box\n",
        "\n",
        "console = Console()\n",
        "\n",
        "# Assuming df_ao is your DataFrame with query results\n",
        "\n",
        "def format_number(value):\n",
        "    if isinstance(value, float):\n",
        "        if value < 0.01:\n",
        "            return f\"{value:.4f}\"\n",
        "        elif value < 1:\n",
        "            return f\"{value:.2%}\"\n",
        "        elif value >= 1000000:\n",
        "            return f\"{value/1000000:.2f}M\"\n",
        "        elif value >= 1000:\n",
        "            return f\"{value/1000:.2f}K\"\n",
        "        else:\n",
        "            return f\"{value:.2f}\"\n",
        "    return str(value)\n",
        "\n",
        "# Create a table for the metrics\n",
        "table = Table(title=\"GA4 E-commerce Metrics Overview (January 31, 2021)\", box=box.ROUNDED)\n",
        "\n",
        "# Add columns\n",
        "table.add_column(\"Metric\", style=\"cyan\", no_wrap=True)\n",
        "table.add_column(\"Value\", style=\"magenta\", justify=\"right\")\n",
        "\n",
        "# Add rows with data\n",
        "for index, row in df_ao.iterrows():\n",
        "    for column in df_ao.columns:\n",
        "        table.add_row(column, format_number(row[column]))\n",
        "\n",
        "# Print the table\n",
        "console.print(table)\n",
        "\n",
        "# Create explanations for each metric\n",
        "explanations = [\n",
        "    Panel(\"Total number of unique users who visited the site.\", title=\"User Count\"),\n",
        "    Panel(\"Number of first-time visitors to the site.\", title=\"New Users\"),\n",
        "    Panel(\"Total number of sessions initiated by all users.\", title=\"Sessions\"),\n",
        "    Panel(\"Total number of pages viewed across all sessions.\", title=\"Page Views\"),\n",
        "    Panel(\"Percentage of single-page sessions (sessions in which the user left the site from the landing page).\", title=\"Session Bounce Rate\"),\n",
        "    Panel(\"Percentage of sessions that were engaged (involved significant interaction).\", title=\"Session Engagement Rate\"),\n",
        "    Panel(\"Average session duration calculated using Google Analytics 4 method (in seconds).\", title=\"GA4 Session Duration\"),\n",
        "    Panel(\"Average session duration calculated using Universal Analytics method (in seconds).\", title=\"UA Session Duration\"),\n",
        "    Panel(\"Average number of sessions per user.\", title=\"Sessions per User\"),\n",
        "    Panel(\"Average number of pages viewed per session.\", title=\"Pages per Session\")\n",
        "]\n",
        "\n",
        "# Print explanations\n",
        "console.print(Panel(\"Metric Explanations\", style=\"bold cyan\"))\n",
        "for explanation in explanations:\n",
        "    console.print(explanation)\n",
        "\n",
        "# Overall analysis\n",
        "overall_analysis = f\"\"\"\n",
        "Key Insights:\n",
        "1. User Acquisition: Out of {format_number(df_ao['user_count'].values[0])} total users, {format_number(df_ao['new_users'].values[0])} ({df_ao['new_users'].values[0]/df_ao['user_count'].values[0]:.1%}) were new users, indicating strong acquisition.\n",
        "\n",
        "2. Engagement:\n",
        "   - Low Bounce Rate: Only {df_ao['session_bounce_rate'].values[0]:.2%} of sessions were bounces, suggesting engaging content or effective landing pages.\n",
        "   - High Engagement Rate: {df_ao['session_engagement_rate'].values[0]:.2%} of sessions were engaged, indicating that users found the content relevant and interesting.\n",
        "\n",
        "3. Session Behavior:\n",
        "   - Users viewed an average of {df_ao['page_per_session'].values[0]:.2f} pages per session, showing good content exploration.\n",
        "   - Each user had an average of {df_ao['sessions_per_user'].values[0]:.2f} sessions, which might indicate repeat visits or multiple interactions per user.\n",
        "\n",
        "4. Session Duration:\n",
        "   - GA4 Session Duration: {df_ao['ga4_session_duration'].values[0]:.2f} seconds\n",
        "   - UA Session Duration: {df_ao['ua_session_duration'].values[0]:.2f} seconds\n",
        "   The significant difference between GA4 and UA session duration calculations warrants investigation into measurement methodologies.\n",
        "\n",
        "These metrics suggest a successful day in terms of attracting new users and engaging them effectively. The low bounce rate and high engagement rate are particularly positive indicators. However, the discrepancy in session duration measurements and the relatively short GA4 session duration might need further investigation.\n",
        "\"\"\"\n",
        "\n",
        "console.print(Panel(overall_analysis, title=\"Overall Analysis\", style=\"green\"))"
      ]
    },
    {
      "cell_type": "markdown",
      "metadata": {
        "id": "yO6f028HedU4"
      },
      "source": [
        "# E-commerce Landing Page Performance Analysis\n",
        "\n",
        "## Column Explanations:\n",
        "1. **landing_page**: The first page a user sees when visiting the site\n",
        "2. **user_count**: Number of unique users\n",
        "3. **sessions**: Total number of sessions\n",
        "4. **page_views**: Total number of page views\n",
        "5. **session_bounce_rate**: Percentage of single-page sessions\n",
        "6. **new_users**: Count of first-time visitors\n",
        "7. **session_engagement_rate**: Ratio of engaged sessions to total sessions\n",
        "8. **ga4_session_duration**: Average session duration (Google Analytics 4 method)\n",
        "9. **ua_session_duration**: Average session duration (Universal Analytics method)\n",
        "10. **purchases**: Total number of purchases\n",
        "11. **ecomm_conversion_rate**: Ratio of purchases to sessions\n",
        "12. **revenue**: Total revenue\n",
        "13. **select_promotion**: Number of promotion selections\n",
        "14. **select_promotion_conversion**: Ratio of promotion selections to sessions\n",
        "\n",
        "## Our aim :\n",
        "We're looking at user engagement, conversion rates, and revenue generation to identify the most effective landing pages and areas for improvement."
      ]
    },
    {
      "cell_type": "code",
      "execution_count": null,
      "metadata": {
        "id": "Z8kOwHMaYTN8"
      },
      "outputs": [],
      "source": [
        "query_landing = \"\"\"\n",
        "SELECT\n",
        "  landing_page,\n",
        "  COUNT(DISTINCT user_pseudo_id) AS user_count,\n",
        "  COUNT(DISTINCT CONCAT(user_pseudo_id, session_id)) AS sessions,\n",
        "  SUM(page_views) AS page_views,\n",
        "  COUNT(DISTINCT CASE WHEN page_views = 1 THEN CONCAT(user_pseudo_id, session_id) END) / COUNT(DISTINCT CONCAT(user_pseudo_id, session_id)) AS session_bounce_rate,\n",
        "  SUM(new_users) AS new_users,\n",
        "  SUM(CAST(session_engaged AS INT64)) / COUNT(DISTINCT CONCAT(user_pseudo_id, session_id)) AS session_engagement_rate,\n",
        "  SUM(engagement_time_msec) / 1000 / NULLIF(SUM(CAST(session_engaged AS INT64)), 0) AS ga4_session_duration,\n",
        "  SUM(TIMESTAMP_DIFF(TIMESTAMP_MICROS(end_time), TIMESTAMP_MICROS(start_time), SECOND)) / COUNT(DISTINCT CONCAT(user_pseudo_id, session_id)) AS ua_session_duration,\n",
        "  SUM(purchases) AS purchases,\n",
        "  SUM(purchases) / COUNT(DISTINCT CONCAT(user_pseudo_id, session_id)) AS ecomm_conversion_rate,\n",
        "  SUM(revenue) AS revenue,\n",
        "  SUM(select_promotion) AS select_promotion,\n",
        "  SUM(select_promotion) / COUNT(DISTINCT CONCAT(user_pseudo_id, session_id)) AS select_promotion_conversion\n",
        "FROM (\n",
        "  SELECT\n",
        "    user_pseudo_id,\n",
        "    (SELECT value.int_value FROM UNNEST(event_params) WHERE key = 'ga_session_id') AS session_id,\n",
        "    SUM(CASE WHEN event_name = 'first_visit' THEN 1 ELSE 0 END) AS new_users,\n",
        "    MAX((SELECT value.string_value FROM UNNEST(event_params) WHERE event_name = 'session_start' AND key = 'page_location')) AS landing_page,\n",
        "    COUNT(DISTINCT CASE WHEN event_name = 'page_view' THEN CONCAT(user_pseudo_id, CAST(event_timestamp AS STRING)) END) AS page_views,\n",
        "    MAX((SELECT value.string_value FROM UNNEST(event_params) WHERE key = 'session_engaged')) AS session_engaged,\n",
        "    MAX((SELECT value.int_value FROM UNNEST(event_params) WHERE key = 'engagement_time_msec')) AS engagement_time_msec,\n",
        "    MIN(event_timestamp) AS start_time,\n",
        "    MAX(event_timestamp) AS end_time,\n",
        "    SUM(CASE WHEN event_name = 'purchase' THEN 1 ELSE 0 END) AS purchases,\n",
        "    SUM(ecommerce.purchase_revenue) AS revenue,\n",
        "    SUM(CASE WHEN event_name = 'select_promotion' THEN 1 ELSE 0 END) AS select_promotion\n",
        "  FROM `bigquery-public-data.ga4_obfuscated_sample_ecommerce.events_20210131`\n",
        "  GROUP BY 1, 2\n",
        ")\n",
        "GROUP BY landing_page\n",
        "\"\"\"\n",
        "\n",
        "\n",
        "df= client.query(query_landing).to_dataframe()\n",
        "\n"
      ]
    },
    {
      "cell_type": "markdown",
      "metadata": {
        "id": "05ulDbKFBWIe"
      },
      "source": []
    },
    {
      "cell_type": "code",
      "execution_count": null,
      "metadata": {
        "colab": {
          "base_uri": "https://localhost:8080/",
          "height": 1000
        },
        "id": "s1YvHBGHbhxe",
        "outputId": "600f81e1-cb14-45fb-f8ee-820694af8fb0"
      },
      "outputs": [
        {
          "data": {
            "text/html": [
              "<pre style=\"white-space:pre;overflow-x:auto;line-height:normal;font-family:Menlo,'DejaVu Sans Mono',consolas,'Courier New',monospace\"><span style=\"font-style: italic\">                                   First 5 Rows of Landing Page Performance Data                                   </span>\n",
              "╭───────┬───────────────────────────────────────────────────────────────┬───────────┬────────────────┬────────────╮\n",
              "│<span style=\"font-weight: bold\"> Index </span>│<span style=\"font-weight: bold\"> Landing Page                                                  </span>│<span style=\"font-weight: bold\"> purchases </span>│<span style=\"font-weight: bold\"> ecomm_convers… </span>│<span style=\"font-weight: bold\"> user_count </span>│\n",
              "├───────┼───────────────────────────────────────────────────────────────┼───────────┼────────────────┼────────────┤\n",
              "│<span style=\"color: #008080; text-decoration-color: #008080\">     0 </span>│<span style=\"color: #008080; text-decoration-color: #008080\"> shop.googlemerchandisestore.com/                              </span>│<span style=\"color: #800080; text-decoration-color: #800080\">      9.00 </span>│<span style=\"color: #800080; text-decoration-color: #800080\">           0.02 </span>│<span style=\"color: #800080; text-decoration-color: #800080\">     496.00 </span>│\n",
              "├───────┼───────────────────────────────────────────────────────────────┼───────────┼────────────────┼────────────┤\n",
              "│<span style=\"color: #008080; text-decoration-color: #008080\">     1 </span>│<span style=\"color: #008080; text-decoration-color: #008080\"> shop.googlemerchandisestore.com/Google+Redesign/Apparel       </span>│<span style=\"color: #800080; text-decoration-color: #800080\">      1.00 </span>│<span style=\"color: #800080; text-decoration-color: #800080\">         0.0022 </span>│<span style=\"color: #800080; text-decoration-color: #800080\">     444.00 </span>│\n",
              "├───────┼───────────────────────────────────────────────────────────────┼───────────┼────────────────┼────────────┤\n",
              "│<span style=\"color: #008080; text-decoration-color: #008080\">     2 </span>│<span style=\"color: #008080; text-decoration-color: #008080\"> shop.googlemerchandisestore.com/Google+Redesign/Lifestyle/... </span>│<span style=\"color: #800080; text-decoration-color: #800080\">    0.0000 </span>│<span style=\"color: #800080; text-decoration-color: #800080\">         0.0000 </span>│<span style=\"color: #800080; text-decoration-color: #800080\">      41.00 </span>│\n",
              "├───────┼───────────────────────────────────────────────────────────────┼───────────┼────────────────┼────────────┤\n",
              "│<span style=\"color: #008080; text-decoration-color: #008080\">     3 </span>│<span style=\"color: #008080; text-decoration-color: #008080\"> shop.googlemerchandisestore.com/store.html                    </span>│<span style=\"color: #800080; text-decoration-color: #800080\">      1.00 </span>│<span style=\"color: #800080; text-decoration-color: #800080\">         0.0065 </span>│<span style=\"color: #800080; text-decoration-color: #800080\">     155.00 </span>│\n",
              "├───────┼───────────────────────────────────────────────────────────────┼───────────┼────────────────┼────────────┤\n",
              "│<span style=\"color: #008080; text-decoration-color: #008080\">     4 </span>│<span style=\"color: #008080; text-decoration-color: #008080\"> www.googlemerchandisestore.com/                               </span>│<span style=\"color: #800080; text-decoration-color: #800080\">      4.00 </span>│<span style=\"color: #800080; text-decoration-color: #800080\">         0.0076 </span>│<span style=\"color: #800080; text-decoration-color: #800080\">     516.00 </span>│\n",
              "╰───────┴───────────────────────────────────────────────────────────────┴───────────┴────────────────┴────────────╯\n",
              "</pre>\n"
            ],
            "text/plain": [
              "\u001b[3m                                   First 5 Rows of Landing Page Performance Data                                   \u001b[0m\n",
              "╭───────┬───────────────────────────────────────────────────────────────┬───────────┬────────────────┬────────────╮\n",
              "│\u001b[1m \u001b[0m\u001b[1mIndex\u001b[0m\u001b[1m \u001b[0m│\u001b[1m \u001b[0m\u001b[1mLanding Page                                                 \u001b[0m\u001b[1m \u001b[0m│\u001b[1m \u001b[0m\u001b[1mpurchases\u001b[0m\u001b[1m \u001b[0m│\u001b[1m \u001b[0m\u001b[1mecomm_convers…\u001b[0m\u001b[1m \u001b[0m│\u001b[1m \u001b[0m\u001b[1muser_count\u001b[0m\u001b[1m \u001b[0m│\n",
              "├───────┼───────────────────────────────────────────────────────────────┼───────────┼────────────────┼────────────┤\n",
              "│\u001b[36m \u001b[0m\u001b[36m    0\u001b[0m\u001b[36m \u001b[0m│\u001b[36m \u001b[0m\u001b[36mshop.googlemerchandisestore.com/                             \u001b[0m\u001b[36m \u001b[0m│\u001b[35m \u001b[0m\u001b[35m     9.00\u001b[0m\u001b[35m \u001b[0m│\u001b[35m \u001b[0m\u001b[35m          0.02\u001b[0m\u001b[35m \u001b[0m│\u001b[35m \u001b[0m\u001b[35m    496.00\u001b[0m\u001b[35m \u001b[0m│\n",
              "├───────┼───────────────────────────────────────────────────────────────┼───────────┼────────────────┼────────────┤\n",
              "│\u001b[36m \u001b[0m\u001b[36m    1\u001b[0m\u001b[36m \u001b[0m│\u001b[36m \u001b[0m\u001b[36mshop.googlemerchandisestore.com/Google+Redesign/Apparel      \u001b[0m\u001b[36m \u001b[0m│\u001b[35m \u001b[0m\u001b[35m     1.00\u001b[0m\u001b[35m \u001b[0m│\u001b[35m \u001b[0m\u001b[35m        0.0022\u001b[0m\u001b[35m \u001b[0m│\u001b[35m \u001b[0m\u001b[35m    444.00\u001b[0m\u001b[35m \u001b[0m│\n",
              "├───────┼───────────────────────────────────────────────────────────────┼───────────┼────────────────┼────────────┤\n",
              "│\u001b[36m \u001b[0m\u001b[36m    2\u001b[0m\u001b[36m \u001b[0m│\u001b[36m \u001b[0m\u001b[36mshop.googlemerchandisestore.com/Google+Redesign/Lifestyle/...\u001b[0m\u001b[36m \u001b[0m│\u001b[35m \u001b[0m\u001b[35m   0.0000\u001b[0m\u001b[35m \u001b[0m│\u001b[35m \u001b[0m\u001b[35m        0.0000\u001b[0m\u001b[35m \u001b[0m│\u001b[35m \u001b[0m\u001b[35m     41.00\u001b[0m\u001b[35m \u001b[0m│\n",
              "├───────┼───────────────────────────────────────────────────────────────┼───────────┼────────────────┼────────────┤\n",
              "│\u001b[36m \u001b[0m\u001b[36m    3\u001b[0m\u001b[36m \u001b[0m│\u001b[36m \u001b[0m\u001b[36mshop.googlemerchandisestore.com/store.html                   \u001b[0m\u001b[36m \u001b[0m│\u001b[35m \u001b[0m\u001b[35m     1.00\u001b[0m\u001b[35m \u001b[0m│\u001b[35m \u001b[0m\u001b[35m        0.0065\u001b[0m\u001b[35m \u001b[0m│\u001b[35m \u001b[0m\u001b[35m    155.00\u001b[0m\u001b[35m \u001b[0m│\n",
              "├───────┼───────────────────────────────────────────────────────────────┼───────────┼────────────────┼────────────┤\n",
              "│\u001b[36m \u001b[0m\u001b[36m    4\u001b[0m\u001b[36m \u001b[0m│\u001b[36m \u001b[0m\u001b[36mwww.googlemerchandisestore.com/                              \u001b[0m\u001b[36m \u001b[0m│\u001b[35m \u001b[0m\u001b[35m     4.00\u001b[0m\u001b[35m \u001b[0m│\u001b[35m \u001b[0m\u001b[35m        0.0076\u001b[0m\u001b[35m \u001b[0m│\u001b[35m \u001b[0m\u001b[35m    516.00\u001b[0m\u001b[35m \u001b[0m│\n",
              "╰───────┴───────────────────────────────────────────────────────────────┴───────────┴────────────────┴────────────╯\n"
            ]
          },
          "metadata": {},
          "output_type": "display_data"
        },
        {
          "data": {
            "text/html": [
              "<pre style=\"white-space:pre;overflow-x:auto;line-height:normal;font-family:Menlo,'DejaVu Sans Mono',consolas,'Courier New',monospace\"><span style=\"font-style: italic\">                                        Top 10 Landing Pages by Purchases                                         </span>\n",
              "╭───────────────────────────────────────────────────────────────┬───────────┬───────────────────────┬────────────╮\n",
              "│<span style=\"font-weight: bold\"> Landing Page                                                  </span>│<span style=\"font-weight: bold\"> purchases </span>│<span style=\"font-weight: bold\"> ecomm_conversion_rate </span>│<span style=\"font-weight: bold\"> user_count </span>│\n",
              "├───────────────────────────────────────────────────────────────┼───────────┼───────────────────────┼────────────┤\n",
              "│<span style=\"color: #008080; text-decoration-color: #008080\"> shop.googlemerchandisestore.com/                              </span>│<span style=\"color: #800080; text-decoration-color: #800080\">      9.00 </span>│<span style=\"color: #800080; text-decoration-color: #800080\">                  0.02 </span>│<span style=\"color: #800080; text-decoration-color: #800080\">     496.00 </span>│\n",
              "├───────────────────────────────────────────────────────────────┼───────────┼───────────────────────┼────────────┤\n",
              "│<span style=\"color: #008080; text-decoration-color: #008080\"> www.googlemerchandisestore.com/                               </span>│<span style=\"color: #800080; text-decoration-color: #800080\">      4.00 </span>│<span style=\"color: #800080; text-decoration-color: #800080\">                0.0076 </span>│<span style=\"color: #800080; text-decoration-color: #800080\">     516.00 </span>│\n",
              "├───────────────────────────────────────────────────────────────┼───────────┼───────────────────────┼────────────┤\n",
              "│<span style=\"color: #008080; text-decoration-color: #008080\"> shop.googlemerchandisestore.com/store.html                    </span>│<span style=\"color: #800080; text-decoration-color: #800080\">      1.00 </span>│<span style=\"color: #800080; text-decoration-color: #800080\">                0.0065 </span>│<span style=\"color: #800080; text-decoration-color: #800080\">     155.00 </span>│\n",
              "├───────────────────────────────────────────────────────────────┼───────────┼───────────────────────┼────────────┤\n",
              "│<span style=\"color: #008080; text-decoration-color: #008080\"> shop.googlemerchandisestore.com/Google+Redesign/Apparel       </span>│<span style=\"color: #800080; text-decoration-color: #800080\">      1.00 </span>│<span style=\"color: #800080; text-decoration-color: #800080\">                0.0022 </span>│<span style=\"color: #800080; text-decoration-color: #800080\">     444.00 </span>│\n",
              "├───────────────────────────────────────────────────────────────┼───────────┼───────────────────────┼────────────┤\n",
              "│<span style=\"color: #008080; text-decoration-color: #008080\"> shop.googlemerchandisestore.com/store-policies/return-policy/ </span>│<span style=\"color: #800080; text-decoration-color: #800080\">      1.00 </span>│<span style=\"color: #800080; text-decoration-color: #800080\">                  0.50 </span>│<span style=\"color: #800080; text-decoration-color: #800080\">       2.00 </span>│\n",
              "├───────────────────────────────────────────────────────────────┼───────────┼───────────────────────┼────────────┤\n",
              "│<span style=\"color: #008080; text-decoration-color: #008080\"> shop.googlemerchandisestore.com/ordercompleted.html           </span>│<span style=\"color: #800080; text-decoration-color: #800080\">      1.00 </span>│<span style=\"color: #800080; text-decoration-color: #800080\">                  0.25 </span>│<span style=\"color: #800080; text-decoration-color: #800080\">       4.00 </span>│\n",
              "├───────────────────────────────────────────────────────────────┼───────────┼───────────────────────┼────────────┤\n",
              "│<span style=\"color: #008080; text-decoration-color: #008080\"> shop.googlemerchandisestore.com/Google+Redesign/Bags/Googl... </span>│<span style=\"color: #800080; text-decoration-color: #800080\">      1.00 </span>│<span style=\"color: #800080; text-decoration-color: #800080\">                  1.00 </span>│<span style=\"color: #800080; text-decoration-color: #800080\">       1.00 </span>│\n",
              "├───────────────────────────────────────────────────────────────┼───────────┼───────────────────────┼────────────┤\n",
              "│<span style=\"color: #008080; text-decoration-color: #008080\"> shop.googlemerchandisestore.com/Google+Redesign/Apparel/Go... </span>│<span style=\"color: #800080; text-decoration-color: #800080\">      1.00 </span>│<span style=\"color: #800080; text-decoration-color: #800080\">                  0.50 </span>│<span style=\"color: #800080; text-decoration-color: #800080\">       2.00 </span>│\n",
              "├───────────────────────────────────────────────────────────────┼───────────┼───────────────────────┼────────────┤\n",
              "│<span style=\"color: #008080; text-decoration-color: #008080\"> shop.googlemerchandisestore.com/Google+Redesign/Office/Wri... </span>│<span style=\"color: #800080; text-decoration-color: #800080\">    0.0000 </span>│<span style=\"color: #800080; text-decoration-color: #800080\">                0.0000 </span>│<span style=\"color: #800080; text-decoration-color: #800080\">       1.00 </span>│\n",
              "├───────────────────────────────────────────────────────────────┼───────────┼───────────────────────┼────────────┤\n",
              "│<span style=\"color: #008080; text-decoration-color: #008080\"> shop.googlemerchandisestore.com/Google+Redesign/Drinkware/... </span>│<span style=\"color: #800080; text-decoration-color: #800080\">    0.0000 </span>│<span style=\"color: #800080; text-decoration-color: #800080\">                0.0000 </span>│<span style=\"color: #800080; text-decoration-color: #800080\">       1.00 </span>│\n",
              "╰───────────────────────────────────────────────────────────────┴───────────┴───────────────────────┴────────────╯\n",
              "</pre>\n"
            ],
            "text/plain": [
              "\u001b[3m                                        Top 10 Landing Pages by Purchases                                         \u001b[0m\n",
              "╭───────────────────────────────────────────────────────────────┬───────────┬───────────────────────┬────────────╮\n",
              "│\u001b[1m \u001b[0m\u001b[1mLanding Page                                                 \u001b[0m\u001b[1m \u001b[0m│\u001b[1m \u001b[0m\u001b[1mpurchases\u001b[0m\u001b[1m \u001b[0m│\u001b[1m \u001b[0m\u001b[1mecomm_conversion_rate\u001b[0m\u001b[1m \u001b[0m│\u001b[1m \u001b[0m\u001b[1muser_count\u001b[0m\u001b[1m \u001b[0m│\n",
              "├───────────────────────────────────────────────────────────────┼───────────┼───────────────────────┼────────────┤\n",
              "│\u001b[36m \u001b[0m\u001b[36mshop.googlemerchandisestore.com/                             \u001b[0m\u001b[36m \u001b[0m│\u001b[35m \u001b[0m\u001b[35m     9.00\u001b[0m\u001b[35m \u001b[0m│\u001b[35m \u001b[0m\u001b[35m                 0.02\u001b[0m\u001b[35m \u001b[0m│\u001b[35m \u001b[0m\u001b[35m    496.00\u001b[0m\u001b[35m \u001b[0m│\n",
              "├───────────────────────────────────────────────────────────────┼───────────┼───────────────────────┼────────────┤\n",
              "│\u001b[36m \u001b[0m\u001b[36mwww.googlemerchandisestore.com/                              \u001b[0m\u001b[36m \u001b[0m│\u001b[35m \u001b[0m\u001b[35m     4.00\u001b[0m\u001b[35m \u001b[0m│\u001b[35m \u001b[0m\u001b[35m               0.0076\u001b[0m\u001b[35m \u001b[0m│\u001b[35m \u001b[0m\u001b[35m    516.00\u001b[0m\u001b[35m \u001b[0m│\n",
              "├───────────────────────────────────────────────────────────────┼───────────┼───────────────────────┼────────────┤\n",
              "│\u001b[36m \u001b[0m\u001b[36mshop.googlemerchandisestore.com/store.html                   \u001b[0m\u001b[36m \u001b[0m│\u001b[35m \u001b[0m\u001b[35m     1.00\u001b[0m\u001b[35m \u001b[0m│\u001b[35m \u001b[0m\u001b[35m               0.0065\u001b[0m\u001b[35m \u001b[0m│\u001b[35m \u001b[0m\u001b[35m    155.00\u001b[0m\u001b[35m \u001b[0m│\n",
              "├───────────────────────────────────────────────────────────────┼───────────┼───────────────────────┼────────────┤\n",
              "│\u001b[36m \u001b[0m\u001b[36mshop.googlemerchandisestore.com/Google+Redesign/Apparel      \u001b[0m\u001b[36m \u001b[0m│\u001b[35m \u001b[0m\u001b[35m     1.00\u001b[0m\u001b[35m \u001b[0m│\u001b[35m \u001b[0m\u001b[35m               0.0022\u001b[0m\u001b[35m \u001b[0m│\u001b[35m \u001b[0m\u001b[35m    444.00\u001b[0m\u001b[35m \u001b[0m│\n",
              "├───────────────────────────────────────────────────────────────┼───────────┼───────────────────────┼────────────┤\n",
              "│\u001b[36m \u001b[0m\u001b[36mshop.googlemerchandisestore.com/store-policies/return-policy/\u001b[0m\u001b[36m \u001b[0m│\u001b[35m \u001b[0m\u001b[35m     1.00\u001b[0m\u001b[35m \u001b[0m│\u001b[35m \u001b[0m\u001b[35m                 0.50\u001b[0m\u001b[35m \u001b[0m│\u001b[35m \u001b[0m\u001b[35m      2.00\u001b[0m\u001b[35m \u001b[0m│\n",
              "├───────────────────────────────────────────────────────────────┼───────────┼───────────────────────┼────────────┤\n",
              "│\u001b[36m \u001b[0m\u001b[36mshop.googlemerchandisestore.com/ordercompleted.html          \u001b[0m\u001b[36m \u001b[0m│\u001b[35m \u001b[0m\u001b[35m     1.00\u001b[0m\u001b[35m \u001b[0m│\u001b[35m \u001b[0m\u001b[35m                 0.25\u001b[0m\u001b[35m \u001b[0m│\u001b[35m \u001b[0m\u001b[35m      4.00\u001b[0m\u001b[35m \u001b[0m│\n",
              "├───────────────────────────────────────────────────────────────┼───────────┼───────────────────────┼────────────┤\n",
              "│\u001b[36m \u001b[0m\u001b[36mshop.googlemerchandisestore.com/Google+Redesign/Bags/Googl...\u001b[0m\u001b[36m \u001b[0m│\u001b[35m \u001b[0m\u001b[35m     1.00\u001b[0m\u001b[35m \u001b[0m│\u001b[35m \u001b[0m\u001b[35m                 1.00\u001b[0m\u001b[35m \u001b[0m│\u001b[35m \u001b[0m\u001b[35m      1.00\u001b[0m\u001b[35m \u001b[0m│\n",
              "├───────────────────────────────────────────────────────────────┼───────────┼───────────────────────┼────────────┤\n",
              "│\u001b[36m \u001b[0m\u001b[36mshop.googlemerchandisestore.com/Google+Redesign/Apparel/Go...\u001b[0m\u001b[36m \u001b[0m│\u001b[35m \u001b[0m\u001b[35m     1.00\u001b[0m\u001b[35m \u001b[0m│\u001b[35m \u001b[0m\u001b[35m                 0.50\u001b[0m\u001b[35m \u001b[0m│\u001b[35m \u001b[0m\u001b[35m      2.00\u001b[0m\u001b[35m \u001b[0m│\n",
              "├───────────────────────────────────────────────────────────────┼───────────┼───────────────────────┼────────────┤\n",
              "│\u001b[36m \u001b[0m\u001b[36mshop.googlemerchandisestore.com/Google+Redesign/Office/Wri...\u001b[0m\u001b[36m \u001b[0m│\u001b[35m \u001b[0m\u001b[35m   0.0000\u001b[0m\u001b[35m \u001b[0m│\u001b[35m \u001b[0m\u001b[35m               0.0000\u001b[0m\u001b[35m \u001b[0m│\u001b[35m \u001b[0m\u001b[35m      1.00\u001b[0m\u001b[35m \u001b[0m│\n",
              "├───────────────────────────────────────────────────────────────┼───────────┼───────────────────────┼────────────┤\n",
              "│\u001b[36m \u001b[0m\u001b[36mshop.googlemerchandisestore.com/Google+Redesign/Drinkware/...\u001b[0m\u001b[36m \u001b[0m│\u001b[35m \u001b[0m\u001b[35m   0.0000\u001b[0m\u001b[35m \u001b[0m│\u001b[35m \u001b[0m\u001b[35m               0.0000\u001b[0m\u001b[35m \u001b[0m│\u001b[35m \u001b[0m\u001b[35m      1.00\u001b[0m\u001b[35m \u001b[0m│\n",
              "╰───────────────────────────────────────────────────────────────┴───────────┴───────────────────────┴────────────╯\n"
            ]
          },
          "metadata": {},
          "output_type": "display_data"
        },
        {
          "data": {
            "text/html": [
              "<pre style=\"white-space:pre;overflow-x:auto;line-height:normal;font-family:Menlo,'DejaVu Sans Mono',consolas,'Courier New',monospace\"><span style=\"font-style: italic\">                                  User Engagement Metrics for Top Purchase Pages                                   </span>\n",
              "╭───────────────────────────────────────────────────────────────┬──────────┬────────────┬─────────────────────────╮\n",
              "│<span style=\"font-weight: bold\"> Landing Page                                                  </span>│<span style=\"font-weight: bold\"> sessions </span>│<span style=\"font-weight: bold\"> page_views </span>│<span style=\"font-weight: bold\"> session_engagement_rate </span>│\n",
              "├───────────────────────────────────────────────────────────────┼──────────┼────────────┼─────────────────────────┤\n",
              "│<span style=\"color: #008080; text-decoration-color: #008080\"> shop.googlemerchandisestore.com/                              </span>│<span style=\"color: #800080; text-decoration-color: #800080\">   561.00 </span>│<span style=\"color: #800080; text-decoration-color: #800080\">      2.37K </span>│<span style=\"color: #800080; text-decoration-color: #800080\">                    0.90 </span>│\n",
              "├───────────────────────────────────────────────────────────────┼──────────┼────────────┼─────────────────────────┤\n",
              "│<span style=\"color: #008080; text-decoration-color: #008080\"> www.googlemerchandisestore.com/                               </span>│<span style=\"color: #800080; text-decoration-color: #800080\">   529.00 </span>│<span style=\"color: #800080; text-decoration-color: #800080\">      2.03K </span>│<span style=\"color: #800080; text-decoration-color: #800080\">                    0.97 </span>│\n",
              "├───────────────────────────────────────────────────────────────┼──────────┼────────────┼─────────────────────────┤\n",
              "│<span style=\"color: #008080; text-decoration-color: #008080\"> shop.googlemerchandisestore.com/store.html                    </span>│<span style=\"color: #800080; text-decoration-color: #800080\">   155.00 </span>│<span style=\"color: #800080; text-decoration-color: #800080\">     350.00 </span>│<span style=\"color: #800080; text-decoration-color: #800080\">                    0.85 </span>│\n",
              "├───────────────────────────────────────────────────────────────┼──────────┼────────────┼─────────────────────────┤\n",
              "│<span style=\"color: #008080; text-decoration-color: #008080\"> shop.googlemerchandisestore.com/Google+Redesign/Apparel       </span>│<span style=\"color: #800080; text-decoration-color: #800080\">   457.00 </span>│<span style=\"color: #800080; text-decoration-color: #800080\">      1.11K </span>│<span style=\"color: #800080; text-decoration-color: #800080\">                    0.92 </span>│\n",
              "├───────────────────────────────────────────────────────────────┼──────────┼────────────┼─────────────────────────┤\n",
              "│<span style=\"color: #008080; text-decoration-color: #008080\"> shop.googlemerchandisestore.com/store-policies/return-policy/ </span>│<span style=\"color: #800080; text-decoration-color: #800080\">     2.00 </span>│<span style=\"color: #800080; text-decoration-color: #800080\">      25.00 </span>│<span style=\"color: #800080; text-decoration-color: #800080\">                    1.00 </span>│\n",
              "├───────────────────────────────────────────────────────────────┼──────────┼────────────┼─────────────────────────┤\n",
              "│<span style=\"color: #008080; text-decoration-color: #008080\"> shop.googlemerchandisestore.com/ordercompleted.html           </span>│<span style=\"color: #800080; text-decoration-color: #800080\">     4.00 </span>│<span style=\"color: #800080; text-decoration-color: #800080\">      11.00 </span>│<span style=\"color: #800080; text-decoration-color: #800080\">                    0.50 </span>│\n",
              "├───────────────────────────────────────────────────────────────┼──────────┼────────────┼─────────────────────────┤\n",
              "│<span style=\"color: #008080; text-decoration-color: #008080\"> shop.googlemerchandisestore.com/Google+Redesign/Bags/Googl... </span>│<span style=\"color: #800080; text-decoration-color: #800080\">     1.00 </span>│<span style=\"color: #800080; text-decoration-color: #800080\">      30.00 </span>│<span style=\"color: #800080; text-decoration-color: #800080\">                    1.00 </span>│\n",
              "├───────────────────────────────────────────────────────────────┼──────────┼────────────┼─────────────────────────┤\n",
              "│<span style=\"color: #008080; text-decoration-color: #008080\"> shop.googlemerchandisestore.com/Google+Redesign/Apparel/Go... </span>│<span style=\"color: #800080; text-decoration-color: #800080\">     2.00 </span>│<span style=\"color: #800080; text-decoration-color: #800080\">      15.00 </span>│<span style=\"color: #800080; text-decoration-color: #800080\">                    1.00 </span>│\n",
              "├───────────────────────────────────────────────────────────────┼──────────┼────────────┼─────────────────────────┤\n",
              "│<span style=\"color: #008080; text-decoration-color: #008080\"> shop.googlemerchandisestore.com/Google+Redesign/Office/Wri... </span>│<span style=\"color: #800080; text-decoration-color: #800080\">     1.00 </span>│<span style=\"color: #800080; text-decoration-color: #800080\">       2.00 </span>│<span style=\"color: #800080; text-decoration-color: #800080\">                    1.00 </span>│\n",
              "├───────────────────────────────────────────────────────────────┼──────────┼────────────┼─────────────────────────┤\n",
              "│<span style=\"color: #008080; text-decoration-color: #008080\"> shop.googlemerchandisestore.com/Google+Redesign/Drinkware/... </span>│<span style=\"color: #800080; text-decoration-color: #800080\">     1.00 </span>│<span style=\"color: #800080; text-decoration-color: #800080\">       2.00 </span>│<span style=\"color: #800080; text-decoration-color: #800080\">                    1.00 </span>│\n",
              "╰───────────────────────────────────────────────────────────────┴──────────┴────────────┴─────────────────────────╯\n",
              "</pre>\n"
            ],
            "text/plain": [
              "\u001b[3m                                  User Engagement Metrics for Top Purchase Pages                                   \u001b[0m\n",
              "╭───────────────────────────────────────────────────────────────┬──────────┬────────────┬─────────────────────────╮\n",
              "│\u001b[1m \u001b[0m\u001b[1mLanding Page                                                 \u001b[0m\u001b[1m \u001b[0m│\u001b[1m \u001b[0m\u001b[1msessions\u001b[0m\u001b[1m \u001b[0m│\u001b[1m \u001b[0m\u001b[1mpage_views\u001b[0m\u001b[1m \u001b[0m│\u001b[1m \u001b[0m\u001b[1msession_engagement_rate\u001b[0m\u001b[1m \u001b[0m│\n",
              "├───────────────────────────────────────────────────────────────┼──────────┼────────────┼─────────────────────────┤\n",
              "│\u001b[36m \u001b[0m\u001b[36mshop.googlemerchandisestore.com/                             \u001b[0m\u001b[36m \u001b[0m│\u001b[35m \u001b[0m\u001b[35m  561.00\u001b[0m\u001b[35m \u001b[0m│\u001b[35m \u001b[0m\u001b[35m     2.37K\u001b[0m\u001b[35m \u001b[0m│\u001b[35m \u001b[0m\u001b[35m                   0.90\u001b[0m\u001b[35m \u001b[0m│\n",
              "├───────────────────────────────────────────────────────────────┼──────────┼────────────┼─────────────────────────┤\n",
              "│\u001b[36m \u001b[0m\u001b[36mwww.googlemerchandisestore.com/                              \u001b[0m\u001b[36m \u001b[0m│\u001b[35m \u001b[0m\u001b[35m  529.00\u001b[0m\u001b[35m \u001b[0m│\u001b[35m \u001b[0m\u001b[35m     2.03K\u001b[0m\u001b[35m \u001b[0m│\u001b[35m \u001b[0m\u001b[35m                   0.97\u001b[0m\u001b[35m \u001b[0m│\n",
              "├───────────────────────────────────────────────────────────────┼──────────┼────────────┼─────────────────────────┤\n",
              "│\u001b[36m \u001b[0m\u001b[36mshop.googlemerchandisestore.com/store.html                   \u001b[0m\u001b[36m \u001b[0m│\u001b[35m \u001b[0m\u001b[35m  155.00\u001b[0m\u001b[35m \u001b[0m│\u001b[35m \u001b[0m\u001b[35m    350.00\u001b[0m\u001b[35m \u001b[0m│\u001b[35m \u001b[0m\u001b[35m                   0.85\u001b[0m\u001b[35m \u001b[0m│\n",
              "├───────────────────────────────────────────────────────────────┼──────────┼────────────┼─────────────────────────┤\n",
              "│\u001b[36m \u001b[0m\u001b[36mshop.googlemerchandisestore.com/Google+Redesign/Apparel      \u001b[0m\u001b[36m \u001b[0m│\u001b[35m \u001b[0m\u001b[35m  457.00\u001b[0m\u001b[35m \u001b[0m│\u001b[35m \u001b[0m\u001b[35m     1.11K\u001b[0m\u001b[35m \u001b[0m│\u001b[35m \u001b[0m\u001b[35m                   0.92\u001b[0m\u001b[35m \u001b[0m│\n",
              "├───────────────────────────────────────────────────────────────┼──────────┼────────────┼─────────────────────────┤\n",
              "│\u001b[36m \u001b[0m\u001b[36mshop.googlemerchandisestore.com/store-policies/return-policy/\u001b[0m\u001b[36m \u001b[0m│\u001b[35m \u001b[0m\u001b[35m    2.00\u001b[0m\u001b[35m \u001b[0m│\u001b[35m \u001b[0m\u001b[35m     25.00\u001b[0m\u001b[35m \u001b[0m│\u001b[35m \u001b[0m\u001b[35m                   1.00\u001b[0m\u001b[35m \u001b[0m│\n",
              "├───────────────────────────────────────────────────────────────┼──────────┼────────────┼─────────────────────────┤\n",
              "│\u001b[36m \u001b[0m\u001b[36mshop.googlemerchandisestore.com/ordercompleted.html          \u001b[0m\u001b[36m \u001b[0m│\u001b[35m \u001b[0m\u001b[35m    4.00\u001b[0m\u001b[35m \u001b[0m│\u001b[35m \u001b[0m\u001b[35m     11.00\u001b[0m\u001b[35m \u001b[0m│\u001b[35m \u001b[0m\u001b[35m                   0.50\u001b[0m\u001b[35m \u001b[0m│\n",
              "├───────────────────────────────────────────────────────────────┼──────────┼────────────┼─────────────────────────┤\n",
              "│\u001b[36m \u001b[0m\u001b[36mshop.googlemerchandisestore.com/Google+Redesign/Bags/Googl...\u001b[0m\u001b[36m \u001b[0m│\u001b[35m \u001b[0m\u001b[35m    1.00\u001b[0m\u001b[35m \u001b[0m│\u001b[35m \u001b[0m\u001b[35m     30.00\u001b[0m\u001b[35m \u001b[0m│\u001b[35m \u001b[0m\u001b[35m                   1.00\u001b[0m\u001b[35m \u001b[0m│\n",
              "├───────────────────────────────────────────────────────────────┼──────────┼────────────┼─────────────────────────┤\n",
              "│\u001b[36m \u001b[0m\u001b[36mshop.googlemerchandisestore.com/Google+Redesign/Apparel/Go...\u001b[0m\u001b[36m \u001b[0m│\u001b[35m \u001b[0m\u001b[35m    2.00\u001b[0m\u001b[35m \u001b[0m│\u001b[35m \u001b[0m\u001b[35m     15.00\u001b[0m\u001b[35m \u001b[0m│\u001b[35m \u001b[0m\u001b[35m                   1.00\u001b[0m\u001b[35m \u001b[0m│\n",
              "├───────────────────────────────────────────────────────────────┼──────────┼────────────┼─────────────────────────┤\n",
              "│\u001b[36m \u001b[0m\u001b[36mshop.googlemerchandisestore.com/Google+Redesign/Office/Wri...\u001b[0m\u001b[36m \u001b[0m│\u001b[35m \u001b[0m\u001b[35m    1.00\u001b[0m\u001b[35m \u001b[0m│\u001b[35m \u001b[0m\u001b[35m      2.00\u001b[0m\u001b[35m \u001b[0m│\u001b[35m \u001b[0m\u001b[35m                   1.00\u001b[0m\u001b[35m \u001b[0m│\n",
              "├───────────────────────────────────────────────────────────────┼──────────┼────────────┼─────────────────────────┤\n",
              "│\u001b[36m \u001b[0m\u001b[36mshop.googlemerchandisestore.com/Google+Redesign/Drinkware/...\u001b[0m\u001b[36m \u001b[0m│\u001b[35m \u001b[0m\u001b[35m    1.00\u001b[0m\u001b[35m \u001b[0m│\u001b[35m \u001b[0m\u001b[35m      2.00\u001b[0m\u001b[35m \u001b[0m│\u001b[35m \u001b[0m\u001b[35m                   1.00\u001b[0m\u001b[35m \u001b[0m│\n",
              "╰───────────────────────────────────────────────────────────────┴──────────┴────────────┴─────────────────────────╯\n"
            ]
          },
          "metadata": {},
          "output_type": "display_data"
        }
      ],
      "source": [
        "import pandas as pd\n",
        "from rich.console import Console\n",
        "from rich.table import Table\n",
        "from rich import box\n",
        "from rich.panel import Panel\n",
        "from urllib.parse import urlparse\n",
        "\n",
        "console = Console()\n",
        "\n",
        "def format_number(num):\n",
        "    if pd.isna(num):\n",
        "        return \"N/A\"\n",
        "    if isinstance(num, (int, float)):\n",
        "        if abs(num) >= 1_000_000:\n",
        "            return f\"{num/1_000_000:.2f}M\"\n",
        "        elif abs(num) >= 1000:\n",
        "            return f\"{num/1000:.2f}K\"\n",
        "        elif abs(num) < 0.01:\n",
        "            return f\"{num:.4f}\"\n",
        "        else:\n",
        "            return f\"{num:.2f}\"\n",
        "    return str(num)\n",
        "\n",
        "def shorten_url(url):\n",
        "    parsed = urlparse(url)\n",
        "    path = parsed.path\n",
        "    if len(path) > 30:\n",
        "        path = path[:27] + \"...\"\n",
        "    return f\"{parsed.netloc}{path}\"\n",
        "\n",
        "def create_table(df, title, columns, include_index=False):\n",
        "    table = Table(title=title, box=box.ROUNDED, show_lines=True)\n",
        "\n",
        "    if include_index:\n",
        "        table.add_column(\"Index\", style=\"cyan\", justify=\"right\")\n",
        "    table.add_column(\"Landing Page\", style=\"cyan\", no_wrap=True)\n",
        "    for col in columns:\n",
        "        table.add_column(col, justify=\"right\", style=\"magenta\")\n",
        "\n",
        "    for index, row in df.iterrows():\n",
        "        formatted_row = [format_number(row[col]) for col in columns]\n",
        "        shortened_url = shorten_url(row['landing_page'])\n",
        "        if include_index:\n",
        "            table.add_row(str(index), shortened_url, *formatted_row)\n",
        "        else:\n",
        "            table.add_row(shortened_url, *formatted_row)\n",
        "\n",
        "    return table\n",
        "\n",
        "\n",
        "\n",
        "def main(df):\n",
        "    # Sort the DataFrame by purchases in descending order\n",
        "    df_sorted = df.sort_values('purchases', ascending=False)\n",
        "\n",
        "\n",
        "    # Display the first 5 rows of the DataFrame\n",
        "    df_head_table = create_table(\n",
        "        df.head(),\n",
        "        \"First 5 Rows of Landing Page Performance Data\",\n",
        "        ['purchases', 'ecomm_conversion_rate', 'user_count'],\n",
        "        include_index=True\n",
        "    )\n",
        "    console.print(df_head_table)\n",
        "\n",
        "    # Top 10 Landing Pages by Purchases\n",
        "    purchases_table = create_table(\n",
        "        df_sorted.head(10),\n",
        "        \"Top 10 Landing Pages by Purchases\",\n",
        "        ['purchases', 'ecomm_conversion_rate', 'user_count']\n",
        "    )\n",
        "    console.print(purchases_table)\n",
        "\n",
        "    # User Engagement Metrics\n",
        "    engagement_table = create_table(\n",
        "        df_sorted.head(10),\n",
        "        \"User Engagement Metrics for Top Purchase Pages\",\n",
        "        ['sessions', 'page_views', 'session_engagement_rate']\n",
        "    )\n",
        "    console.print(engagement_table)\n",
        "\n",
        "\n",
        "\n",
        "if __name__ == \"__main__\":\n",
        "    # Assuming df is your DataFrame from the previous query\n",
        "    main(df)"
      ]
    },
    {
      "cell_type": "markdown",
      "metadata": {
        "id": "FfbgxoHM6KVL"
      },
      "source": [
        "#Add to Cart Rate"
      ]
    },
    {
      "cell_type": "code",
      "execution_count": null,
      "metadata": {
        "id": "HOip5c20lC0M"
      },
      "outputs": [],
      "source": [
        "query_item = \"\"\"\n",
        "SELECT\n",
        "  *,\n",
        "  ROUND(NULLIF(add_to_cart, 0) / NULLIF(view_item, 0), 2) AS basketToDetailRate,\n",
        "  ROUND(NULLIF(purchase, 0) / NULLIF(view_item, 0), 2) AS buyToDetailRate,\n",
        "  ROUND(NULLIF(qty, 0) / NULLIF(purchase, 0), 2) AS avgQuantity\n",
        "FROM (\n",
        "  SELECT\n",
        "    i.item_name,\n",
        "    COUNT(DISTINCT CASE WHEN event_name = \"view_item\" THEN CONCAT(user_pseudo_id, (SELECT value.int_value FROM UNNEST(event_params) WHERE key = 'ga_session_id')) END) AS view_item,\n",
        "    COUNT(DISTINCT CASE WHEN event_name = \"add_to_cart\" THEN CONCAT(user_pseudo_id, (SELECT value.int_value FROM UNNEST(event_params) WHERE key = 'ga_session_id')) END) AS add_to_cart,\n",
        "    COUNT(DISTINCT CASE WHEN event_name = \"view_cart\" THEN CONCAT(user_pseudo_id, (SELECT value.int_value FROM UNNEST(event_params) WHERE key = 'ga_session_id')) END) AS view_cart,\n",
        "    COUNT(DISTINCT CASE WHEN event_name = \"begin_checkout\" THEN CONCAT(user_pseudo_id, (SELECT value.int_value FROM UNNEST(event_params) WHERE key = 'ga_session_id')) END) AS begin_checkout,\n",
        "    COUNT(DISTINCT CASE WHEN event_name = \"add_payment_info\" THEN CONCAT(user_pseudo_id, (SELECT value.int_value FROM UNNEST(event_params) WHERE key = 'ga_session_id')) END) AS add_payment_info,\n",
        "    COUNT(DISTINCT CASE WHEN event_name = \"add_shipping_info\" THEN CONCAT(user_pseudo_id, (SELECT value.int_value FROM UNNEST(event_params) WHERE key = 'ga_session_id')) END) AS add_shipping_info,\n",
        "    COUNT(DISTINCT CASE WHEN event_name = \"purchase\" THEN CONCAT(user_pseudo_id, (SELECT value.int_value FROM UNNEST(event_params) WHERE key = 'ga_session_id')) END) AS purchase,\n",
        "    SUM(CASE WHEN event_name = \"purchase\" THEN i.quantity END) AS qty,\n",
        "    SUM(CASE WHEN event_name = \"purchase\" THEN i.price * i.quantity END) AS revenue\n",
        "  FROM `bigquery-public-data.ga4_obfuscated_sample_ecommerce.events_20210131`,\n",
        "    UNNEST(items) i\n",
        "  GROUP BY i.item_name\n",
        ");\n",
        "\n",
        "\"\"\"\n",
        "\n",
        "df_item = client.query(query_item).to_dataframe()\n",
        "\n"
      ]
    },
    {
      "cell_type": "code",
      "execution_count": null,
      "metadata": {
        "colab": {
          "base_uri": "https://localhost:8080/",
          "height": 1000
        },
        "id": "lZ9CbqcBq4ha",
        "outputId": "48d4b50c-8152-4a09-fa00-a73700b7ad43"
      },
      "outputs": [
        {
          "data": {
            "text/html": [
              "<pre style=\"white-space:pre;overflow-x:auto;line-height:normal;font-family:Menlo,'DejaVu Sans Mono',consolas,'Courier New',monospace\">\n",
              "<span style=\"font-weight: bold; text-decoration: underline\">Top </span><span style=\"color: #008080; text-decoration-color: #008080; font-weight: bold; text-decoration: underline\">5</span><span style=\"font-weight: bold; text-decoration: underline\"> Products with Highest Add-to-Cart Rate:</span>\n",
              "</pre>\n"
            ],
            "text/plain": [
              "\n",
              "\u001b[1;4mTop \u001b[0m\u001b[1;4;36m5\u001b[0m\u001b[1;4m Products with Highest Add-to-Cart Rate:\u001b[0m\n"
            ]
          },
          "metadata": {},
          "output_type": "display_data"
        },
        {
          "data": {
            "text/html": [
              "<pre style=\"white-space:pre;overflow-x:auto;line-height:normal;font-family:Menlo,'DejaVu Sans Mono',consolas,'Courier New',monospace\">┏━━━━━━━━━━━━━━━━━━━━━━━━━━━━━━━━━━━━━━━━━━┳━━━━━━━━━━━━━━━━━━┓\n",
              "┃<span style=\"color: #800080; text-decoration-color: #800080; font-weight: bold\"> Product Name                             </span>┃<span style=\"color: #800080; text-decoration-color: #800080; font-weight: bold\"> Add-to-Cart Rate </span>┃\n",
              "┡━━━━━━━━━━━━━━━━━━━━━━━━━━━━━━━━━━━━━━━━━━╇━━━━━━━━━━━━━━━━━━┩\n",
              "│<span style=\"color: #7f7f7f; text-decoration-color: #7f7f7f\"> Google Keychain                          </span>│ 1.0              │\n",
              "│<span style=\"color: #7f7f7f; text-decoration-color: #7f7f7f\"> Google Leather Strap Hat Blue            </span>│ 1.0              │\n",
              "│<span style=\"color: #7f7f7f; text-decoration-color: #7f7f7f\"> Google Clear Pen 4-Pack                  </span>│ 1.0              │\n",
              "│<span style=\"color: #7f7f7f; text-decoration-color: #7f7f7f\"> Google Women's Black Tee                 </span>│ 1.0              │\n",
              "│<span style=\"color: #7f7f7f; text-decoration-color: #7f7f7f\"> Google Lapel Pin                         </span>│ 1.0              │\n",
              "└──────────────────────────────────────────┴──────────────────┘\n",
              "</pre>\n"
            ],
            "text/plain": [
              "┏━━━━━━━━━━━━━━━━━━━━━━━━━━━━━━━━━━━━━━━━━━┳━━━━━━━━━━━━━━━━━━┓\n",
              "┃\u001b[1;35m \u001b[0m\u001b[1;35mProduct Name                            \u001b[0m\u001b[1;35m \u001b[0m┃\u001b[1;35m \u001b[0m\u001b[1;35mAdd-to-Cart Rate\u001b[0m\u001b[1;35m \u001b[0m┃\n",
              "┡━━━━━━━━━━━━━━━━━━━━━━━━━━━━━━━━━━━━━━━━━━╇━━━━━━━━━━━━━━━━━━┩\n",
              "│\u001b[2m \u001b[0m\u001b[2mGoogle Keychain                         \u001b[0m\u001b[2m \u001b[0m│ 1.0              │\n",
              "│\u001b[2m \u001b[0m\u001b[2mGoogle Leather Strap Hat Blue           \u001b[0m\u001b[2m \u001b[0m│ 1.0              │\n",
              "│\u001b[2m \u001b[0m\u001b[2mGoogle Clear Pen 4-Pack                 \u001b[0m\u001b[2m \u001b[0m│ 1.0              │\n",
              "│\u001b[2m \u001b[0m\u001b[2mGoogle Women's Black Tee                \u001b[0m\u001b[2m \u001b[0m│ 1.0              │\n",
              "│\u001b[2m \u001b[0m\u001b[2mGoogle Lapel Pin                        \u001b[0m\u001b[2m \u001b[0m│ 1.0              │\n",
              "└──────────────────────────────────────────┴──────────────────┘\n"
            ]
          },
          "metadata": {},
          "output_type": "display_data"
        },
        {
          "data": {
            "text/html": [
              "<pre style=\"white-space:pre;overflow-x:auto;line-height:normal;font-family:Menlo,'DejaVu Sans Mono',consolas,'Courier New',monospace\">\n",
              "<span style=\"font-weight: bold; text-decoration: underline\">Bottom </span><span style=\"color: #008080; text-decoration-color: #008080; font-weight: bold; text-decoration: underline\">5</span><span style=\"font-weight: bold; text-decoration: underline\"> Products with Lowest Add-to-Cart Rate:</span>\n",
              "</pre>\n"
            ],
            "text/plain": [
              "\n",
              "\u001b[1;4mBottom \u001b[0m\u001b[1;4;36m5\u001b[0m\u001b[1;4m Products with Lowest Add-to-Cart Rate:\u001b[0m\n"
            ]
          },
          "metadata": {},
          "output_type": "display_data"
        },
        {
          "data": {
            "text/html": [
              "<pre style=\"white-space:pre;overflow-x:auto;line-height:normal;font-family:Menlo,'DejaVu Sans Mono',consolas,'Courier New',monospace\">┏━━━━━━━━━━━━━━━━━━━━━━━━━━━━━━━━━━━━━━━━━━┳━━━━━━━━━━━━━━━━━━┓\n",
              "┃<span style=\"color: #800080; text-decoration-color: #800080; font-weight: bold\"> Product Name                             </span>┃<span style=\"color: #800080; text-decoration-color: #800080; font-weight: bold\"> Add-to-Cart Rate </span>┃\n",
              "┡━━━━━━━━━━━━━━━━━━━━━━━━━━━━━━━━━━━━━━━━━━╇━━━━━━━━━━━━━━━━━━┩\n",
              "│<span style=\"color: #7f7f7f; text-decoration-color: #7f7f7f\"> Google Badge Heavyweight Pullover Black  </span>│ 0.06             │\n",
              "│<span style=\"color: #7f7f7f; text-decoration-color: #7f7f7f\"> Google Toddler FC Zip Hoodie             </span>│ 0.07             │\n",
              "│<span style=\"color: #7f7f7f; text-decoration-color: #7f7f7f\"> Android Iconic Pin                       </span>│ 0.08             │\n",
              "│<span style=\"color: #7f7f7f; text-decoration-color: #7f7f7f\"> Google Mouse Pad Navy                    </span>│ 0.08             │\n",
              "│<span style=\"color: #7f7f7f; text-decoration-color: #7f7f7f\"> Google Beekeepers Toddler Tee Pink       </span>│ 0.09             │\n",
              "└──────────────────────────────────────────┴──────────────────┘\n",
              "</pre>\n"
            ],
            "text/plain": [
              "┏━━━━━━━━━━━━━━━━━━━━━━━━━━━━━━━━━━━━━━━━━━┳━━━━━━━━━━━━━━━━━━┓\n",
              "┃\u001b[1;35m \u001b[0m\u001b[1;35mProduct Name                            \u001b[0m\u001b[1;35m \u001b[0m┃\u001b[1;35m \u001b[0m\u001b[1;35mAdd-to-Cart Rate\u001b[0m\u001b[1;35m \u001b[0m┃\n",
              "┡━━━━━━━━━━━━━━━━━━━━━━━━━━━━━━━━━━━━━━━━━━╇━━━━━━━━━━━━━━━━━━┩\n",
              "│\u001b[2m \u001b[0m\u001b[2mGoogle Badge Heavyweight Pullover Black \u001b[0m\u001b[2m \u001b[0m│ 0.06             │\n",
              "│\u001b[2m \u001b[0m\u001b[2mGoogle Toddler FC Zip Hoodie            \u001b[0m\u001b[2m \u001b[0m│ 0.07             │\n",
              "│\u001b[2m \u001b[0m\u001b[2mAndroid Iconic Pin                      \u001b[0m\u001b[2m \u001b[0m│ 0.08             │\n",
              "│\u001b[2m \u001b[0m\u001b[2mGoogle Mouse Pad Navy                   \u001b[0m\u001b[2m \u001b[0m│ 0.08             │\n",
              "│\u001b[2m \u001b[0m\u001b[2mGoogle Beekeepers Toddler Tee Pink      \u001b[0m\u001b[2m \u001b[0m│ 0.09             │\n",
              "└──────────────────────────────────────────┴──────────────────┘\n"
            ]
          },
          "metadata": {},
          "output_type": "display_data"
        },
        {
          "data": {
            "image/png": "[encoded data removed]",
            "text/plain": [
              "<Figure size 1200x600 with 1 Axes>"
            ]
          },
          "metadata": {},
          "output_type": "display_data"
        },
        {
          "data": {
            "image/png": "[encoded data removed]",
            "text/plain": [
              "<Figure size 1200x600 with 1 Axes>"
            ]
          },
          "metadata": {},
          "output_type": "display_data"
        }
      ],
      "source": [
        "\n",
        "\n",
        "# Select rows with non-zero values for easier data analysis\n",
        "df_nonzero = df_item[(df_item['view_item'] > 0) & (df_item['add_to_cart'] > 0)]\n",
        "\n",
        "# Find the top 5 products with the highest add-to-cart rate\n",
        "top_basket_rate = df_nonzero.nlargest(5, 'basketToDetailRate')\n",
        "console.print(\"\\n[bold underline]Top 5 Products with Highest Add-to-Cart Rate:[/bold underline]\")\n",
        "table = Table(show_header=True, header_style=\"bold magenta\")\n",
        "table.add_column(\"Product Name\", style=\"dim\", width=40)\n",
        "table.add_column(\"Add-to-Cart Rate\")\n",
        "for _, row in top_basket_rate.iterrows():\n",
        "    table.add_row(row['item_name'], str(row['basketToDetailRate']))\n",
        "console.print(table)\n",
        "\n",
        "# Find the bottom 5 products with the lowest add-to-cart rate\n",
        "bottom_basket_rate = df_nonzero.nsmallest(5, 'basketToDetailRate')\n",
        "console.print(\"\\n[bold underline]Bottom 5 Products with Lowest Add-to-Cart Rate:[/bold underline]\")\n",
        "table = Table(show_header=True, header_style=\"bold magenta\")\n",
        "table.add_column(\"Product Name\", style=\"dim\", width=40)\n",
        "table.add_column(\"Add-to-Cart Rate\")\n",
        "for _, row in bottom_basket_rate.iterrows():\n",
        "    table.add_row(row['item_name'], str(row['basketToDetailRate']))\n",
        "console.print(table)\n",
        "\n",
        "# Visualize the add-to-cart rates of the products\n",
        "plt.figure(figsize=(12, 6))\n",
        "plt.bar(df_nonzero['item_name'], df_nonzero['basketToDetailRate'])\n",
        "plt.xticks([])  # Remove x-axis labels\n",
        "plt.xlabel('Products')\n",
        "plt.ylabel('Add-to-Cart Rate')\n",
        "plt.title('Add-to-Cart Rates of Products')\n",
        "plt.tight_layout()\n",
        "plt.show()\n",
        "\n",
        "# Compare the view and add-to-cart counts of the products\n",
        "plt.figure(figsize=(12, 6))\n",
        "plt.plot(df_nonzero['item_name'], df_nonzero['view_item'], marker='o', label='Views')\n",
        "plt.plot(df_nonzero['item_name'], df_nonzero['add_to_cart'], marker='o', label='Add to Cart')\n",
        "plt.xticks([])  # Remove x-axis labels\n",
        "plt.xlabel('Products')\n",
        "plt.ylabel('Count')\n",
        "plt.title('View and Add-to-Cart Counts of Products')\n",
        "plt.legend()\n",
        "plt.tight_layout()\n",
        "plt.show()\n"
      ]
    },
    {
      "cell_type": "markdown",
      "metadata": {
        "id": "a58au_wS6WNu"
      },
      "source": [
        "Null"
      ]
    },
    {
      "cell_type": "markdown",
      "metadata": {
        "id": "PHKDyFPz5-hM"
      },
      "source": [
        "| Row | column_name                            | null_ratio         |\n",
        "|-----|----------------------------------------|--------------------|\n",
        "| 1   | ecommerce.tax_value                    | 1.0                |\n",
        "| 2   | ecommerce.shipping_value_in_usd        | 1.0                |\n",
        "| 3   | ecommerce.purchase_revenue             | 1.0                |\n",
        "| 4   | user_id                                | 1.0                |\n",
        "| 5   | ecommerce.refund_value                 | 1.0                |\n",
        "| 6   | ecommerce.shipping_value               | 1.0                |\n",
        "| 7   | event_dimensions.hostname              | 1.0                |\n",
        "| 8   | ecommerce.refund_value_in_usd          | 1.0                |\n",
        "| 9   | ecommerce.tax_value_in_usd             | 1.0                |\n",
        "| 10  | event_value_in_usd                     | 1.0                |\n",
        "| 11  | event_previous_timestamp               | 1.0                |\n",
        "| 12  | event_server_timestamp_offset          | 1.0                |\n",
        "| 13  | ecommerce.purchase_revenue_in_usd      | 0.9992827211295254 |\n",
        "| 14  | ecommerce.total_item_quantity          | 0.9870512288119597 |\n",
        "| 15  | items.item_id                          | 0.8882932538034656 |\n",
        "| 16  | ecommerce.unique_items                 | 0.8882932538034656 |\n",
        "| 17  | ecommerce.transaction_id               | 0.847936879459     |\n"
      ]
    },
    {
      "cell_type": "code",
      "execution_count": null,
      "metadata": {
        "colab": {
          "base_uri": "https://localhost:8080/",
          "height": 1000
        },
        "id": "yqY2p9D9sxl1",
        "outputId": "1a92ca59-8207-4625-cc09-d6d593ccdd6d"
      },
      "outputs": [
        {
          "data": {
            "text/html": [
              "<pre style=\"white-space:pre;overflow-x:auto;line-height:normal;font-family:Menlo,'DejaVu Sans Mono',consolas,'Courier New',monospace\"><span style=\"color: #008000; text-decoration-color: #008000; font-weight: bold\">Columns deleted.</span>\n",
              "</pre>\n"
            ],
            "text/plain": [
              "\u001b[1;32mColumns deleted.\u001b[0m\n"
            ]
          },
          "metadata": {},
          "output_type": "display_data"
        },
        {
          "data": {
            "text/html": [
              "<pre style=\"white-space:pre;overflow-x:auto;line-height:normal;font-family:Menlo,'DejaVu Sans Mono',consolas,'Courier New',monospace\"><span style=\"color: #008000; text-decoration-color: #008000; font-weight: bold\">Categorical data converted to numeric.</span>\n",
              "</pre>\n"
            ],
            "text/plain": [
              "\u001b[1;32mCategorical data converted to numeric.\u001b[0m\n"
            ]
          },
          "metadata": {},
          "output_type": "display_data"
        },
        {
          "data": {
            "text/html": [
              "<pre style=\"white-space:pre;overflow-x:auto;line-height:normal;font-family:Menlo,'DejaVu Sans Mono',consolas,'Courier New',monospace\">\n",
              "<span style=\"font-weight: bold\">First </span><span style=\"color: #008080; text-decoration-color: #008080; font-weight: bold\">5</span><span style=\"font-weight: bold\"> rows:</span>\n",
              "</pre>\n"
            ],
            "text/plain": [
              "\n",
              "\u001b[1mFirst \u001b[0m\u001b[1;36m5\u001b[0m\u001b[1m rows:\u001b[0m\n"
            ]
          },
          "metadata": {},
          "output_type": "display_data"
        },
        {
          "data": {
            "text/html": [
              "<pre style=\"white-space:pre;overflow-x:auto;line-height:normal;font-family:Menlo,'DejaVu Sans Mono',consolas,'Courier New',monospace\">┏━━━━━━━┳━━━━━━━┳━━━━━━━┳━━━━━━━┳━━━━━━━┳━━━━━━━┳━━━━━━━┳━━━━━━━┳━━━━━━━┳━━━━━━━┳━━━━━━━┳━━━━━━━━┳━━━━━━━┳━━━━━━━━┓\n",
              "┃<span style=\"color: #800080; text-decoration-color: #800080; font-weight: bold\"> land… </span>┃<span style=\"color: #800080; text-decoration-color: #800080; font-weight: bold\"> user… </span>┃<span style=\"color: #800080; text-decoration-color: #800080; font-weight: bold\"> sess… </span>┃<span style=\"color: #800080; text-decoration-color: #800080; font-weight: bold\"> page… </span>┃<span style=\"color: #800080; text-decoration-color: #800080; font-weight: bold\"> sess… </span>┃<span style=\"color: #800080; text-decoration-color: #800080; font-weight: bold\"> new_… </span>┃<span style=\"color: #800080; text-decoration-color: #800080; font-weight: bold\"> sess… </span>┃<span style=\"color: #800080; text-decoration-color: #800080; font-weight: bold\"> ga4_… </span>┃<span style=\"color: #800080; text-decoration-color: #800080; font-weight: bold\"> ua_s… </span>┃<span style=\"color: #800080; text-decoration-color: #800080; font-weight: bold\"> purc… </span>┃<span style=\"color: #800080; text-decoration-color: #800080; font-weight: bold\"> ecom… </span>┃<span style=\"color: #800080; text-decoration-color: #800080; font-weight: bold\"> reven… </span>┃<span style=\"color: #800080; text-decoration-color: #800080; font-weight: bold\"> sele… </span>┃<span style=\"color: #800080; text-decoration-color: #800080; font-weight: bold\"> selec… </span>┃\n",
              "┡━━━━━━━╇━━━━━━━╇━━━━━━━╇━━━━━━━╇━━━━━━━╇━━━━━━━╇━━━━━━━╇━━━━━━━╇━━━━━━━╇━━━━━━━╇━━━━━━━╇━━━━━━━━╇━━━━━━━╇━━━━━━━━┩\n",
              "│ 0     │ 496   │ 561   │ 2374  │ 0.01… │ 391   │ 0.90… │ 23.2… │ 228.… │ 9     │ 0.01… │ nan    │ 43    │ 0.076… │\n",
              "│ 1     │ 444   │ 457   │ 1113  │ 0.07… │ 425   │ 0.92… │ 10.4… │ 53.4… │ 1     │ 0.00… │ nan    │ 1     │ 0.002… │\n",
              "│ 2     │ 41    │ 42    │ 87    │ 0.02… │ 31    │ 0.88… │ 7.19… │ 82.3… │ 0     │ 0.0   │ nan    │ 1     │ 0.023… │\n",
              "│ 3     │ 155   │ 155   │ 350   │ 0.11… │ 141   │ 0.85… │ 10.0… │ 38.3… │ 1     │ 0.00… │ nan    │ 0     │ 0.0    │\n",
              "│ 4     │ 516   │ 529   │ 2026  │ 0.01… │ 429   │ 0.96… │ 18.2… │ 199.… │ 4     │ 0.00… │ nan    │ 13    │ 0.024… │\n",
              "└───────┴───────┴───────┴───────┴───────┴───────┴───────┴───────┴───────┴───────┴───────┴────────┴───────┴────────┘\n",
              "</pre>\n"
            ],
            "text/plain": [
              "┏━━━━━━━┳━━━━━━━┳━━━━━━━┳━━━━━━━┳━━━━━━━┳━━━━━━━┳━━━━━━━┳━━━━━━━┳━━━━━━━┳━━━━━━━┳━━━━━━━┳━━━━━━━━┳━━━━━━━┳━━━━━━━━┓\n",
              "┃\u001b[1;35m \u001b[0m\u001b[1;35mland…\u001b[0m\u001b[1;35m \u001b[0m┃\u001b[1;35m \u001b[0m\u001b[1;35muser…\u001b[0m\u001b[1;35m \u001b[0m┃\u001b[1;35m \u001b[0m\u001b[1;35msess…\u001b[0m\u001b[1;35m \u001b[0m┃\u001b[1;35m \u001b[0m\u001b[1;35mpage…\u001b[0m\u001b[1;35m \u001b[0m┃\u001b[1;35m \u001b[0m\u001b[1;35msess…\u001b[0m\u001b[1;35m \u001b[0m┃\u001b[1;35m \u001b[0m\u001b[1;35mnew_…\u001b[0m\u001b[1;35m \u001b[0m┃\u001b[1;35m \u001b[0m\u001b[1;35msess…\u001b[0m\u001b[1;35m \u001b[0m┃\u001b[1;35m \u001b[0m\u001b[1;35mga4_…\u001b[0m\u001b[1;35m \u001b[0m┃\u001b[1;35m \u001b[0m\u001b[1;35mua_s…\u001b[0m\u001b[1;35m \u001b[0m┃\u001b[1;35m \u001b[0m\u001b[1;35mpurc…\u001b[0m\u001b[1;35m \u001b[0m┃\u001b[1;35m \u001b[0m\u001b[1;35mecom…\u001b[0m\u001b[1;35m \u001b[0m┃\u001b[1;35m \u001b[0m\u001b[1;35mreven…\u001b[0m\u001b[1;35m \u001b[0m┃\u001b[1;35m \u001b[0m\u001b[1;35msele…\u001b[0m\u001b[1;35m \u001b[0m┃\u001b[1;35m \u001b[0m\u001b[1;35mselec…\u001b[0m\u001b[1;35m \u001b[0m┃\n",
              "┡━━━━━━━╇━━━━━━━╇━━━━━━━╇━━━━━━━╇━━━━━━━╇━━━━━━━╇━━━━━━━╇━━━━━━━╇━━━━━━━╇━━━━━━━╇━━━━━━━╇━━━━━━━━╇━━━━━━━╇━━━━━━━━┩\n",
              "│ 0     │ 496   │ 561   │ 2374  │ 0.01… │ 391   │ 0.90… │ 23.2… │ 228.… │ 9     │ 0.01… │ nan    │ 43    │ 0.076… │\n",
              "│ 1     │ 444   │ 457   │ 1113  │ 0.07… │ 425   │ 0.92… │ 10.4… │ 53.4… │ 1     │ 0.00… │ nan    │ 1     │ 0.002… │\n",
              "│ 2     │ 41    │ 42    │ 87    │ 0.02… │ 31    │ 0.88… │ 7.19… │ 82.3… │ 0     │ 0.0   │ nan    │ 1     │ 0.023… │\n",
              "│ 3     │ 155   │ 155   │ 350   │ 0.11… │ 141   │ 0.85… │ 10.0… │ 38.3… │ 1     │ 0.00… │ nan    │ 0     │ 0.0    │\n",
              "│ 4     │ 516   │ 529   │ 2026  │ 0.01… │ 429   │ 0.96… │ 18.2… │ 199.… │ 4     │ 0.00… │ nan    │ 13    │ 0.024… │\n",
              "└───────┴───────┴───────┴───────┴───────┴───────┴───────┴───────┴───────┴───────┴───────┴────────┴───────┴────────┘\n"
            ]
          },
          "metadata": {},
          "output_type": "display_data"
        },
        {
          "data": {
            "text/html": [
              "<pre style=\"white-space:pre;overflow-x:auto;line-height:normal;font-family:Menlo,'DejaVu Sans Mono',consolas,'Courier New',monospace\">\n",
              "<span style=\"font-weight: bold\">Dataset Information:</span>\n",
              "</pre>\n"
            ],
            "text/plain": [
              "\n",
              "\u001b[1mDataset Information:\u001b[0m\n"
            ]
          },
          "metadata": {},
          "output_type": "display_data"
        },
        {
          "data": {
            "text/html": [
              "<pre style=\"white-space:pre;overflow-x:auto;line-height:normal;font-family:Menlo,'DejaVu Sans Mono',consolas,'Courier New',monospace\">Number of rows: <span style=\"color: #008080; text-decoration-color: #008080; font-weight: bold\">131</span>\n",
              "</pre>\n"
            ],
            "text/plain": [
              "Number of rows: \u001b[1;36m131\u001b[0m\n"
            ]
          },
          "metadata": {},
          "output_type": "display_data"
        },
        {
          "data": {
            "text/html": [
              "<pre style=\"white-space:pre;overflow-x:auto;line-height:normal;font-family:Menlo,'DejaVu Sans Mono',consolas,'Courier New',monospace\">Number of columns: <span style=\"color: #008080; text-decoration-color: #008080; font-weight: bold\">14</span>\n",
              "</pre>\n"
            ],
            "text/plain": [
              "Number of columns: \u001b[1;36m14\u001b[0m\n"
            ]
          },
          "metadata": {},
          "output_type": "display_data"
        },
        {
          "data": {
            "text/html": [
              "<pre style=\"white-space:pre;overflow-x:auto;line-height:normal;font-family:Menlo,'DejaVu Sans Mono',consolas,'Courier New',monospace\">\n",
              "<span style=\"font-weight: bold\">Data Types:</span>\n",
              "</pre>\n"
            ],
            "text/plain": [
              "\n",
              "\u001b[1mData Types:\u001b[0m\n"
            ]
          },
          "metadata": {},
          "output_type": "display_data"
        },
        {
          "data": {
            "text/html": [
              "<pre style=\"white-space:pre;overflow-x:auto;line-height:normal;font-family:Menlo,'DejaVu Sans Mono',consolas,'Courier New',monospace\">landing_page: int64\n",
              "</pre>\n"
            ],
            "text/plain": [
              "landing_page: int64\n"
            ]
          },
          "metadata": {},
          "output_type": "display_data"
        },
        {
          "data": {
            "text/html": [
              "<pre style=\"white-space:pre;overflow-x:auto;line-height:normal;font-family:Menlo,'DejaVu Sans Mono',consolas,'Courier New',monospace\">user_count: Int64\n",
              "</pre>\n"
            ],
            "text/plain": [
              "user_count: Int64\n"
            ]
          },
          "metadata": {},
          "output_type": "display_data"
        },
        {
          "data": {
            "text/html": [
              "<pre style=\"white-space:pre;overflow-x:auto;line-height:normal;font-family:Menlo,'DejaVu Sans Mono',consolas,'Courier New',monospace\">sessions: Int64\n",
              "</pre>\n"
            ],
            "text/plain": [
              "sessions: Int64\n"
            ]
          },
          "metadata": {},
          "output_type": "display_data"
        },
        {
          "data": {
            "text/html": [
              "<pre style=\"white-space:pre;overflow-x:auto;line-height:normal;font-family:Menlo,'DejaVu Sans Mono',consolas,'Courier New',monospace\">page_views: Int64\n",
              "</pre>\n"
            ],
            "text/plain": [
              "page_views: Int64\n"
            ]
          },
          "metadata": {},
          "output_type": "display_data"
        },
        {
          "data": {
            "text/html": [
              "<pre style=\"white-space:pre;overflow-x:auto;line-height:normal;font-family:Menlo,'DejaVu Sans Mono',consolas,'Courier New',monospace\">session_bounce_rate: float64\n",
              "</pre>\n"
            ],
            "text/plain": [
              "session_bounce_rate: float64\n"
            ]
          },
          "metadata": {},
          "output_type": "display_data"
        },
        {
          "data": {
            "text/html": [
              "<pre style=\"white-space:pre;overflow-x:auto;line-height:normal;font-family:Menlo,'DejaVu Sans Mono',consolas,'Courier New',monospace\">new_users: Int64\n",
              "</pre>\n"
            ],
            "text/plain": [
              "new_users: Int64\n"
            ]
          },
          "metadata": {},
          "output_type": "display_data"
        },
        {
          "data": {
            "text/html": [
              "<pre style=\"white-space:pre;overflow-x:auto;line-height:normal;font-family:Menlo,'DejaVu Sans Mono',consolas,'Courier New',monospace\">session_engagement_rate: float64\n",
              "</pre>\n"
            ],
            "text/plain": [
              "session_engagement_rate: float64\n"
            ]
          },
          "metadata": {},
          "output_type": "display_data"
        },
        {
          "data": {
            "text/html": [
              "<pre style=\"white-space:pre;overflow-x:auto;line-height:normal;font-family:Menlo,'DejaVu Sans Mono',consolas,'Courier New',monospace\">ga4_session_duration: float64\n",
              "</pre>\n"
            ],
            "text/plain": [
              "ga4_session_duration: float64\n"
            ]
          },
          "metadata": {},
          "output_type": "display_data"
        },
        {
          "data": {
            "text/html": [
              "<pre style=\"white-space:pre;overflow-x:auto;line-height:normal;font-family:Menlo,'DejaVu Sans Mono',consolas,'Courier New',monospace\">ua_session_duration: float64\n",
              "</pre>\n"
            ],
            "text/plain": [
              "ua_session_duration: float64\n"
            ]
          },
          "metadata": {},
          "output_type": "display_data"
        },
        {
          "data": {
            "text/html": [
              "<pre style=\"white-space:pre;overflow-x:auto;line-height:normal;font-family:Menlo,'DejaVu Sans Mono',consolas,'Courier New',monospace\">purchases: Int64\n",
              "</pre>\n"
            ],
            "text/plain": [
              "purchases: Int64\n"
            ]
          },
          "metadata": {},
          "output_type": "display_data"
        },
        {
          "data": {
            "text/html": [
              "<pre style=\"white-space:pre;overflow-x:auto;line-height:normal;font-family:Menlo,'DejaVu Sans Mono',consolas,'Courier New',monospace\">ecomm_conversion_rate: float64\n",
              "</pre>\n"
            ],
            "text/plain": [
              "ecomm_conversion_rate: float64\n"
            ]
          },
          "metadata": {},
          "output_type": "display_data"
        },
        {
          "data": {
            "text/html": [
              "<pre style=\"white-space:pre;overflow-x:auto;line-height:normal;font-family:Menlo,'DejaVu Sans Mono',consolas,'Courier New',monospace\">revenue: float64\n",
              "</pre>\n"
            ],
            "text/plain": [
              "revenue: float64\n"
            ]
          },
          "metadata": {},
          "output_type": "display_data"
        },
        {
          "data": {
            "text/html": [
              "<pre style=\"white-space:pre;overflow-x:auto;line-height:normal;font-family:Menlo,'DejaVu Sans Mono',consolas,'Courier New',monospace\">select_promotion: Int64\n",
              "</pre>\n"
            ],
            "text/plain": [
              "select_promotion: Int64\n"
            ]
          },
          "metadata": {},
          "output_type": "display_data"
        },
        {
          "data": {
            "text/html": [
              "<pre style=\"white-space:pre;overflow-x:auto;line-height:normal;font-family:Menlo,'DejaVu Sans Mono',consolas,'Courier New',monospace\">select_promotion_conversion: float64\n",
              "</pre>\n"
            ],
            "text/plain": [
              "select_promotion_conversion: float64\n"
            ]
          },
          "metadata": {},
          "output_type": "display_data"
        },
        {
          "data": {
            "text/html": [
              "<pre style=\"white-space:pre;overflow-x:auto;line-height:normal;font-family:Menlo,'DejaVu Sans Mono',consolas,'Courier New',monospace\">\n",
              "<span style=\"font-weight: bold\">Missing Values Count:</span>\n",
              "</pre>\n"
            ],
            "text/plain": [
              "\n",
              "\u001b[1mMissing Values Count:\u001b[0m\n"
            ]
          },
          "metadata": {},
          "output_type": "display_data"
        },
        {
          "data": {
            "text/html": [
              "<pre style=\"white-space:pre;overflow-x:auto;line-height:normal;font-family:Menlo,'DejaVu Sans Mono',consolas,'Courier New',monospace\">ga4_session_duration: <span style=\"color: #008080; text-decoration-color: #008080; font-weight: bold\">20</span>\n",
              "</pre>\n"
            ],
            "text/plain": [
              "ga4_session_duration: \u001b[1;36m20\u001b[0m\n"
            ]
          },
          "metadata": {},
          "output_type": "display_data"
        },
        {
          "data": {
            "text/html": [
              "<pre style=\"white-space:pre;overflow-x:auto;line-height:normal;font-family:Menlo,'DejaVu Sans Mono',consolas,'Courier New',monospace\">revenue: <span style=\"color: #008080; text-decoration-color: #008080; font-weight: bold\">131</span>\n",
              "</pre>\n"
            ],
            "text/plain": [
              "revenue: \u001b[1;36m131\u001b[0m\n"
            ]
          },
          "metadata": {},
          "output_type": "display_data"
        },
        {
          "data": {
            "text/html": [
              "<pre style=\"white-space:pre;overflow-x:auto;line-height:normal;font-family:Menlo,'DejaVu Sans Mono',consolas,'Courier New',monospace\">\n",
              "<span style=\"font-weight: bold\">Descriptive Statistics:</span>\n",
              "</pre>\n"
            ],
            "text/plain": [
              "\n",
              "\u001b[1mDescriptive Statistics:\u001b[0m\n"
            ]
          },
          "metadata": {},
          "output_type": "display_data"
        },
        {
          "data": {
            "text/html": [
              "<pre style=\"white-space:pre;overflow-x:auto;line-height:normal;font-family:Menlo,'DejaVu Sans Mono',consolas,'Courier New',monospace\">       landing_page  user_count   sessions  page_views  session_bounce_rate  \\\n",
              "count    <span style=\"color: #008080; text-decoration-color: #008080; font-weight: bold\">131.000000</span>       <span style=\"color: #008080; text-decoration-color: #008080; font-weight: bold\">131.0</span>      <span style=\"color: #008080; text-decoration-color: #008080; font-weight: bold\">131.0</span>       <span style=\"color: #008080; text-decoration-color: #008080; font-weight: bold\">131.0</span>           <span style=\"color: #008080; text-decoration-color: #008080; font-weight: bold\">131.000000</span>   \n",
              "mean      <span style=\"color: #008080; text-decoration-color: #008080; font-weight: bold\">64.000000</span>   <span style=\"color: #008080; text-decoration-color: #008080; font-weight: bold\">20.618321</span>  <span style=\"color: #008080; text-decoration-color: #008080; font-weight: bold\">21.748092</span>   <span style=\"color: #008080; text-decoration-color: #008080; font-weight: bold\">72.503817</span>             <span style=\"color: #008080; text-decoration-color: #008080; font-weight: bold\">0.076336</span>   \n",
              "std       <span style=\"color: #008080; text-decoration-color: #008080; font-weight: bold\">37.960506</span>   <span style=\"color: #008080; text-decoration-color: #008080; font-weight: bold\">75.665301</span>  <span style=\"color: #008080; text-decoration-color: #008080; font-weight: bold\">80.223183</span>  <span style=\"color: #008080; text-decoration-color: #008080; font-weight: bold\">292.252403</span>             <span style=\"color: #008080; text-decoration-color: #008080; font-weight: bold\">0.227429</span>   \n",
              "min       <span style=\"color: #008080; text-decoration-color: #008080; font-weight: bold\">-1.000000</span>         <span style=\"color: #008080; text-decoration-color: #008080; font-weight: bold\">1.0</span>        <span style=\"color: #008080; text-decoration-color: #008080; font-weight: bold\">1.0</span>         <span style=\"color: #008080; text-decoration-color: #008080; font-weight: bold\">0.0</span>             <span style=\"color: #008080; text-decoration-color: #008080; font-weight: bold\">0.000000</span>   \n",
              "<span style=\"color: #008080; text-decoration-color: #008080; font-weight: bold\">25</span>%       <span style=\"color: #008080; text-decoration-color: #008080; font-weight: bold\">31.500000</span>         <span style=\"color: #008080; text-decoration-color: #008080; font-weight: bold\">1.0</span>        <span style=\"color: #008080; text-decoration-color: #008080; font-weight: bold\">1.0</span>         <span style=\"color: #008080; text-decoration-color: #008080; font-weight: bold\">2.0</span>             <span style=\"color: #008080; text-decoration-color: #008080; font-weight: bold\">0.000000</span>   \n",
              "<span style=\"color: #008080; text-decoration-color: #008080; font-weight: bold\">50</span>%       <span style=\"color: #008080; text-decoration-color: #008080; font-weight: bold\">64.000000</span>         <span style=\"color: #008080; text-decoration-color: #008080; font-weight: bold\">2.0</span>        <span style=\"color: #008080; text-decoration-color: #008080; font-weight: bold\">3.0</span>         <span style=\"color: #008080; text-decoration-color: #008080; font-weight: bold\">6.0</span>             <span style=\"color: #008080; text-decoration-color: #008080; font-weight: bold\">0.000000</span>   \n",
              "<span style=\"color: #008080; text-decoration-color: #008080; font-weight: bold\">75</span>%       <span style=\"color: #008080; text-decoration-color: #008080; font-weight: bold\">96.500000</span>         <span style=\"color: #008080; text-decoration-color: #008080; font-weight: bold\">6.5</span>        <span style=\"color: #008080; text-decoration-color: #008080; font-weight: bold\">7.0</span>        <span style=\"color: #008080; text-decoration-color: #008080; font-weight: bold\">25.0</span>             <span style=\"color: #008080; text-decoration-color: #008080; font-weight: bold\">0.000000</span>   \n",
              "max      <span style=\"color: #008080; text-decoration-color: #008080; font-weight: bold\">129.000000</span>       <span style=\"color: #008080; text-decoration-color: #008080; font-weight: bold\">516.0</span>      <span style=\"color: #008080; text-decoration-color: #008080; font-weight: bold\">561.0</span>      <span style=\"color: #008080; text-decoration-color: #008080; font-weight: bold\">2374.0</span>             <span style=\"color: #008080; text-decoration-color: #008080; font-weight: bold\">1.000000</span>   \n",
              "\n",
              "       new_users  session_engagement_rate  ga4_session_duration  \\\n",
              "count      <span style=\"color: #008080; text-decoration-color: #008080; font-weight: bold\">131.0</span>               <span style=\"color: #008080; text-decoration-color: #008080; font-weight: bold\">131.000000</span>            <span style=\"color: #008080; text-decoration-color: #008080; font-weight: bold\">111.000000</span>   \n",
              "mean   <span style=\"color: #008080; text-decoration-color: #008080; font-weight: bold\">16.236641</span>                 <span style=\"color: #008080; text-decoration-color: #008080; font-weight: bold\">0.790882</span>             <span style=\"color: #008080; text-decoration-color: #008080; font-weight: bold\">23.680102</span>   \n",
              "std    <span style=\"color: #008080; text-decoration-color: #008080; font-weight: bold\">65.019622</span>                 <span style=\"color: #008080; text-decoration-color: #008080; font-weight: bold\">0.319267</span>             <span style=\"color: #008080; text-decoration-color: #008080; font-weight: bold\">42.154016</span>   \n",
              "min          <span style=\"color: #008080; text-decoration-color: #008080; font-weight: bold\">0.0</span>                 <span style=\"color: #008080; text-decoration-color: #008080; font-weight: bold\">0.000000</span>              <span style=\"color: #008080; text-decoration-color: #008080; font-weight: bold\">0.002000</span>   \n",
              "<span style=\"color: #008080; text-decoration-color: #008080; font-weight: bold\">25</span>%          <span style=\"color: #008080; text-decoration-color: #008080; font-weight: bold\">1.0</span>                 <span style=\"color: #008080; text-decoration-color: #008080; font-weight: bold\">0.666667</span>              <span style=\"color: #008080; text-decoration-color: #008080; font-weight: bold\">2.974750</span>   \n",
              "<span style=\"color: #008080; text-decoration-color: #008080; font-weight: bold\">50</span>%          <span style=\"color: #008080; text-decoration-color: #008080; font-weight: bold\">1.0</span>                 <span style=\"color: #008080; text-decoration-color: #008080; font-weight: bold\">1.000000</span>             <span style=\"color: #008080; text-decoration-color: #008080; font-weight: bold\">10.004273</span>   \n",
              "<span style=\"color: #008080; text-decoration-color: #008080; font-weight: bold\">75</span>%          <span style=\"color: #008080; text-decoration-color: #008080; font-weight: bold\">4.0</span>                 <span style=\"color: #008080; text-decoration-color: #008080; font-weight: bold\">1.000000</span>             <span style=\"color: #008080; text-decoration-color: #008080; font-weight: bold\">22.813744</span>   \n",
              "max        <span style=\"color: #008080; text-decoration-color: #008080; font-weight: bold\">429.0</span>                 <span style=\"color: #008080; text-decoration-color: #008080; font-weight: bold\">1.000000</span>            <span style=\"color: #008080; text-decoration-color: #008080; font-weight: bold\">303.127000</span>   \n",
              "\n",
              "       ua_session_duration  purchases  ecomm_conversion_rate  revenue  \\\n",
              "count           <span style=\"color: #008080; text-decoration-color: #008080; font-weight: bold\">131.000000</span>      <span style=\"color: #008080; text-decoration-color: #008080; font-weight: bold\">131.0</span>             <span style=\"color: #008080; text-decoration-color: #008080; font-weight: bold\">131.000000</span>      <span style=\"color: #008080; text-decoration-color: #008080; font-weight: bold\">0.0</span>   \n",
              "mean            <span style=\"color: #008080; text-decoration-color: #008080; font-weight: bold\">169.077733</span>   <span style=\"color: #008080; text-decoration-color: #008080; font-weight: bold\">0.145038</span>               <span style=\"color: #008080; text-decoration-color: #008080; font-weight: bold\">0.017422</span>      NaN   \n",
              "std             <span style=\"color: #008080; text-decoration-color: #008080; font-weight: bold\">430.597549</span>   <span style=\"color: #008080; text-decoration-color: #008080; font-weight: bold\">0.878129</span>               <span style=\"color: #008080; text-decoration-color: #008080; font-weight: bold\">0.108241</span>      NaN   \n",
              "min               <span style=\"color: #008080; text-decoration-color: #008080; font-weight: bold\">0.000000</span>        <span style=\"color: #008080; text-decoration-color: #008080; font-weight: bold\">0.0</span>               <span style=\"color: #008080; text-decoration-color: #008080; font-weight: bold\">0.000000</span>      NaN   \n",
              "<span style=\"color: #008080; text-decoration-color: #008080; font-weight: bold\">25</span>%               <span style=\"color: #008080; text-decoration-color: #008080; font-weight: bold\">4.000000</span>        <span style=\"color: #008080; text-decoration-color: #008080; font-weight: bold\">0.0</span>               <span style=\"color: #008080; text-decoration-color: #008080; font-weight: bold\">0.000000</span>      NaN   \n",
              "<span style=\"color: #008080; text-decoration-color: #008080; font-weight: bold\">50</span>%              <span style=\"color: #008080; text-decoration-color: #008080; font-weight: bold\">29.500000</span>        <span style=\"color: #008080; text-decoration-color: #008080; font-weight: bold\">0.0</span>               <span style=\"color: #008080; text-decoration-color: #008080; font-weight: bold\">0.000000</span>      NaN   \n",
              "<span style=\"color: #008080; text-decoration-color: #008080; font-weight: bold\">75</span>%             <span style=\"color: #008080; text-decoration-color: #008080; font-weight: bold\">185.383333</span>        <span style=\"color: #008080; text-decoration-color: #008080; font-weight: bold\">0.0</span>               <span style=\"color: #008080; text-decoration-color: #008080; font-weight: bold\">0.000000</span>      NaN   \n",
              "max            <span style=\"color: #008080; text-decoration-color: #008080; font-weight: bold\">3854.000000</span>        <span style=\"color: #008080; text-decoration-color: #008080; font-weight: bold\">9.0</span>               <span style=\"color: #008080; text-decoration-color: #008080; font-weight: bold\">1.000000</span>      NaN   \n",
              "\n",
              "       select_promotion  select_promotion_conversion  \n",
              "count             <span style=\"color: #008080; text-decoration-color: #008080; font-weight: bold\">131.0</span>                   <span style=\"color: #008080; text-decoration-color: #008080; font-weight: bold\">131.000000</span>  \n",
              "mean           <span style=\"color: #008080; text-decoration-color: #008080; font-weight: bold\">0.541985</span>                     <span style=\"color: #008080; text-decoration-color: #008080; font-weight: bold\">0.006141</span>  \n",
              "std             <span style=\"color: #008080; text-decoration-color: #008080; font-weight: bold\">3.93458</span>                     <span style=\"color: #008080; text-decoration-color: #008080; font-weight: bold\">0.036283</span>  \n",
              "min                 <span style=\"color: #008080; text-decoration-color: #008080; font-weight: bold\">0.0</span>                     <span style=\"color: #008080; text-decoration-color: #008080; font-weight: bold\">0.000000</span>  \n",
              "<span style=\"color: #008080; text-decoration-color: #008080; font-weight: bold\">25</span>%                 <span style=\"color: #008080; text-decoration-color: #008080; font-weight: bold\">0.0</span>                     <span style=\"color: #008080; text-decoration-color: #008080; font-weight: bold\">0.000000</span>  \n",
              "<span style=\"color: #008080; text-decoration-color: #008080; font-weight: bold\">50</span>%                 <span style=\"color: #008080; text-decoration-color: #008080; font-weight: bold\">0.0</span>                     <span style=\"color: #008080; text-decoration-color: #008080; font-weight: bold\">0.000000</span>  \n",
              "<span style=\"color: #008080; text-decoration-color: #008080; font-weight: bold\">75</span>%                 <span style=\"color: #008080; text-decoration-color: #008080; font-weight: bold\">0.0</span>                     <span style=\"color: #008080; text-decoration-color: #008080; font-weight: bold\">0.000000</span>  \n",
              "max                <span style=\"color: #008080; text-decoration-color: #008080; font-weight: bold\">43.0</span>                     <span style=\"color: #008080; text-decoration-color: #008080; font-weight: bold\">0.375000</span>  \n",
              "</pre>\n"
            ],
            "text/plain": [
              "       landing_page  user_count   sessions  page_views  session_bounce_rate  \\\n",
              "count    \u001b[1;36m131.000000\u001b[0m       \u001b[1;36m131.0\u001b[0m      \u001b[1;36m131.0\u001b[0m       \u001b[1;36m131.0\u001b[0m           \u001b[1;36m131.000000\u001b[0m   \n",
              "mean      \u001b[1;36m64.000000\u001b[0m   \u001b[1;36m20.618321\u001b[0m  \u001b[1;36m21.748092\u001b[0m   \u001b[1;36m72.503817\u001b[0m             \u001b[1;36m0.076336\u001b[0m   \n",
              "std       \u001b[1;36m37.960506\u001b[0m   \u001b[1;36m75.665301\u001b[0m  \u001b[1;36m80.223183\u001b[0m  \u001b[1;36m292.252403\u001b[0m             \u001b[1;36m0.227429\u001b[0m   \n",
              "min       \u001b[1;36m-1.000000\u001b[0m         \u001b[1;36m1.0\u001b[0m        \u001b[1;36m1.0\u001b[0m         \u001b[1;36m0.0\u001b[0m             \u001b[1;36m0.000000\u001b[0m   \n",
              "\u001b[1;36m25\u001b[0m%       \u001b[1;36m31.500000\u001b[0m         \u001b[1;36m1.0\u001b[0m        \u001b[1;36m1.0\u001b[0m         \u001b[1;36m2.0\u001b[0m             \u001b[1;36m0.000000\u001b[0m   \n",
              "\u001b[1;36m50\u001b[0m%       \u001b[1;36m64.000000\u001b[0m         \u001b[1;36m2.0\u001b[0m        \u001b[1;36m3.0\u001b[0m         \u001b[1;36m6.0\u001b[0m             \u001b[1;36m0.000000\u001b[0m   \n",
              "\u001b[1;36m75\u001b[0m%       \u001b[1;36m96.500000\u001b[0m         \u001b[1;36m6.5\u001b[0m        \u001b[1;36m7.0\u001b[0m        \u001b[1;36m25.0\u001b[0m             \u001b[1;36m0.000000\u001b[0m   \n",
              "max      \u001b[1;36m129.000000\u001b[0m       \u001b[1;36m516.0\u001b[0m      \u001b[1;36m561.0\u001b[0m      \u001b[1;36m2374.0\u001b[0m             \u001b[1;36m1.000000\u001b[0m   \n",
              "\n",
              "       new_users  session_engagement_rate  ga4_session_duration  \\\n",
              "count      \u001b[1;36m131.0\u001b[0m               \u001b[1;36m131.000000\u001b[0m            \u001b[1;36m111.000000\u001b[0m   \n",
              "mean   \u001b[1;36m16.236641\u001b[0m                 \u001b[1;36m0.790882\u001b[0m             \u001b[1;36m23.680102\u001b[0m   \n",
              "std    \u001b[1;36m65.019622\u001b[0m                 \u001b[1;36m0.319267\u001b[0m             \u001b[1;36m42.154016\u001b[0m   \n",
              "min          \u001b[1;36m0.0\u001b[0m                 \u001b[1;36m0.000000\u001b[0m              \u001b[1;36m0.002000\u001b[0m   \n",
              "\u001b[1;36m25\u001b[0m%          \u001b[1;36m1.0\u001b[0m                 \u001b[1;36m0.666667\u001b[0m              \u001b[1;36m2.974750\u001b[0m   \n",
              "\u001b[1;36m50\u001b[0m%          \u001b[1;36m1.0\u001b[0m                 \u001b[1;36m1.000000\u001b[0m             \u001b[1;36m10.004273\u001b[0m   \n",
              "\u001b[1;36m75\u001b[0m%          \u001b[1;36m4.0\u001b[0m                 \u001b[1;36m1.000000\u001b[0m             \u001b[1;36m22.813744\u001b[0m   \n",
              "max        \u001b[1;36m429.0\u001b[0m                 \u001b[1;36m1.000000\u001b[0m            \u001b[1;36m303.127000\u001b[0m   \n",
              "\n",
              "       ua_session_duration  purchases  ecomm_conversion_rate  revenue  \\\n",
              "count           \u001b[1;36m131.000000\u001b[0m      \u001b[1;36m131.0\u001b[0m             \u001b[1;36m131.000000\u001b[0m      \u001b[1;36m0.0\u001b[0m   \n",
              "mean            \u001b[1;36m169.077733\u001b[0m   \u001b[1;36m0.145038\u001b[0m               \u001b[1;36m0.017422\u001b[0m      NaN   \n",
              "std             \u001b[1;36m430.597549\u001b[0m   \u001b[1;36m0.878129\u001b[0m               \u001b[1;36m0.108241\u001b[0m      NaN   \n",
              "min               \u001b[1;36m0.000000\u001b[0m        \u001b[1;36m0.0\u001b[0m               \u001b[1;36m0.000000\u001b[0m      NaN   \n",
              "\u001b[1;36m25\u001b[0m%               \u001b[1;36m4.000000\u001b[0m        \u001b[1;36m0.0\u001b[0m               \u001b[1;36m0.000000\u001b[0m      NaN   \n",
              "\u001b[1;36m50\u001b[0m%              \u001b[1;36m29.500000\u001b[0m        \u001b[1;36m0.0\u001b[0m               \u001b[1;36m0.000000\u001b[0m      NaN   \n",
              "\u001b[1;36m75\u001b[0m%             \u001b[1;36m185.383333\u001b[0m        \u001b[1;36m0.0\u001b[0m               \u001b[1;36m0.000000\u001b[0m      NaN   \n",
              "max            \u001b[1;36m3854.000000\u001b[0m        \u001b[1;36m9.0\u001b[0m               \u001b[1;36m1.000000\u001b[0m      NaN   \n",
              "\n",
              "       select_promotion  select_promotion_conversion  \n",
              "count             \u001b[1;36m131.0\u001b[0m                   \u001b[1;36m131.000000\u001b[0m  \n",
              "mean           \u001b[1;36m0.541985\u001b[0m                     \u001b[1;36m0.006141\u001b[0m  \n",
              "std             \u001b[1;36m3.93458\u001b[0m                     \u001b[1;36m0.036283\u001b[0m  \n",
              "min                 \u001b[1;36m0.0\u001b[0m                     \u001b[1;36m0.000000\u001b[0m  \n",
              "\u001b[1;36m25\u001b[0m%                 \u001b[1;36m0.0\u001b[0m                     \u001b[1;36m0.000000\u001b[0m  \n",
              "\u001b[1;36m50\u001b[0m%                 \u001b[1;36m0.0\u001b[0m                     \u001b[1;36m0.000000\u001b[0m  \n",
              "\u001b[1;36m75\u001b[0m%                 \u001b[1;36m0.0\u001b[0m                     \u001b[1;36m0.000000\u001b[0m  \n",
              "max                \u001b[1;36m43.0\u001b[0m                     \u001b[1;36m0.375000\u001b[0m  \n"
            ]
          },
          "metadata": {},
          "output_type": "display_data"
        }
      ],
      "source": [
        "\n",
        "# Columns to delete\n",
        "columns_to_delete = [\n",
        "    'ecommerce.tax_value', 'ecommerce.shipping_value_in_usd', 'ecommerce.purchase_revenue',\n",
        "    'user_id', 'ecommerce.refund_value', 'ecommerce.shipping_value',\n",
        "    'event_dimensions.hostname', 'ecommerce.refund_value_in_usd',\n",
        "    'ecommerce.tax_value_in_usd', 'event_value_in_usd', 'event_previous_timestamp',\n",
        "    'event_server_timestamp_offset', 'ecommerce.purchase_revenue_in_usd',\n",
        "    'ecommerce.total_item_quantity', 'items.item_id', 'ecommerce.unique_items',\n",
        "    'ecommerce.transaction_id'\n",
        "]\n",
        "\n",
        "# Drop columns\n",
        "df = df.drop(columns=columns_to_delete, errors='ignore')\n",
        "\n",
        "console.print(\"[bold green]Columns deleted.[/bold green]\")\n",
        "\n",
        "# Convert categorical data to numeric\n",
        "char_cols = df.select_dtypes(include=['object']).columns\n",
        "for c in char_cols:\n",
        "    df[c] = pd.factorize(df[c])[0]\n",
        "\n",
        "console.print(\"[bold green]Categorical data converted to numeric.[/bold green]\")\n",
        "\n",
        "# Show first 5 rows\n",
        "console.print(\"\\n[bold]First 5 rows:[/bold]\")\n",
        "table = Table(show_header=True, header_style=\"bold magenta\")\n",
        "\n",
        "# Add column headers\n",
        "for column in df.columns:\n",
        "    table.add_column(column)\n",
        "\n",
        "# Add first 5 rows\n",
        "for _, row in df.head().iterrows():\n",
        "    table.add_row(*[str(value) for value in row])\n",
        "\n",
        "console.print(table)\n",
        "\n",
        "# General information about the dataset\n",
        "console.print(\"\\n[bold]Dataset Information:[/bold]\")\n",
        "console.print(f\"Number of rows: {df.shape[0]}\")\n",
        "console.print(f\"Number of columns: {df.shape[1]}\")\n",
        "\n",
        "# Show data types\n",
        "console.print(\"\\n[bold]Data Types:[/bold]\")\n",
        "for column, dtype in df.dtypes.items():\n",
        "    console.print(f\"{column}: {dtype}\")\n",
        "\n",
        "# Show number of missing values\n",
        "console.print(\"\\n[bold]Missing Values Count:[/bold]\")\n",
        "missing_values = df.isnull().sum()\n",
        "for column, count in missing_values.items():\n",
        "    if count > 0:\n",
        "        console.print(f\"{column}: {count}\")\n",
        "\n",
        "# Descriptive statistics\n",
        "console.print(\"\\n[bold]Descriptive Statistics:[/bold]\")\n",
        "desc_stats = df.describe()\n",
        "console.print(desc_stats)\n"
      ]
    },
    {
      "cell_type": "markdown",
      "metadata": {
        "id": "mOP-wyXl7QUC"
      },
      "source": [
        "#ML Model"
      ]
    },
    {
      "cell_type": "code",
      "execution_count": null,
      "metadata": {
        "colab": {
          "base_uri": "https://localhost:8080/",
          "height": 913
        },
        "id": "6OZUgiEVCUeM",
        "outputId": "8b3b57f8-dae6-4444-c74c-dfd5dd61ff12"
      },
      "outputs": [
        {
          "data": {
            "text/html": [
              "<pre style=\"white-space:pre;overflow-x:auto;line-height:normal;font-family:Menlo,'DejaVu Sans Mono',consolas,'Courier New',monospace\"><span style=\"font-weight: bold\">Available columns in the dataset:</span>\n",
              "</pre>\n"
            ],
            "text/plain": [
              "\u001b[1mAvailable columns in the dataset:\u001b[0m\n"
            ]
          },
          "metadata": {},
          "output_type": "display_data"
        },
        {
          "data": {
            "text/html": [
              "<pre style=\"white-space:pre;overflow-x:auto;line-height:normal;font-family:Menlo,'DejaVu Sans Mono',consolas,'Courier New',monospace\"><span style=\"font-weight: bold\">[</span>\n",
              "    <span style=\"color: #008000; text-decoration-color: #008000\">'landing_page'</span>,\n",
              "    <span style=\"color: #008000; text-decoration-color: #008000\">'user_count'</span>,\n",
              "    <span style=\"color: #008000; text-decoration-color: #008000\">'sessions'</span>,\n",
              "    <span style=\"color: #008000; text-decoration-color: #008000\">'page_views'</span>,\n",
              "    <span style=\"color: #008000; text-decoration-color: #008000\">'session_bounce_rate'</span>,\n",
              "    <span style=\"color: #008000; text-decoration-color: #008000\">'new_users'</span>,\n",
              "    <span style=\"color: #008000; text-decoration-color: #008000\">'session_engagement_rate'</span>,\n",
              "    <span style=\"color: #008000; text-decoration-color: #008000\">'ga4_session_duration'</span>,\n",
              "    <span style=\"color: #008000; text-decoration-color: #008000\">'ua_session_duration'</span>,\n",
              "    <span style=\"color: #008000; text-decoration-color: #008000\">'purchases'</span>,\n",
              "    <span style=\"color: #008000; text-decoration-color: #008000\">'ecomm_conversion_rate'</span>,\n",
              "    <span style=\"color: #008000; text-decoration-color: #008000\">'revenue'</span>,\n",
              "    <span style=\"color: #008000; text-decoration-color: #008000\">'select_promotion'</span>,\n",
              "    <span style=\"color: #008000; text-decoration-color: #008000\">'select_promotion_conversion'</span>\n",
              "<span style=\"font-weight: bold\">]</span>\n",
              "</pre>\n"
            ],
            "text/plain": [
              "\u001b[1m[\u001b[0m\n",
              "    \u001b[32m'landing_page'\u001b[0m,\n",
              "    \u001b[32m'user_count'\u001b[0m,\n",
              "    \u001b[32m'sessions'\u001b[0m,\n",
              "    \u001b[32m'page_views'\u001b[0m,\n",
              "    \u001b[32m'session_bounce_rate'\u001b[0m,\n",
              "    \u001b[32m'new_users'\u001b[0m,\n",
              "    \u001b[32m'session_engagement_rate'\u001b[0m,\n",
              "    \u001b[32m'ga4_session_duration'\u001b[0m,\n",
              "    \u001b[32m'ua_session_duration'\u001b[0m,\n",
              "    \u001b[32m'purchases'\u001b[0m,\n",
              "    \u001b[32m'ecomm_conversion_rate'\u001b[0m,\n",
              "    \u001b[32m'revenue'\u001b[0m,\n",
              "    \u001b[32m'select_promotion'\u001b[0m,\n",
              "    \u001b[32m'select_promotion_conversion'\u001b[0m\n",
              "\u001b[1m]\u001b[0m\n"
            ]
          },
          "metadata": {},
          "output_type": "display_data"
        },
        {
          "data": {
            "text/html": [
              "<pre style=\"white-space:pre;overflow-x:auto;line-height:normal;font-family:Menlo,'DejaVu Sans Mono',consolas,'Courier New',monospace\"><span style=\"color: #008000; text-decoration-color: #008000; font-weight: bold\">Correlation heatmap saved as </span><span style=\"color: #008000; text-decoration-color: #008000; font-weight: bold\">'purchases_correlation_heatmap.png'</span><span style=\"color: #008000; text-decoration-color: #008000; font-weight: bold\">.</span>\n",
              "</pre>\n"
            ],
            "text/plain": [
              "\u001b[1;32mCorrelation heatmap saved as \u001b[0m\u001b[1;32m'purchases_correlation_heatmap.png'\u001b[0m\u001b[1;32m.\u001b[0m\n"
            ]
          },
          "metadata": {},
          "output_type": "display_data"
        },
        {
          "data": {
            "text/html": [
              "<pre style=\"white-space:pre;overflow-x:auto;line-height:normal;font-family:Menlo,'DejaVu Sans Mono',consolas,'Courier New',monospace\">\n",
              "<span style=\"font-weight: bold\">Top Correlations with Purchases:</span>\n",
              "</pre>\n"
            ],
            "text/plain": [
              "\n",
              "\u001b[1mTop Correlations with Purchases:\u001b[0m\n"
            ]
          },
          "metadata": {},
          "output_type": "display_data"
        },
        {
          "data": {
            "text/html": [
              "<pre style=\"white-space:pre;overflow-x:auto;line-height:normal;font-family:Menlo,'DejaVu Sans Mono',consolas,'Courier New',monospace\">┏━━━━━━━━━━━━━━━━━━━━━━━━━━━━━┳━━━━━━━━━━━━━┓\n",
              "┃<span style=\"color: #800080; text-decoration-color: #800080; font-weight: bold\"> Variable                    </span>┃<span style=\"color: #800080; text-decoration-color: #800080; font-weight: bold\"> Correlation </span>┃\n",
              "┡━━━━━━━━━━━━━━━━━━━━━━━━━━━━━╇━━━━━━━━━━━━━┩\n",
              "│<span style=\"color: #7f7f7f; text-decoration-color: #7f7f7f\"> purchases                   </span>│      1.0000 │\n",
              "│<span style=\"color: #7f7f7f; text-decoration-color: #7f7f7f\"> select_promotion            </span>│      0.9567 │\n",
              "│<span style=\"color: #7f7f7f; text-decoration-color: #7f7f7f\"> page_views                  </span>│      0.8883 │\n",
              "│<span style=\"color: #7f7f7f; text-decoration-color: #7f7f7f\"> sessions                    </span>│      0.8051 │\n",
              "│<span style=\"color: #7f7f7f; text-decoration-color: #7f7f7f\"> user_count                  </span>│      0.7808 │\n",
              "│<span style=\"color: #7f7f7f; text-decoration-color: #7f7f7f\"> new_users                   </span>│      0.7405 │\n",
              "│<span style=\"color: #7f7f7f; text-decoration-color: #7f7f7f\"> ecomm_conversion_rate       </span>│      0.1701 │\n",
              "│<span style=\"color: #7f7f7f; text-decoration-color: #7f7f7f\"> select_promotion_conversion </span>│      0.1626 │\n",
              "│<span style=\"color: #7f7f7f; text-decoration-color: #7f7f7f\"> ga4_session_duration        </span>│      0.0739 │\n",
              "│<span style=\"color: #7f7f7f; text-decoration-color: #7f7f7f\"> session_engagement_rate     </span>│      0.0616 │\n",
              "│<span style=\"color: #7f7f7f; text-decoration-color: #7f7f7f\"> ua_session_duration         </span>│      0.0588 │\n",
              "│<span style=\"color: #7f7f7f; text-decoration-color: #7f7f7f\"> session_bounce_rate         </span>│     -0.0420 │\n",
              "│<span style=\"color: #7f7f7f; text-decoration-color: #7f7f7f\"> landing_page                </span>│     -0.2308 │\n",
              "│<span style=\"color: #7f7f7f; text-decoration-color: #7f7f7f\"> revenue                     </span>│         nan │\n",
              "└─────────────────────────────┴─────────────┘\n",
              "</pre>\n"
            ],
            "text/plain": [
              "┏━━━━━━━━━━━━━━━━━━━━━━━━━━━━━┳━━━━━━━━━━━━━┓\n",
              "┃\u001b[1;35m \u001b[0m\u001b[1;35mVariable                   \u001b[0m\u001b[1;35m \u001b[0m┃\u001b[1;35m \u001b[0m\u001b[1;35mCorrelation\u001b[0m\u001b[1;35m \u001b[0m┃\n",
              "┡━━━━━━━━━━━━━━━━━━━━━━━━━━━━━╇━━━━━━━━━━━━━┩\n",
              "│\u001b[2m \u001b[0m\u001b[2mpurchases                  \u001b[0m\u001b[2m \u001b[0m│      1.0000 │\n",
              "│\u001b[2m \u001b[0m\u001b[2mselect_promotion           \u001b[0m\u001b[2m \u001b[0m│      0.9567 │\n",
              "│\u001b[2m \u001b[0m\u001b[2mpage_views                 \u001b[0m\u001b[2m \u001b[0m│      0.8883 │\n",
              "│\u001b[2m \u001b[0m\u001b[2msessions                   \u001b[0m\u001b[2m \u001b[0m│      0.8051 │\n",
              "│\u001b[2m \u001b[0m\u001b[2muser_count                 \u001b[0m\u001b[2m \u001b[0m│      0.7808 │\n",
              "│\u001b[2m \u001b[0m\u001b[2mnew_users                  \u001b[0m\u001b[2m \u001b[0m│      0.7405 │\n",
              "│\u001b[2m \u001b[0m\u001b[2mecomm_conversion_rate      \u001b[0m\u001b[2m \u001b[0m│      0.1701 │\n",
              "│\u001b[2m \u001b[0m\u001b[2mselect_promotion_conversion\u001b[0m\u001b[2m \u001b[0m│      0.1626 │\n",
              "│\u001b[2m \u001b[0m\u001b[2mga4_session_duration       \u001b[0m\u001b[2m \u001b[0m│      0.0739 │\n",
              "│\u001b[2m \u001b[0m\u001b[2msession_engagement_rate    \u001b[0m\u001b[2m \u001b[0m│      0.0616 │\n",
              "│\u001b[2m \u001b[0m\u001b[2mua_session_duration        \u001b[0m\u001b[2m \u001b[0m│      0.0588 │\n",
              "│\u001b[2m \u001b[0m\u001b[2msession_bounce_rate        \u001b[0m\u001b[2m \u001b[0m│     -0.0420 │\n",
              "│\u001b[2m \u001b[0m\u001b[2mlanding_page               \u001b[0m\u001b[2m \u001b[0m│     -0.2308 │\n",
              "│\u001b[2m \u001b[0m\u001b[2mrevenue                    \u001b[0m\u001b[2m \u001b[0m│         nan │\n",
              "└─────────────────────────────┴─────────────┘\n"
            ]
          },
          "metadata": {},
          "output_type": "display_data"
        },
        {
          "data": {
            "text/html": [
              "<pre style=\"white-space:pre;overflow-x:auto;line-height:normal;font-family:Menlo,'DejaVu Sans Mono',consolas,'Courier New',monospace\">\n",
              "<span style=\"font-weight: bold\">Variables with Absolute Correlation &gt; </span><span style=\"color: #008080; text-decoration-color: #008080; font-weight: bold\">0.3</span><span style=\"font-weight: bold\"> to Purchases:</span>\n",
              "</pre>\n"
            ],
            "text/plain": [
              "\n",
              "\u001b[1mVariables with Absolute Correlation > \u001b[0m\u001b[1;36m0.3\u001b[0m\u001b[1m to Purchases:\u001b[0m\n"
            ]
          },
          "metadata": {},
          "output_type": "display_data"
        },
        {
          "data": {
            "text/html": [
              "<pre style=\"white-space:pre;overflow-x:auto;line-height:normal;font-family:Menlo,'DejaVu Sans Mono',consolas,'Courier New',monospace\">┏━━━━━━━━━━━━━━━━━━┳━━━━━━━━━━━━━┓\n",
              "┃<span style=\"color: #800080; text-decoration-color: #800080; font-weight: bold\"> Variable         </span>┃<span style=\"color: #800080; text-decoration-color: #800080; font-weight: bold\"> Correlation </span>┃\n",
              "┡━━━━━━━━━━━━━━━━━━╇━━━━━━━━━━━━━┩\n",
              "│<span style=\"color: #7f7f7f; text-decoration-color: #7f7f7f\"> purchases        </span>│      1.0000 │\n",
              "│<span style=\"color: #7f7f7f; text-decoration-color: #7f7f7f\"> select_promotion </span>│      0.9567 │\n",
              "│<span style=\"color: #7f7f7f; text-decoration-color: #7f7f7f\"> page_views       </span>│      0.8883 │\n",
              "│<span style=\"color: #7f7f7f; text-decoration-color: #7f7f7f\"> sessions         </span>│      0.8051 │\n",
              "│<span style=\"color: #7f7f7f; text-decoration-color: #7f7f7f\"> user_count       </span>│      0.7808 │\n",
              "│<span style=\"color: #7f7f7f; text-decoration-color: #7f7f7f\"> new_users        </span>│      0.7405 │\n",
              "└──────────────────┴─────────────┘\n",
              "</pre>\n"
            ],
            "text/plain": [
              "┏━━━━━━━━━━━━━━━━━━┳━━━━━━━━━━━━━┓\n",
              "┃\u001b[1;35m \u001b[0m\u001b[1;35mVariable        \u001b[0m\u001b[1;35m \u001b[0m┃\u001b[1;35m \u001b[0m\u001b[1;35mCorrelation\u001b[0m\u001b[1;35m \u001b[0m┃\n",
              "┡━━━━━━━━━━━━━━━━━━╇━━━━━━━━━━━━━┩\n",
              "│\u001b[2m \u001b[0m\u001b[2mpurchases       \u001b[0m\u001b[2m \u001b[0m│      1.0000 │\n",
              "│\u001b[2m \u001b[0m\u001b[2mselect_promotion\u001b[0m\u001b[2m \u001b[0m│      0.9567 │\n",
              "│\u001b[2m \u001b[0m\u001b[2mpage_views      \u001b[0m\u001b[2m \u001b[0m│      0.8883 │\n",
              "│\u001b[2m \u001b[0m\u001b[2msessions        \u001b[0m\u001b[2m \u001b[0m│      0.8051 │\n",
              "│\u001b[2m \u001b[0m\u001b[2muser_count      \u001b[0m\u001b[2m \u001b[0m│      0.7808 │\n",
              "│\u001b[2m \u001b[0m\u001b[2mnew_users       \u001b[0m\u001b[2m \u001b[0m│      0.7405 │\n",
              "└──────────────────┴─────────────┘\n"
            ]
          },
          "metadata": {},
          "output_type": "display_data"
        },
        {
          "data": {
            "text/html": [
              "<pre style=\"white-space:pre;overflow-x:auto;line-height:normal;font-family:Menlo,'DejaVu Sans Mono',consolas,'Courier New',monospace\">\n",
              "<span style=\"font-weight: bold\">Purchase Statistics:</span>\n",
              "</pre>\n"
            ],
            "text/plain": [
              "\n",
              "\u001b[1mPurchase Statistics:\u001b[0m\n"
            ]
          },
          "metadata": {},
          "output_type": "display_data"
        },
        {
          "data": {
            "text/html": [
              "<pre style=\"white-space:pre;overflow-x:auto;line-height:normal;font-family:Menlo,'DejaVu Sans Mono',consolas,'Courier New',monospace\">Total number of sessions: <span style=\"color: #008080; text-decoration-color: #008080; font-weight: bold\">2849</span>\n",
              "</pre>\n"
            ],
            "text/plain": [
              "Total number of sessions: \u001b[1;36m2849\u001b[0m\n"
            ]
          },
          "metadata": {},
          "output_type": "display_data"
        },
        {
          "data": {
            "text/html": [
              "<pre style=\"white-space:pre;overflow-x:auto;line-height:normal;font-family:Menlo,'DejaVu Sans Mono',consolas,'Courier New',monospace\">Total number of purchases: <span style=\"color: #008080; text-decoration-color: #008080; font-weight: bold\">19</span>\n",
              "</pre>\n"
            ],
            "text/plain": [
              "Total number of purchases: \u001b[1;36m19\u001b[0m\n"
            ]
          },
          "metadata": {},
          "output_type": "display_data"
        },
        {
          "data": {
            "text/html": [
              "<pre style=\"white-space:pre;overflow-x:auto;line-height:normal;font-family:Menlo,'DejaVu Sans Mono',consolas,'Courier New',monospace\">Purchase rate: <span style=\"color: #008080; text-decoration-color: #008080; font-weight: bold\">0.67</span>%\n",
              "</pre>\n"
            ],
            "text/plain": [
              "Purchase rate: \u001b[1;36m0.67\u001b[0m%\n"
            ]
          },
          "metadata": {},
          "output_type": "display_data"
        },
        {
          "data": {
            "text/html": [
              "<pre style=\"white-space:pre;overflow-x:auto;line-height:normal;font-family:Menlo,'DejaVu Sans Mono',consolas,'Courier New',monospace\">\n",
              "<span style=\"font-weight: bold\">Revenue Analysis:</span>\n",
              "</pre>\n"
            ],
            "text/plain": [
              "\n",
              "\u001b[1mRevenue Analysis:\u001b[0m\n"
            ]
          },
          "metadata": {},
          "output_type": "display_data"
        },
        {
          "data": {
            "text/html": [
              "<pre style=\"white-space:pre;overflow-x:auto;line-height:normal;font-family:Menlo,'DejaVu Sans Mono',consolas,'Courier New',monospace\">Average revenue per purchase: $<span style=\"font-weight: bold\">&lt;</span><span style=\"color: #ff00ff; text-decoration-color: #ff00ff; font-weight: bold\">NA</span><span style=\"font-weight: bold\">&gt;</span>\n",
              "</pre>\n"
            ],
            "text/plain": [
              "Average revenue per purchase: $\u001b[1m<\u001b[0m\u001b[1;95mNA\u001b[0m\u001b[1m>\u001b[0m\n"
            ]
          },
          "metadata": {},
          "output_type": "display_data"
        },
        {
          "data": {
            "text/html": [
              "<pre style=\"white-space:pre;overflow-x:auto;line-height:normal;font-family:Menlo,'DejaVu Sans Mono',consolas,'Courier New',monospace\"><span style=\"color: #008000; text-decoration-color: #008000; font-weight: bold\">Scatter plot of Sessions vs Purchases saved as </span><span style=\"color: #008000; text-decoration-color: #008000; font-weight: bold\">'sessions_vs_purchases_scatter.png'</span><span style=\"color: #008000; text-decoration-color: #008000; font-weight: bold\">.</span>\n",
              "</pre>\n"
            ],
            "text/plain": [
              "\u001b[1;32mScatter plot of Sessions vs Purchases saved as \u001b[0m\u001b[1;32m'sessions_vs_purchases_scatter.png'\u001b[0m\u001b[1;32m.\u001b[0m\n"
            ]
          },
          "metadata": {},
          "output_type": "display_data"
        },
        {
          "data": {
            "text/html": [
              "<pre style=\"white-space:pre;overflow-x:auto;line-height:normal;font-family:Menlo,'DejaVu Sans Mono',consolas,'Courier New',monospace\"><span style=\"color: #008000; text-decoration-color: #008000; font-weight: bold\">Bar plot of top landing pages by purchases saved as </span><span style=\"color: #008000; text-decoration-color: #008000; font-weight: bold\">'top_landing_pages_by_purchases.png'</span><span style=\"color: #008000; text-decoration-color: #008000; font-weight: bold\">.</span>\n",
              "</pre>\n"
            ],
            "text/plain": [
              "\u001b[1;32mBar plot of top landing pages by purchases saved as \u001b[0m\u001b[1;32m'top_landing_pages_by_purchases.png'\u001b[0m\u001b[1;32m.\u001b[0m\n"
            ]
          },
          "metadata": {},
          "output_type": "display_data"
        }
      ],
      "source": [
        "\n",
        "\n",
        "# Display available columns\n",
        "console.print(\"[bold]Available columns in the dataset:[/bold]\")\n",
        "console.print(df.columns.tolist())\n",
        "\n",
        "# Calculate correlation with the 'purchases' variable\n",
        "target_correlations = df.corr()['purchases'].sort_values(ascending=False)\n",
        "\n",
        "# Convert correlation values to a 2D array\n",
        "target_correlations_2d = target_correlations.values[:, np.newaxis]\n",
        "\n",
        "# Create a heatmap\n",
        "plt.figure(figsize=(12, 20))\n",
        "sns.heatmap(target_correlations_2d, annot=True, cmap='coolwarm', cbar=True,\n",
        "            yticklabels=target_correlations.index, fmt='.2f')\n",
        "plt.title(\"Correlation of Variables with Purchases\")\n",
        "plt.tight_layout()\n",
        "plt.savefig('purchases_correlation_heatmap.png')\n",
        "plt.close()\n",
        "\n",
        "console.print(\"[bold green]Correlation heatmap saved as 'purchases_correlation_heatmap.png'.[/bold green]\")\n",
        "\n",
        "# Display top correlations\n",
        "console.print(\"\\n[bold]Top Correlations with Purchases:[/bold]\")\n",
        "table = Table(show_header=True, header_style=\"bold magenta\")\n",
        "table.add_column(\"Variable\", style=\"dim\")\n",
        "table.add_column(\"Correlation\", justify=\"right\")\n",
        "for var, corr in target_correlations.items():\n",
        "    table.add_row(var, f\"{corr:.4f}\")\n",
        "console.print(table)\n",
        "\n",
        "# Display variables with absolute correlation greater than 0.3\n",
        "high_corr = target_correlations[abs(target_correlations) > 0.3]\n",
        "if not high_corr.empty:\n",
        "    console.print(\"\\n[bold]Variables with Absolute Correlation > 0.3 to Purchases:[/bold]\")\n",
        "    table = Table(show_header=True, header_style=\"bold magenta\")\n",
        "    table.add_column(\"Variable\", style=\"dim\")\n",
        "    table.add_column(\"Correlation\", justify=\"right\")\n",
        "    for var, corr in high_corr.items():\n",
        "        table.add_row(var, f\"{corr:.4f}\")\n",
        "    console.print(table)\n",
        "else:\n",
        "    console.print(\"\\n[bold yellow]No variables found with absolute correlation > 0.3.[/bold yellow]\")\n",
        "\n",
        "# Display general statistics for purchases\n",
        "total_sessions = df['sessions'].sum()\n",
        "total_purchases = df['purchases'].sum()\n",
        "purchase_rate = total_purchases / total_sessions\n",
        "\n",
        "console.print(f\"\\n[bold]Purchase Statistics:[/bold]\")\n",
        "console.print(f\"Total number of sessions: {total_sessions}\")\n",
        "console.print(f\"Total number of purchases: {total_purchases}\")\n",
        "console.print(f\"Purchase rate: {purchase_rate:.2%}\")\n",
        "\n",
        "# Additional analysis: Revenue per Purchase\n",
        "df['revenue_per_purchase'] = df['revenue'] / df['purchases']\n",
        "avg_revenue_per_purchase = df['revenue_per_purchase'].mean()\n",
        "\n",
        "console.print(f\"\\n[bold]Revenue Analysis:[/bold]\")\n",
        "console.print(f\"Average revenue per purchase: ${avg_revenue_per_purchase:.2f}\")\n",
        "\n",
        "# Scatter plot of Sessions vs Purchases\n",
        "plt.figure(figsize=(10, 6))\n",
        "plt.scatter(df['sessions'], df['purchases'], alpha=0.5)\n",
        "plt.xlabel('Sessions')\n",
        "plt.ylabel('Purchases')\n",
        "plt.title('Sessions vs Purchases')\n",
        "plt.savefig('sessions_vs_purchases_scatter.png')\n",
        "plt.close()\n",
        "\n",
        "console.print(\"[bold green]Scatter plot of Sessions vs Purchases saved as 'sessions_vs_purchases_scatter.png'.[/bold green]\")\n",
        "\n",
        "# Bar plot of top landing pages by purchases\n",
        "top_landing_pages = df.groupby('landing_page')['purchases'].sum().sort_values(ascending=False).head(10)\n",
        "plt.figure(figsize=(12, 6))\n",
        "top_landing_pages.plot(kind='bar')\n",
        "plt.title('Top 10 Landing Pages by Purchases')\n",
        "plt.xlabel('Landing Page')\n",
        "plt.ylabel('Total Purchases')\n",
        "plt.xticks(rotation=45, ha='right')\n",
        "plt.tight_layout()\n",
        "plt.savefig('top_landing_pages_by_purchases.png')\n",
        "plt.close()\n",
        "\n",
        "console.print(\"[bold green]Bar plot of top landing pages by purchases saved as 'top_landing_pages_by_purchases.png'.[/bold green]\")"
      ]
    },
    {
      "cell_type": "code",
      "execution_count": null,
      "metadata": {
        "id": "ZEc25lyqEow8"
      },
      "outputs": [],
      "source": [
        "from lightgbm import LGBMClassifier\n",
        "import logging\n",
        "from sklearn.model_selection import train_test_split, GridSearchCV, cross_val_score\n",
        "from sklearn.metrics import confusion_matrix, classification_report\n",
        "from sklearn.impute import SimpleImputer\n",
        "\n",
        "X=df.drop(['purchases'], axis=1)\n",
        "\n",
        "y=df['purchases']\n",
        "\n",
        "X_train, X_test, y_train, y_test = train_test_split(X, y,\n",
        "                                                    test_size=0.20,\n",
        "                                                    random_state=12345)\n",
        "\n",
        "\n",
        "imputer = SimpleImputer(missing_values=np.nan, strategy='mean')\n",
        "X_train = imputer.fit_transform(X_train)\n",
        "X_test = imputer.transform(X_test)"
      ]
    },
    {
      "cell_type": "code",
      "execution_count": null,
      "metadata": {
        "colab": {
          "base_uri": "https://localhost:8080/"
        },
        "id": "8OALQZ40E2WJ",
        "outputId": "6ca15615-487b-4db3-8051-21cd1b07ecbd"
      },
      "outputs": [
        {
          "name": "stdout",
          "output_type": "stream",
          "text": [
            "cross_val_score (train): 0.9327\n",
            "cross_val_score (test): 0.9062\n"
          ]
        }
      ],
      "source": [
        "\n",
        "\n",
        "lgbm_model = LGBMClassifier(random_state=12345, verbose=-1).fit(X_train, y_train)\n",
        "\n",
        "\n",
        "cv = 8\n",
        "cv_results_train = cross_val_score(lgbm_model, X_train, y_train, cv=cv, scoring=\"accuracy\")\n",
        "cv_results_test = cross_val_score(lgbm_model, X_test, y_test, cv=cv, scoring=\"accuracy\")\n",
        "\n",
        "print(f\"cross_val_score (train): {cv_results_train.mean():.4f}\")\n",
        "print(f\"cross_val_score (test): {cv_results_test.mean():.4f}\")\n",
        "\n",
        "\n",
        "y_train_pred = lgbm_model.predict(X_train)\n",
        "y_test_pred = lgbm_model.predict(X_test)\n",
        "\n",
        "\n",
        "logging.getLogger('lightgbm').setLevel(logging.ERROR)\n"
      ]
    },
    {
      "cell_type": "code",
      "execution_count": null,
      "metadata": {
        "colab": {
          "base_uri": "https://localhost:8080/",
          "height": 718
        },
        "id": "sN9_0qfeHtbp",
        "outputId": "a4619a18-70e4-4770-f035-e4927af47cb5"
      },
      "outputs": [
        {
          "data": {
            "image/png": "[encoded data removed]",
            "text/plain": [
              "<Figure size 800x800 with 1 Axes>"
            ]
          },
          "metadata": {},
          "output_type": "display_data"
        }
      ],
      "source": [
        "\n",
        "\n",
        "# Get feature importances and names\n",
        "importances = lgbm_model.feature_importances_\n",
        "features = X.columns\n",
        "\n",
        "# Sort features by their importance\n",
        "indices = np.argsort(importances)[::-1]\n",
        "sorted_features = [features[i] for i in indices]\n",
        "sorted_importances = importances[indices]\n",
        "\n",
        "# Create a color gradient (Red to Yellow)\n",
        "colors = plt.cm.RdYlBu(np.linspace(0, 1, len(sorted_features)))\n",
        "\n",
        "# Plot the graph\n",
        "plt.figure(figsize=(8, 8))\n",
        "bars = plt.barh(sorted_features, sorted_importances, color=colors)\n",
        "plt.xlabel('Importance Score')\n",
        "plt.title('Feature Importance Scores')\n",
        "plt.show()\n"
      ]
    }
  ],
  "metadata": {
    "colab": {
      "provenance": [],
      "toc_visible": true
    },
    "kernelspec": {
      "display_name": "Python 3",
      "name": "python3"
    },
    "language_info": {
      "name": "python"
    },
    "widgets": {
      "application/vnd.jupyter.widget-state+json": {
        "39147a81b31742c092d19cc0d85b278c": {
          "model_module": "@jupyter-widgets/output",
          "model_module_version": "1.0.0",
          "model_name": "OutputModel",
          "state": {
            "_dom_classes": [],
            "_model_module": "@jupyter-widgets/output",
            "_model_module_version": "1.0.0",
            "_model_name": "OutputModel",
            "_view_count": null,
            "_view_module": "@jupyter-widgets/output",
            "_view_module_version": "1.0.0",
            "_view_name": "OutputView",
            "layout": "IPY_MODEL_570a281a60f04683b129b4a1f4e04323",
            "msg_id": "",
            "outputs": [
              {
                "data": {
                  "text/html": "<pre style=\"white-space:pre;overflow-x:auto;line-height:normal;font-family:Menlo,'DejaVu Sans Mono',consolas,'Courier New',monospace\"><span style=\"color: #008000; text-decoration-color: #008000\">⠦</span> <span style=\"color: #008000; text-decoration-color: #008000; font-weight: bold\">Configuration complete!</span>\n</pre>\n",
                  "text/plain": "\u001b[32m⠦\u001b[0m \u001b[1;32mConfiguration complete!\u001b[0m\n"
                },
                "metadata": {},
                "output_type": "display_data"
              }
            ]
          }
        },
        "570a281a60f04683b129b4a1f4e04323": {
          "model_module": "@jupyter-widgets/base",
          "model_module_version": "1.2.0",
          "model_name": "LayoutModel",
          "state": {
            "_model_module": "@jupyter-widgets/base",
            "_model_module_version": "1.2.0",
            "_model_name": "LayoutModel",
            "_view_count": null,
            "_view_module": "@jupyter-widgets/base",
            "_view_module_version": "1.2.0",
            "_view_name": "LayoutView",
            "align_content": null,
            "align_items": null,
            "align_self": null,
            "border": null,
            "bottom": null,
            "display": null,
            "flex": null,
            "flex_flow": null,
            "grid_area": null,
            "grid_auto_columns": null,
            "grid_auto_flow": null,
            "grid_auto_rows": null,
            "grid_column": null,
            "grid_gap": null,
            "grid_row": null,
            "grid_template_areas": null,
            "grid_template_columns": null,
            "grid_template_rows": null,
            "height": null,
            "justify_content": null,
            "justify_items": null,
            "left": null,
            "margin": null,
            "max_height": null,
            "max_width": null,
            "min_height": null,
            "min_width": null,
            "object_fit": null,
            "object_position": null,
            "order": null,
            "overflow": null,
            "overflow_x": null,
            "overflow_y": null,
            "padding": null,
            "right": null,
            "top": null,
            "visibility": null,
            "width": null
          }
        }
      }
    }
  },
  "nbformat": 4,
  "nbformat_minor": 0
}
